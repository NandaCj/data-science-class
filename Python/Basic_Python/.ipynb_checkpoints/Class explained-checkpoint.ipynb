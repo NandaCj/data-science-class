{
 "cells": [
  {
   "cell_type": "code",
   "execution_count": 2,
   "metadata": {},
   "outputs": [
    {
     "data": {
      "text/plain": [
       "'\\nSyntax:\\n\\nclass ClassName ():\\n    class attributes # variables and Methods\\n\\n'"
      ]
     },
     "execution_count": 2,
     "metadata": {},
     "output_type": "execute_result"
    }
   ],
   "source": [
    "\"\"\"\n",
    "Syntax:\n",
    "\n",
    "class ClassName ():\n",
    "    class attributes # variables and Methods\n",
    "\n",
    "\"\"\""
   ]
  },
  {
   "cell_type": "code",
   "execution_count": 17,
   "metadata": {},
   "outputs": [],
   "source": [
    "class Human :  # class with only Variables\n",
    "    Hands = 2\n",
    "    Legs = 2\n",
    "    Eyes = 2\n",
    "    Fingers = 5"
   ]
  },
  {
   "cell_type": "code",
   "execution_count": 18,
   "metadata": {},
   "outputs": [
    {
     "data": {
      "text/plain": [
       "2"
      ]
     },
     "execution_count": 18,
     "metadata": {},
     "output_type": "execute_result"
    }
   ],
   "source": [
    "# Accessing Class Variables  using Class Name\n",
    "Human.Legs"
   ]
  },
  {
   "cell_type": "code",
   "execution_count": 19,
   "metadata": {},
   "outputs": [
    {
     "data": {
      "text/plain": [
       "2"
      ]
     },
     "execution_count": 19,
     "metadata": {},
     "output_type": "execute_result"
    }
   ],
   "source": [
    "# Creating an Instance/Object and accessing Class Variables\n",
    "\n",
    "Ram = Human()\n",
    "Ram.Legs"
   ]
  },
  {
   "cell_type": "code",
   "execution_count": 21,
   "metadata": {},
   "outputs": [
    {
     "name": "stdout",
     "output_type": "stream",
     "text": [
      "{'__module__': '__main__', 'Hands': 2, 'Legs': 2, 'Eyes': 2, 'Fingers': 5, '__dict__': <attribute '__dict__' of 'Human' objects>, '__weakref__': <attribute '__weakref__' of 'Human' objects>, '__doc__': None}\n"
     ]
    }
   ],
   "source": [
    "# Variables Storages\n",
    "\n",
    "print(Human.__dict__)"
   ]
  },
  {
   "cell_type": "code",
   "execution_count": 26,
   "metadata": {},
   "outputs": [
    {
     "name": "stdout",
     "output_type": "stream",
     "text": [
      "2 2\n"
     ]
    }
   ],
   "source": [
    "Ram.Hands = 3\n",
    "\n",
    "Ram.__dict__\n",
    "\n",
    "print(Human.Hands, Ram.Legs)"
   ]
  },
  {
   "cell_type": "code",
   "execution_count": 30,
   "metadata": {},
   "outputs": [],
   "source": [
    "class Human :  # class with  Variables and Methods\n",
    "    \n",
    "    Hands = 2\n",
    "    Legs = 2\n",
    "    Eyes = 2\n",
    "    Fingers = 5\n",
    "    \n",
    "    def hand_func(self): # methods needs instance as first argument \n",
    "        print(\"Number of Hands\", self.Hands)\n",
    "    \n",
    "    def leg_func(self):\n",
    "        print(\"Legs are for Walking...\")"
   ]
  },
  {
   "cell_type": "code",
   "execution_count": 33,
   "metadata": {},
   "outputs": [
    {
     "name": "stdout",
     "output_type": "stream",
     "text": [
      "Number of Hands 3\n",
      "Number of Hands 2\n"
     ]
    }
   ],
   "source": [
    "Ram = Human()\n",
    "Ravi = Human()\n",
    "\n",
    "Ram.Hands = 3\n",
    "Ravi.Hands\n",
    "\n",
    "Ram.hand_func()\n",
    "Ravi.hand_func()"
   ]
  },
  {
   "cell_type": "code",
   "execution_count": null,
   "metadata": {},
   "outputs": [],
   "source": []
  },
  {
   "cell_type": "code",
   "execution_count": null,
   "metadata": {},
   "outputs": [],
   "source": []
  },
  {
   "cell_type": "code",
   "execution_count": 50,
   "metadata": {},
   "outputs": [],
   "source": [
    "class Human:\n",
    "    \n",
    "    hands = 2\n",
    "    legs = 2\n",
    "    eyes = 2\n",
    "    \n",
    "    def __init__(self): # constructor \n",
    "        print(\"constructor is called , human is born..\")\n",
    "    \n",
    "    def hand_fun(self):\n",
    "        print(\"hand function of \", self )\n",
    "        \n",
    "    def eyes_func(self):\n",
    "        print(\"eyes func \", self)\n",
    "    \n",
    "    def __del__(self): # destructor \n",
    "        print(\"Human is dead...\")\n",
    "        \n",
    "    "
   ]
  },
  {
   "cell_type": "code",
   "execution_count": 53,
   "metadata": {},
   "outputs": [
    {
     "name": "stdout",
     "output_type": "stream",
     "text": [
      "constructor is called , human is born..\n",
      "constructor is called , human is born..\n"
     ]
    }
   ],
   "source": [
    "Ram = Human()\n",
    "rahul = Human()\n",
    "# Ravi = Human()"
   ]
  },
  {
   "cell_type": "code",
   "execution_count": 54,
   "metadata": {},
   "outputs": [
    {
     "name": "stdout",
     "output_type": "stream",
     "text": [
      "Human is dead...\n",
      "Human is dead...\n"
     ]
    }
   ],
   "source": [
    "del(Ram)\n",
    "del(rahul)"
   ]
  },
  {
   "cell_type": "code",
   "execution_count": 6,
   "metadata": {},
   "outputs": [
    {
     "name": "stdout",
     "output_type": "stream",
     "text": [
      "2\n",
      "2\n"
     ]
    }
   ],
   "source": [
    "# Accessing class Variables and Methods \n",
    "\n",
    "print(Human.eyes) # class variables access with class name itself\n",
    "print(Ram.eyes) # class variables access with instance also..."
   ]
  },
  {
   "cell_type": "code",
   "execution_count": 7,
   "metadata": {},
   "outputs": [
    {
     "name": "stdout",
     "output_type": "stream",
     "text": [
      "{'__module__': '__main__', 'hands': 2, 'legs': 2, 'eyes': 2, '__init__': <function Human.__init__ at 0x7f003025e0d0>, 'hand_fun': <function Human.hand_fun at 0x7f003025e158>, 'eyes_func': <function Human.eyes_func at 0x7f003025e1e0>, '__del__': <function Human.__del__ at 0x7f003025e268>, '__dict__': <attribute '__dict__' of 'Human' objects>, '__weakref__': <attribute '__weakref__' of 'Human' objects>, '__doc__': None}\n",
      "{}\n"
     ]
    }
   ],
   "source": [
    "print(Human.__dict__)\n",
    "print(Ram.__dict__)"
   ]
  },
  {
   "cell_type": "code",
   "execution_count": null,
   "metadata": {},
   "outputs": [],
   "source": []
  },
  {
   "cell_type": "code",
   "execution_count": null,
   "metadata": {},
   "outputs": [],
   "source": []
  },
  {
   "cell_type": "code",
   "execution_count": null,
   "metadata": {},
   "outputs": [],
   "source": []
  },
  {
   "cell_type": "code",
   "execution_count": 55,
   "metadata": {},
   "outputs": [],
   "source": [
    "class Human():\n",
    "    \n",
    "    hands = 2\n",
    "    legs = 2\n",
    "    eyes = 2\n",
    "    \n",
    "    def __init__(self, city, father, fingers=5): # constructor \n",
    "        print(\"constructor is called , human is born.. in \", city, \"Father name :\",father, \"with Fingers:\", fingers)\n",
    "    \n",
    "    def hand_fun(self, purpose):\n",
    "        print(\"hand function of \", purpose)\n",
    "        \n",
    "    def eyes_func(self):\n",
    "        print(\"eyes func \")\n",
    "        \n",
    "    @staticmethod\n",
    "    def eat():\n",
    "        print(\"Animal and humans both eat ...\")\n",
    "    \n",
    "    @staticmethod\n",
    "    def fight():\n",
    "        print(\"Animal and humans both eat ...\")\n",
    "    \n",
    "    @staticmethod\n",
    "    def run():\n",
    "        print(\"Animal and humans both eat ...\")\n",
    "    \n",
    "    @classmethod\n",
    "    def change_hands(cls):\n",
    "        cls.hands = 1\n"
   ]
  },
  {
   "cell_type": "code",
   "execution_count": 56,
   "metadata": {},
   "outputs": [
    {
     "name": "stdout",
     "output_type": "stream",
     "text": [
      "constructor is called , human is born.. in  chennai Father name : Ram with Fingers: 5\n",
      "constructor is called , human is born.. in  New York Father name : Ravi with Fingers: 6\n"
     ]
    }
   ],
   "source": [
    "Nandha = Human('chennai', 'Ram')\n",
    "Gopal = Human('New York', 'Ravi', fingers=6)"
   ]
  },
  {
   "cell_type": "code",
   "execution_count": 10,
   "metadata": {},
   "outputs": [
    {
     "name": "stdout",
     "output_type": "stream",
     "text": [
      "hand function of  writing\n",
      "hand function of  playing\n"
     ]
    }
   ],
   "source": [
    "Nandha.hand_fun(\"writing\")\n",
    "Gopal.hand_fun(\"playing\")"
   ]
  },
  {
   "cell_type": "code",
   "execution_count": 11,
   "metadata": {},
   "outputs": [
    {
     "name": "stdout",
     "output_type": "stream",
     "text": [
      "Animal and humans both eat ...\n",
      "Animal and humans both eat ...\n"
     ]
    }
   ],
   "source": [
    "Nandha.eat()\n",
    "Human.eat()"
   ]
  },
  {
   "cell_type": "code",
   "execution_count": 15,
   "metadata": {},
   "outputs": [
    {
     "data": {
      "text/plain": [
       "1"
      ]
     },
     "execution_count": 15,
     "metadata": {},
     "output_type": "execute_result"
    }
   ],
   "source": [
    "Nandha.hands"
   ]
  },
  {
   "cell_type": "code",
   "execution_count": 13,
   "metadata": {},
   "outputs": [],
   "source": [
    "Human.change_hands()"
   ]
  },
  {
   "cell_type": "code",
   "execution_count": 14,
   "metadata": {},
   "outputs": [
    {
     "data": {
      "text/plain": [
       "1"
      ]
     },
     "execution_count": 14,
     "metadata": {},
     "output_type": "execute_result"
    }
   ],
   "source": [
    "Nandha.hands"
   ]
  },
  {
   "cell_type": "code",
   "execution_count": null,
   "metadata": {},
   "outputs": [],
   "source": []
  },
  {
   "cell_type": "code",
   "execution_count": null,
   "metadata": {},
   "outputs": [],
   "source": [
    "def decorator_function(func):\n",
    "    \n",
    "    def decorator_function_implementation():\n",
    "        print(\"Decoration started ...\")\n",
    "        func()\n",
    "    return decorator_function_implementation\n",
    "\n",
    "\n",
    "@decorator_function\n",
    "def function_tobe_decorated():\n",
    "    print (\"Function_tobe_decorated\")\n",
    "\n"
   ]
  },
  {
   "cell_type": "code",
   "execution_count": null,
   "metadata": {},
   "outputs": [],
   "source": [
    "function_tobe_decorated()"
   ]
  },
  {
   "cell_type": "code",
   "execution_count": null,
   "metadata": {},
   "outputs": [],
   "source": [
    "class A ():\n",
    "    \n",
    "    def Aa(self):\n",
    "        print(\"Aa is called...\")\n",
    "\n",
    "class B(A):\n",
    "    def Aa(self): # overriding ... \n",
    "        print(\"Aa is called from B class\")\n",
    "    \n",
    "    def Bb(self):\n",
    "        print(\"Bb is called\")\n",
    "        self.Aa()"
   ]
  },
  {
   "cell_type": "code",
   "execution_count": null,
   "metadata": {},
   "outputs": [],
   "source": [
    "b = B()\n",
    "b.Bb()"
   ]
  },
  {
   "cell_type": "code",
   "execution_count": 65,
   "metadata": {},
   "outputs": [],
   "source": [
    "\n",
    "class Human :\n",
    "    \n",
    "    @staticmethod\n",
    "    def eat(x):\n",
    "        print(\"Eat is a static method\", x)\n",
    "        \n",
    "    def write(self):\n",
    "        print(\"Write is normal Method\")"
   ]
  },
  {
   "cell_type": "code",
   "execution_count": 66,
   "metadata": {},
   "outputs": [
    {
     "name": "stdout",
     "output_type": "stream",
     "text": [
      "Eat is a static method 5\n",
      "Eat is a static method 5\n"
     ]
    }
   ],
   "source": [
    "Human.eat(5)\n",
    "\n",
    "Ram = Human()\n",
    "Ram.eat(5)"
   ]
  },
  {
   "cell_type": "code",
   "execution_count": null,
   "metadata": {},
   "outputs": [],
   "source": []
  }
 ],
 "metadata": {
  "kernelspec": {
   "display_name": "Python 3",
   "language": "python",
   "name": "python3"
  },
  "language_info": {
   "codemirror_mode": {
    "name": "ipython",
    "version": 3
   },
   "file_extension": ".py",
   "mimetype": "text/x-python",
   "name": "python",
   "nbconvert_exporter": "python",
   "pygments_lexer": "ipython3",
   "version": "3.6.8"
  }
 },
 "nbformat": 4,
 "nbformat_minor": 2
}
