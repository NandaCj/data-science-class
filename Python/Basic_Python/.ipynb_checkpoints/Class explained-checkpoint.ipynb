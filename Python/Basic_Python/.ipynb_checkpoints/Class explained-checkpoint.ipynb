{
 "cells": [
  {
   "cell_type": "code",
   "execution_count": null,
   "metadata": {},
   "outputs": [],
   "source": [
    "\"\"\"\n",
    "Syntax:\n",
    "\n",
    "class ClassName ():\n",
    "    class attributes # variables and Methods\n",
    "\n",
    "\"\"\""
   ]
  },
  {
   "cell_type": "code",
   "execution_count": 1,
   "metadata": {},
   "outputs": [],
   "source": [
    "class Human:\n",
    "    \n",
    "    hands = 2\n",
    "    legs = 2\n",
    "    eyes = 2\n",
    "    \n",
    "    def __init__(self): # constructor \n",
    "        print(\"constructor is called , human is born..\")\n",
    "    \n",
    "    def hand_fun(self):\n",
    "        print(\"hand function of \", self )\n",
    "        \n",
    "    def eyes_func(self):\n",
    "        print(\"eyes func \", self)\n",
    "    \n",
    "    def __del__(self): # destructor \n",
    "        print(\"Human is dead...\")\n",
    "        \n",
    "    "
   ]
  },
  {
   "cell_type": "code",
   "execution_count": 5,
   "metadata": {},
   "outputs": [
    {
     "name": "stdout",
     "output_type": "stream",
     "text": [
      "constructor is called , human is born..\n",
      "constructor is called , human is born..\n"
     ]
    }
   ],
   "source": [
    "Ram = Human()\n",
    "rahul = Human()\n",
    "# Ravi = Human()"
   ]
  },
  {
   "cell_type": "code",
   "execution_count": 3,
   "metadata": {},
   "outputs": [
    {
     "name": "stdout",
     "output_type": "stream",
     "text": [
      "Human is dead...\n",
      "Human is dead...\n"
     ]
    }
   ],
   "source": [
    "# del(Ram)\n",
    "# del(rahul)"
   ]
  },
  {
   "cell_type": "code",
   "execution_count": 6,
   "metadata": {},
   "outputs": [
    {
     "name": "stdout",
     "output_type": "stream",
     "text": [
      "2\n",
      "2\n"
     ]
    }
   ],
   "source": [
    "# Accessing class Variables and Methods \n",
    "\n",
    "print(Human.eyes) # class variables access with class name itself\n",
    "print(Ram.eyes) # class variables access with instance also..."
   ]
  },
  {
   "cell_type": "code",
   "execution_count": 7,
   "metadata": {},
   "outputs": [
    {
     "name": "stdout",
     "output_type": "stream",
     "text": [
      "{'__module__': '__main__', 'hands': 2, 'legs': 2, 'eyes': 2, '__init__': <function Human.__init__ at 0x7f003025e0d0>, 'hand_fun': <function Human.hand_fun at 0x7f003025e158>, 'eyes_func': <function Human.eyes_func at 0x7f003025e1e0>, '__del__': <function Human.__del__ at 0x7f003025e268>, '__dict__': <attribute '__dict__' of 'Human' objects>, '__weakref__': <attribute '__weakref__' of 'Human' objects>, '__doc__': None}\n",
      "{}\n"
     ]
    }
   ],
   "source": [
    "print(Human.__dict__)\n",
    "print(Ram.__dict__)"
   ]
  },
  {
   "cell_type": "code",
   "execution_count": null,
   "metadata": {},
   "outputs": [],
   "source": []
  },
  {
   "cell_type": "code",
   "execution_count": null,
   "metadata": {},
   "outputs": [],
   "source": []
  },
  {
   "cell_type": "code",
   "execution_count": null,
   "metadata": {},
   "outputs": [],
   "source": []
  },
  {
   "cell_type": "code",
   "execution_count": 8,
   "metadata": {},
   "outputs": [],
   "source": [
    "class Human():\n",
    "    \n",
    "    hands = 2\n",
    "    legs = 2\n",
    "    eyes = 2\n",
    "    \n",
    "    def __init__(self, city, father, fingers=5): # constructor \n",
    "        print(\"constructor is called , human is born.. in \", city, \"Father name :\",father, \"with Fingers:\", fingers)\n",
    "    \n",
    "    def hand_fun(self, purpose):\n",
    "        print(\"hand function of \", purpose)\n",
    "        \n",
    "    def eyes_func(self):\n",
    "        print(\"eyes func \")\n",
    "        \n",
    "    @staticmethod\n",
    "    def eat():\n",
    "        print(\"Animal and humans both eat ...\")\n",
    "    \n",
    "    @staticmethod\n",
    "    def fight():\n",
    "        print(\"Animal and humans both eat ...\")\n",
    "    \n",
    "    @staticmethod\n",
    "    def run():\n",
    "        print(\"Animal and humans both eat ...\")\n",
    "    \n",
    "    @classmethod\n",
    "    def change_hands(cls):\n",
    "        cls.hands = 1\n"
   ]
  },
  {
   "cell_type": "code",
   "execution_count": 9,
   "metadata": {},
   "outputs": [
    {
     "name": "stdout",
     "output_type": "stream",
     "text": [
      "constructor is called , human is born.. in  chennai Father name : Ram with Fingers: 5\n",
      "constructor is called , human is born.. in  New York Father name : Ravi with Fingers: 6\n"
     ]
    }
   ],
   "source": [
    "Nandha = Human('chennai', 'Ram')\n",
    "Gopal = Human('New York', 'Ravi', fingers=6)"
   ]
  },
  {
   "cell_type": "code",
   "execution_count": 10,
   "metadata": {},
   "outputs": [
    {
     "name": "stdout",
     "output_type": "stream",
     "text": [
      "hand function of  writing\n",
      "hand function of  playing\n"
     ]
    }
   ],
   "source": [
    "Nandha.hand_fun(\"writing\")\n",
    "Gopal.hand_fun(\"playing\")"
   ]
  },
  {
   "cell_type": "code",
   "execution_count": 11,
   "metadata": {},
   "outputs": [
    {
     "name": "stdout",
     "output_type": "stream",
     "text": [
      "Animal and humans both eat ...\n",
      "Animal and humans both eat ...\n"
     ]
    }
   ],
   "source": [
    "Nandha.eat()\n",
    "Human.eat()"
   ]
  },
  {
   "cell_type": "code",
   "execution_count": 15,
   "metadata": {},
   "outputs": [
    {
     "data": {
      "text/plain": [
       "1"
      ]
     },
     "execution_count": 15,
     "metadata": {},
     "output_type": "execute_result"
    }
   ],
   "source": [
    "Nandha.hands"
   ]
  },
  {
   "cell_type": "code",
   "execution_count": 13,
   "metadata": {},
   "outputs": [],
   "source": [
    "Human.change_hands()"
   ]
  },
  {
   "cell_type": "code",
   "execution_count": 14,
   "metadata": {},
   "outputs": [
    {
     "data": {
      "text/plain": [
       "1"
      ]
     },
     "execution_count": 14,
     "metadata": {},
     "output_type": "execute_result"
    }
   ],
   "source": [
    "Nandha.hands"
   ]
  },
  {
   "cell_type": "code",
   "execution_count": null,
   "metadata": {},
   "outputs": [],
   "source": []
  },
  {
   "cell_type": "code",
   "execution_count": null,
   "metadata": {},
   "outputs": [],
   "source": [
    "def decorator_function(func):\n",
    "    \n",
    "    def decorator_function_implementation():\n",
    "        print(\"Decoration started ...\")\n",
    "        func()\n",
    "    return decorator_function_implementation\n",
    "\n",
    "\n",
    "@decorator_function\n",
    "def function_tobe_decorated():\n",
    "    print (\"Function_tobe_decorated\")\n",
    "\n"
   ]
  },
  {
   "cell_type": "code",
   "execution_count": null,
   "metadata": {},
   "outputs": [],
   "source": [
    "function_tobe_decorated()"
   ]
  },
  {
   "cell_type": "code",
   "execution_count": null,
   "metadata": {},
   "outputs": [],
   "source": [
    "class A ():\n",
    "    \n",
    "    def Aa(self):\n",
    "        print(\"Aa is called...\")\n",
    "\n",
    "class B(A):\n",
    "    def Aa(self): # overriding ... \n",
    "        print(\"Aa is called from B class\")\n",
    "    \n",
    "    def Bb(self):\n",
    "        print(\"Bb is called\")\n",
    "        self.Aa()"
   ]
  },
  {
   "cell_type": "code",
   "execution_count": null,
   "metadata": {},
   "outputs": [],
   "source": [
    "b = B()\n",
    "b.Bb()"
   ]
  },
  {
   "cell_type": "code",
   "execution_count": null,
   "metadata": {},
   "outputs": [],
   "source": [
    "\n",
    "\n"
   ]
  }
 ],
 "metadata": {
  "kernelspec": {
   "display_name": "Python 3",
   "language": "python",
   "name": "python3"
  },
  "language_info": {
   "codemirror_mode": {
    "name": "ipython",
    "version": 3
   },
   "file_extension": ".py",
   "mimetype": "text/x-python",
   "name": "python",
   "nbconvert_exporter": "python",
   "pygments_lexer": "ipython3",
   "version": "3.6.8"
  }
 },
 "nbformat": 4,
 "nbformat_minor": 2
}
