{
 "cells": [
  {
   "cell_type": "code",
   "execution_count": 1,
   "metadata": {},
   "outputs": [],
   "source": [
    "class Human:\n",
    "    \n",
    "    hands = 2\n",
    "    legs = 2\n",
    "    finger = 5\n",
    "    \n",
    "    def Eating (self):\n",
    "        print(\"Humans can eat \", self.finger)\n",
    "        \n",
    "    def Run(self):\n",
    "        print(\"Humans can run\")\n",
    "            "
   ]
  },
  {
   "cell_type": "markdown",
   "metadata": {},
   "source": [
    "# Accessing Variables"
   ]
  },
  {
   "cell_type": "code",
   "execution_count": 2,
   "metadata": {},
   "outputs": [
    {
     "data": {
      "text/plain": [
       "2"
      ]
     },
     "execution_count": 2,
     "metadata": {},
     "output_type": "execute_result"
    }
   ],
   "source": [
    "Human.legs"
   ]
  },
  {
   "cell_type": "markdown",
   "metadata": {},
   "source": [
    "# Creating Instance\n",
    "    - using class name \n",
    "    - using instance"
   ]
  },
  {
   "cell_type": "code",
   "execution_count": 3,
   "metadata": {},
   "outputs": [],
   "source": [
    "ram = Human()"
   ]
  },
  {
   "cell_type": "code",
   "execution_count": 4,
   "metadata": {},
   "outputs": [],
   "source": [
    "rahul = Human()\n",
    "rahul.finger = 6"
   ]
  },
  {
   "cell_type": "code",
   "execution_count": 5,
   "metadata": {},
   "outputs": [
    {
     "data": {
      "text/plain": [
       "5"
      ]
     },
     "execution_count": 5,
     "metadata": {},
     "output_type": "execute_result"
    }
   ],
   "source": [
    "ram.finger"
   ]
  },
  {
   "cell_type": "code",
   "execution_count": 6,
   "metadata": {},
   "outputs": [
    {
     "data": {
      "text/plain": [
       "6"
      ]
     },
     "execution_count": 6,
     "metadata": {},
     "output_type": "execute_result"
    }
   ],
   "source": [
    "rahul.finger"
   ]
  },
  {
   "cell_type": "code",
   "execution_count": 7,
   "metadata": {},
   "outputs": [
    {
     "data": {
      "text/plain": [
       "mappingproxy({'__module__': '__main__',\n",
       "              'hands': 2,\n",
       "              'legs': 2,\n",
       "              'finger': 5,\n",
       "              'Eating': <function __main__.Human.Eating(self)>,\n",
       "              'Run': <function __main__.Human.Run(self)>,\n",
       "              '__dict__': <attribute '__dict__' of 'Human' objects>,\n",
       "              '__weakref__': <attribute '__weakref__' of 'Human' objects>,\n",
       "              '__doc__': None})"
      ]
     },
     "execution_count": 7,
     "metadata": {},
     "output_type": "execute_result"
    }
   ],
   "source": [
    "Human.__dict__"
   ]
  },
  {
   "cell_type": "code",
   "execution_count": 8,
   "metadata": {},
   "outputs": [
    {
     "data": {
      "text/plain": [
       "{}"
      ]
     },
     "execution_count": 8,
     "metadata": {},
     "output_type": "execute_result"
    }
   ],
   "source": [
    "ram.__dict__"
   ]
  },
  {
   "cell_type": "code",
   "execution_count": 9,
   "metadata": {},
   "outputs": [
    {
     "data": {
      "text/plain": [
       "{'finger': 6}"
      ]
     },
     "execution_count": 9,
     "metadata": {},
     "output_type": "execute_result"
    }
   ],
   "source": [
    "rahul.__dict__"
   ]
  },
  {
   "cell_type": "markdown",
   "metadata": {},
   "source": [
    "# Calling Methods "
   ]
  },
  {
   "cell_type": "code",
   "execution_count": 10,
   "metadata": {},
   "outputs": [
    {
     "name": "stdout",
     "output_type": "stream",
     "text": [
      "Humans can eat  5\n"
     ]
    }
   ],
   "source": [
    "ram.Eating()"
   ]
  },
  {
   "cell_type": "code",
   "execution_count": 11,
   "metadata": {},
   "outputs": [
    {
     "name": "stdout",
     "output_type": "stream",
     "text": [
      "Humans can eat  6\n"
     ]
    }
   ],
   "source": [
    "rahul.Eating()"
   ]
  },
  {
   "cell_type": "markdown",
   "metadata": {},
   "source": [
    "# Constructors"
   ]
  },
  {
   "cell_type": "code",
   "execution_count": 12,
   "metadata": {},
   "outputs": [],
   "source": [
    "class Human:\n",
    "    \n",
    "    hands = 2\n",
    "    legs = 2\n",
    "    finger = 5\n",
    "    \n",
    "    def __init__(self, father_name, birth_place):\n",
    "        print(\"A human is Born , birth certifcate registered\")\n",
    "        self.register_cert()\n",
    "        self.birth_place = birth_place\n",
    "        self.father_name = father_name\n",
    "    \n",
    "    def register_cert(self):\n",
    "        print(\"Birth Cert is processed\")\n",
    "    \n",
    "    def Eating (self):\n",
    "        print(\"Am eating in \", self.birth_place)\n",
    "        \n",
    "    def Run(self):\n",
    "        print(\"am running in \", self.birth_place)"
   ]
  },
  {
   "cell_type": "code",
   "execution_count": 13,
   "metadata": {},
   "outputs": [
    {
     "name": "stdout",
     "output_type": "stream",
     "text": [
      "A human is Born , birth certifcate registered\n",
      "Birth Cert is processed\n"
     ]
    }
   ],
   "source": [
    "ram = Human(father_name='Nandha', birth_place='Chennai')"
   ]
  },
  {
   "cell_type": "code",
   "execution_count": 14,
   "metadata": {},
   "outputs": [
    {
     "name": "stdout",
     "output_type": "stream",
     "text": [
      "Am eating in  Chennai\n"
     ]
    }
   ],
   "source": [
    "ram.Eating()"
   ]
  },
  {
   "cell_type": "code",
   "execution_count": 15,
   "metadata": {},
   "outputs": [
    {
     "name": "stdout",
     "output_type": "stream",
     "text": [
      "am running in  Chennai\n"
     ]
    }
   ],
   "source": [
    "ram.Run()"
   ]
  },
  {
   "cell_type": "markdown",
   "metadata": {},
   "source": [
    "# Static Method"
   ]
  },
  {
   "cell_type": "code",
   "execution_count": 26,
   "metadata": {},
   "outputs": [],
   "source": [
    "class Human:\n",
    "    \n",
    "    hands = 2\n",
    "    legs = 2\n",
    "    finger = 5\n",
    "    \n",
    "    def __init__(self, father_name, birth_place):\n",
    "        print(\"A human is Born , birth certifcate registered\")\n",
    "        self.register_cert()\n",
    "        self.birth_place = birth_place\n",
    "        self.father_name = father_name\n",
    "    \n",
    "    def register_cert(self):\n",
    "        print(\"Birth Cert is processed\")\n",
    "    \n",
    "    def Eating (self):\n",
    "        print(\"Am eating in \", self.birth_place)\n",
    "        \n",
    "    def Run(self):\n",
    "        print(\"am running in \", self.birth_place)\n",
    "    \n",
    "    @staticmethod\n",
    "    def Living():\n",
    "        print(\"all are living beings...\")\n",
    "        \n",
    "    @staticmethod\n",
    "    def Jogging():\n",
    "        print(\"all are living beings...\")\n"
   ]
  },
  {
   "cell_type": "code",
   "execution_count": 23,
   "metadata": {},
   "outputs": [
    {
     "name": "stdout",
     "output_type": "stream",
     "text": [
      "all are living beings...\n"
     ]
    }
   ],
   "source": [
    "Human.Living()"
   ]
  },
  {
   "cell_type": "code",
   "execution_count": 25,
   "metadata": {
    "scrolled": true
   },
   "outputs": [
    {
     "name": "stdout",
     "output_type": "stream",
     "text": [
      "A human is Born , birth certifcate registered\n",
      "Birth Cert is processed\n",
      "all are living beings...\n"
     ]
    }
   ],
   "source": [
    "Human('Ram', 'xxx').Living()"
   ]
  },
  {
   "cell_type": "markdown",
   "metadata": {},
   "source": [
    "# Class Method"
   ]
  },
  {
   "cell_type": "code",
   "execution_count": 27,
   "metadata": {},
   "outputs": [],
   "source": [
    "class Human:\n",
    "    \n",
    "    hands = 2\n",
    "    legs = 2\n",
    "    finger = 5\n",
    "    \n",
    "    def __init__(self, father_name, birth_place):\n",
    "        print(\"A human is Born , birth certifcate registered\")\n",
    "        self.register_cert()\n",
    "        self.birth_place = birth_place\n",
    "        self.father_name = father_name\n",
    "    \n",
    "    def register_cert(self):\n",
    "        print(\"Birth Cert is processed\")\n",
    "    \n",
    "    def Eating (self):\n",
    "        print(\"Am eating in \", self.birth_place)\n",
    "        \n",
    "    def Run(self):\n",
    "        print(\"am running in \", self.birth_place)\n",
    "    \n",
    "    @staticmethod\n",
    "    def Living():\n",
    "        print(\"all are living beings...\")\n",
    "        \n",
    "    @staticmethod\n",
    "    def Jogging():\n",
    "        print(\"all are living beings...\")\n",
    "        \n",
    "    @classmethod\n",
    "    def super_human(cls):\n",
    "        print(\"Super human are getting ready ....\")\n",
    "        cls.hands = 6\n",
    "        cls.finger = 10\n",
    "        "
   ]
  },
  {
   "cell_type": "code",
   "execution_count": 29,
   "metadata": {},
   "outputs": [
    {
     "name": "stdout",
     "output_type": "stream",
     "text": [
      "A human is Born , birth certifcate registered\n",
      "Birth Cert is processed\n",
      "Super human are getting ready ....\n"
     ]
    }
   ],
   "source": [
    "Human('ram', 'xxxx').super_human()"
   ]
  },
  {
   "cell_type": "code",
   "execution_count": 30,
   "metadata": {},
   "outputs": [
    {
     "data": {
      "text/plain": [
       "mappingproxy({'__module__': '__main__',\n",
       "              'hands': 6,\n",
       "              'legs': 2,\n",
       "              'finger': 10,\n",
       "              '__init__': <function __main__.Human.__init__(self, father_name, birth_place)>,\n",
       "              'register_cert': <function __main__.Human.register_cert(self)>,\n",
       "              'Eating': <function __main__.Human.Eating(self)>,\n",
       "              'Run': <function __main__.Human.Run(self)>,\n",
       "              'Living': <staticmethod at 0x7fd659cd0080>,\n",
       "              'Jogging': <staticmethod at 0x7fd65aa2efd0>,\n",
       "              'super_human': <classmethod at 0x7fd65aa2d978>,\n",
       "              '__dict__': <attribute '__dict__' of 'Human' objects>,\n",
       "              '__weakref__': <attribute '__weakref__' of 'Human' objects>,\n",
       "              '__doc__': None})"
      ]
     },
     "execution_count": 30,
     "metadata": {},
     "output_type": "execute_result"
    }
   ],
   "source": [
    "Human.__dict__"
   ]
  },
  {
   "cell_type": "code",
   "execution_count": 31,
   "metadata": {},
   "outputs": [
    {
     "name": "stdout",
     "output_type": "stream",
     "text": [
      "A human is Born , birth certifcate registered\n",
      "Birth Cert is processed\n"
     ]
    }
   ],
   "source": [
    "gopal = Human('ram', 'yyy')"
   ]
  },
  {
   "cell_type": "code",
   "execution_count": 32,
   "metadata": {},
   "outputs": [
    {
     "data": {
      "text/plain": [
       "10"
      ]
     },
     "execution_count": 32,
     "metadata": {},
     "output_type": "execute_result"
    }
   ],
   "source": [
    "gopal.finger"
   ]
  },
  {
   "cell_type": "code",
   "execution_count": 33,
   "metadata": {},
   "outputs": [
    {
     "name": "stdout",
     "output_type": "stream",
     "text": [
      "Super human are getting ready ....\n"
     ]
    }
   ],
   "source": [
    "Human.super_human()"
   ]
  },
  {
   "cell_type": "markdown",
   "metadata": {},
   "source": [
    "# Inheritence"
   ]
  },
  {
   "cell_type": "code",
   "execution_count": 67,
   "metadata": {},
   "outputs": [],
   "source": [
    "class Hand():\n",
    "    \n",
    "    fingers = 4\n",
    "    nail = True\n",
    "    \n",
    "    def writing(self):\n",
    "        print(\"Humans use {} fingers to write\".format(self.fingers))\n",
    "    \n",
    "    \n",
    "class Legs():\n",
    "    fingers = 10\n",
    "    nail = True\n",
    "    \n",
    "    def run(self):\n",
    "        print(\"Humans use {} fingers to run\".format(Legs.fingers))\n",
    "    "
   ]
  },
  {
   "cell_type": "code",
   "execution_count": 68,
   "metadata": {},
   "outputs": [],
   "source": [
    "class Human(Hand, Legs):\n",
    "    pass\n",
    "    \n",
    "    "
   ]
  },
  {
   "cell_type": "code",
   "execution_count": 69,
   "metadata": {},
   "outputs": [
    {
     "name": "stdout",
     "output_type": "stream",
     "text": [
      "Humans use 4 fingers to write\n",
      "Humans use 10 fingers to run\n"
     ]
    }
   ],
   "source": [
    "ram = Human()\n",
    "ram.writing()\n",
    "ram.run()"
   ]
  },
  {
   "cell_type": "code",
   "execution_count": null,
   "metadata": {},
   "outputs": [],
   "source": []
  }
 ],
 "metadata": {
  "kernelspec": {
   "display_name": "Python 3",
   "language": "python",
   "name": "python3"
  },
  "language_info": {
   "codemirror_mode": {
    "name": "ipython",
    "version": 3
   },
   "file_extension": ".py",
   "mimetype": "text/x-python",
   "name": "python",
   "nbconvert_exporter": "python",
   "pygments_lexer": "ipython3",
   "version": "3.6.8"
  }
 },
 "nbformat": 4,
 "nbformat_minor": 2
}
