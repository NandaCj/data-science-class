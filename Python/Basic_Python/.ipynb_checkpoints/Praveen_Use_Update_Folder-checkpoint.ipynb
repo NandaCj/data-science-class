{
 "cells": [
  {
   "cell_type": "code",
   "execution_count": 1,
   "metadata": {},
   "outputs": [],
   "source": [
    "import os \n",
    "os.getcwd()\n",
    "import re"
   ]
  },
  {
   "cell_type": "code",
   "execution_count": 2,
   "metadata": {},
   "outputs": [],
   "source": [
    "input_file = '/home/nandagopal/PycharmProjects/data-science-class/Python/Basic_Python/version.txt'\n",
    "# input_file = 'version.txt'"
   ]
  },
  {
   "cell_type": "code",
   "execution_count": 3,
   "metadata": {},
   "outputs": [],
   "source": [
    "s3_current_version = open(input_file, 'r+').readlines()[0]\n"
   ]
  },
  {
   "cell_type": "code",
   "execution_count": 4,
   "metadata": {},
   "outputs": [],
   "source": [
    "last_version = int(s3_current_version.split('.')[-1])\n",
    "new_version = last_version + 1\n",
    "\n",
    "s3_current_version.split()[-1] = new_version\n",
    "final_version = re.sub(str(last_version), str(new_version), s3_current_version)"
   ]
  },
  {
   "cell_type": "code",
   "execution_count": 5,
   "metadata": {},
   "outputs": [
    {
     "data": {
      "text/plain": [
       "'8.0.3'"
      ]
     },
     "execution_count": 5,
     "metadata": {},
     "output_type": "execute_result"
    }
   ],
   "source": [
    "final_version"
   ]
  },
  {
   "cell_type": "code",
   "execution_count": 101,
   "metadata": {},
   "outputs": [],
   "source": [
    "\n",
    "\n",
    "def change_file_version(file_path):\n",
    "    \"\"\"\n",
    "    params:\n",
    "    file_path : path of the file where version.txt is present\n",
    "    version.txt is expected to have only version \n",
    "    \"\"\"\n",
    "    ofile = open(input_file, 'r+')\n",
    "    s3_current_version = ofile.readlines()[0]\n",
    "    last_point = int(s3_current_version.split('.')[-1])\n",
    "    if last_point == 9 :\n",
    "        last_before = int(s3_current_version.split('.')[-2])\n",
    "        last_before += 1 \n",
    "        last_point = 0 \n",
    "        final_version = re.sub(str(s3_current_version.split('.')[-1]), str(last_point), s3_current_version)\n",
    "        final_version = re.sub(str(final_version.split('.')[-2]),str(last_before), final_version, count=1)\n",
    "    else:\n",
    "        last_point +=1\n",
    "        final_version = re.sub(str(s3_current_version.split('.')[-1]),str(last_point), s3_current_version)\n",
    "    ofile.close()\n",
    "    ofile = open(input_file, 'w+')\n",
    "    ofile.write(final_version)\n",
    "    ofile.close()\n",
    "    return final_version\n",
    "\n",
    "    "
   ]
  },
  {
   "cell_type": "code",
   "execution_count": 100,
   "metadata": {},
   "outputs": [
    {
     "data": {
      "text/plain": [
       "'8.0.7'"
      ]
     },
     "execution_count": 100,
     "metadata": {},
     "output_type": "execute_result"
    }
   ],
   "source": [
    "change_file_version(input_file)"
   ]
  },
  {
   "cell_type": "code",
   "execution_count": null,
   "metadata": {},
   "outputs": [],
   "source": []
  }
 ],
 "metadata": {
  "kernelspec": {
   "display_name": "Python 3",
   "language": "python",
   "name": "python3"
  },
  "language_info": {
   "codemirror_mode": {
    "name": "ipython",
    "version": 3
   },
   "file_extension": ".py",
   "mimetype": "text/x-python",
   "name": "python",
   "nbconvert_exporter": "python",
   "pygments_lexer": "ipython3",
   "version": "3.6.8"
  }
 },
 "nbformat": 4,
 "nbformat_minor": 2
}
