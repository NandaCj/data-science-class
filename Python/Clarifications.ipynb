{
 "cells": [
  {
   "cell_type": "code",
   "execution_count": null,
   "metadata": {},
   "outputs": [],
   "source": [
    "eyes = 3 # not encapsulated\n",
    "class Human():\n",
    "    eyes = 2 # encapsulated within Human \n",
    "    legs = 2 \n",
    "    \n",
    "    def wife_name(self):\n",
    "        print(self.wife)"
   ]
  },
  {
   "cell_type": "code",
   "execution_count": 11,
   "metadata": {},
   "outputs": [
    {
     "name": "stdout",
     "output_type": "stream",
     "text": [
      "sita\n"
     ]
    }
   ],
   "source": [
    "ram = Human()\n",
    "ram.wife = 'sita'\n",
    "ram.wife_name()"
   ]
  },
  {
   "cell_type": "code",
   "execution_count": 12,
   "metadata": {},
   "outputs": [
    {
     "name": "stdout",
     "output_type": "stream",
     "text": [
      "maala\n"
     ]
    }
   ],
   "source": [
    "mani = Human()\n",
    "mani.wife = 'maala'\n",
    "mani.wife_name()"
   ]
  },
  {
   "cell_type": "code",
   "execution_count": 13,
   "metadata": {},
   "outputs": [
    {
     "data": {
      "text/plain": [
       "3"
      ]
     },
     "execution_count": 13,
     "metadata": {},
     "output_type": "execute_result"
    }
   ],
   "source": [
    "eyes"
   ]
  },
  {
   "cell_type": "markdown",
   "metadata": {},
   "source": [
    "# Inheritence "
   ]
  },
  {
   "cell_type": "code",
   "execution_count": 17,
   "metadata": {},
   "outputs": [],
   "source": [
    "class Human():\n",
    "    eyes = 2 \n",
    "    legs = 2\n",
    "    \n",
    "    def living_place(self):\n",
    "        print(\"Human lives in \", self.place)\n",
    "        \n",
    "class Animal():\n",
    "    eyes = 2 \n",
    "    legs = 2\n",
    "    \n",
    "    def living_place(self):\n",
    "        print(\"Animal lives in \", self.place)"
   ]
  },
  {
   "cell_type": "code",
   "execution_count": 22,
   "metadata": {},
   "outputs": [],
   "source": [
    "Ram = Human()\n",
    "Ram.place = 'City'\n",
    "\n",
    "\n",
    "Lion = Animal() \n",
    "Animal.place = 'Forest'"
   ]
  },
  {
   "cell_type": "code",
   "execution_count": 24,
   "metadata": {},
   "outputs": [
    {
     "name": "stdout",
     "output_type": "stream",
     "text": [
      "Human lives in  City\n",
      "Animal lives in  Forest\n"
     ]
    }
   ],
   "source": [
    "Ram.living_place()\n",
    "\n",
    "\n",
    "Lion.living_place()"
   ]
  },
  {
   "cell_type": "code",
   "execution_count": 31,
   "metadata": {},
   "outputs": [],
   "source": [
    "class Hand():\n",
    "    \n",
    "    fingers = 5 \n",
    "    \n",
    "    def hand_func(self):\n",
    "        print(\"Hand is used for climbing ...\")"
   ]
  },
  {
   "cell_type": "code",
   "execution_count": 32,
   "metadata": {},
   "outputs": [],
   "source": [
    "class Human(Hand):\n",
    "    eyes = 2 \n",
    "    legs = 2\n",
    "    \n",
    "    def living_place(self):\n",
    "        print(\"Human lives in \", self.place)\n",
    "        \n",
    "class Animal(Hand):\n",
    "    eyes = 2 \n",
    "    legs = 2\n",
    "    \n",
    "    def living_place(self):\n",
    "        print(\"Animal lives in \", self.place)"
   ]
  },
  {
   "cell_type": "code",
   "execution_count": 33,
   "metadata": {},
   "outputs": [],
   "source": [
    "Ram = Human()\n",
    "Ram.place = 'City'\n",
    "\n",
    "\n",
    "Lion = Animal() \n",
    "Animal.place = 'Forest'"
   ]
  },
  {
   "cell_type": "code",
   "execution_count": 34,
   "metadata": {},
   "outputs": [
    {
     "name": "stdout",
     "output_type": "stream",
     "text": [
      "Human lives in  City\n",
      "Hand is used for climbing ...\n",
      "Animal lives in  Forest\n",
      "Hand is used for climbing ...\n"
     ]
    }
   ],
   "source": [
    "Ram.living_place()\n",
    "Ram.hand_func()\n",
    "\n",
    "\n",
    "Lion.living_place()\n",
    "Lion.hand_func()"
   ]
  },
  {
   "cell_type": "code",
   "execution_count": null,
   "metadata": {},
   "outputs": [],
   "source": []
  }
 ],
 "metadata": {
  "kernelspec": {
   "display_name": "Python 3",
   "language": "python",
   "name": "python3"
  },
  "language_info": {
   "codemirror_mode": {
    "name": "ipython",
    "version": 3
   },
   "file_extension": ".py",
   "mimetype": "text/x-python",
   "name": "python",
   "nbconvert_exporter": "python",
   "pygments_lexer": "ipython3",
   "version": "3.6.8"
  }
 },
 "nbformat": 4,
 "nbformat_minor": 2
}
