{
 "cells": [
  {
   "cell_type": "code",
   "execution_count": 23,
   "metadata": {},
   "outputs": [],
   "source": [
    "%matplotlib inline\n",
    "import os\n",
    "import pandas as pd\n",
    "import numpy as np\n",
    "import matplotlib.pyplot as plt"
   ]
  },
  {
   "cell_type": "code",
   "execution_count": 6,
   "metadata": {},
   "outputs": [
    {
     "name": "stdout",
     "output_type": "stream",
     "text": [
      "*** Introductory Examples for the NLTK Book ***\n",
      "Loading text1, ..., text9 and sent1, ..., sent9\n",
      "Type the name of the text or sentence to view it.\n",
      "Type: 'texts()' or 'sents()' to list the materials.\n",
      "text1: Moby Dick by Herman Melville 1851\n",
      "text2: Sense and Sensibility by Jane Austen 1811\n",
      "text3: The Book of Genesis\n",
      "text4: Inaugural Address Corpus\n",
      "text5: Chat Corpus\n",
      "text6: Monty Python and the Holy Grail\n",
      "text7: Wall Street Journal\n",
      "text8: Personals Corpus\n",
      "text9: The Man Who Was Thursday by G . K . Chesterton 1908\n"
     ]
    }
   ],
   "source": [
    "from nltk.book import *"
   ]
  },
  {
   "cell_type": "code",
   "execution_count": 7,
   "metadata": {},
   "outputs": [
    {
     "name": "stdout",
     "output_type": "stream",
     "text": [
      "text1: Moby Dick by Herman Melville 1851\n",
      "text2: Sense and Sensibility by Jane Austen 1811\n",
      "text3: The Book of Genesis\n",
      "text4: Inaugural Address Corpus\n",
      "text5: Chat Corpus\n",
      "text6: Monty Python and the Holy Grail\n",
      "text7: Wall Street Journal\n",
      "text8: Personals Corpus\n",
      "text9: The Man Who Was Thursday by G . K . Chesterton 1908\n"
     ]
    }
   ],
   "source": [
    "texts()"
   ]
  },
  {
   "cell_type": "code",
   "execution_count": 8,
   "metadata": {},
   "outputs": [
    {
     "name": "stdout",
     "output_type": "stream",
     "text": [
      "sent1: Call me Ishmael .\n",
      "sent2: The family of Dashwood had long been settled in Sussex .\n",
      "sent3: In the beginning God created the heaven and the earth .\n",
      "sent4: Fellow - Citizens of the Senate and of the House of Representatives :\n",
      "sent5: I have a problem with people PMing me to lol JOIN\n",
      "sent6: SCENE 1 : [ wind ] [ clop clop clop ] KING ARTHUR : Whoa there !\n",
      "sent7: Pierre Vinken , 61 years old , will join the board as a nonexecutive director Nov. 29 .\n",
      "sent8: 25 SEXY MALE , seeks attrac older single lady , for discreet encounters .\n",
      "sent9: THE suburb of Saffron Park lay on the sunset side of London , as red and ragged as a cloud of sunset .\n"
     ]
    }
   ],
   "source": [
    "sents()"
   ]
  },
  {
   "cell_type": "code",
   "execution_count": 9,
   "metadata": {},
   "outputs": [
    {
     "data": {
      "text/plain": [
       "<Text: Moby Dick by Herman Melville 1851>"
      ]
     },
     "execution_count": 9,
     "metadata": {},
     "output_type": "execute_result"
    }
   ],
   "source": [
    "text1"
   ]
  },
  {
   "cell_type": "code",
   "execution_count": 11,
   "metadata": {},
   "outputs": [
    {
     "data": {
      "text/plain": [
       "nltk.text.Text"
      ]
     },
     "execution_count": 11,
     "metadata": {},
     "output_type": "execute_result"
    }
   ],
   "source": [
    "type(text1)"
   ]
  },
  {
   "cell_type": "code",
   "execution_count": 17,
   "metadata": {},
   "outputs": [
    {
     "name": "stdout",
     "output_type": "stream",
     "text": [
      "mouth head bow eye leviathan eyes death voyage deck business middle\n",
      "courage by coat heart body brain world hand what\n"
     ]
    }
   ],
   "source": [
    "text1.similar('FLOOD')"
   ]
  },
  {
   "cell_type": "code",
   "execution_count": 21,
   "metadata": {},
   "outputs": [
    {
     "name": "stdout",
     "output_type": "stream",
     "text": [
      "Displaying 25 of 96 matches:\n",
      " , thought , fancied , and sung of Leviathan , by many nations and generations \n",
      "ted great whales .\" -- GENESIS . \" Leviathan maketh a path to shine after him ;\n",
      "There go the ships ; there is that Leviathan whom thou hast made to play therei\n",
      " , and strong sword , shall punish Leviathan the piercing serpent , even Leviat\n",
      "iathan the piercing serpent , even Leviathan that crooked serpent ; and he shal\n",
      "s fly ! Old Nick take me if is not Leviathan described by the noble prophet Mos\n",
      " -- STOWE ' S ANNALS . \" The great Leviathan that maketh the seas to seethe lik\n",
      "S . \" By art is created that great Leviathan , called a Commonwealth or State -\n",
      " -- OPENING SENTENCE OF HOBBES ' S LEVIATHAN . \" Silly Mansoul swallowed it wit\n",
      "IM ' S PROGRESS . \" That sea beast Leviathan , which God of all his works Creat\n",
      "m .\" -- PARADISE LOST . ---\" There Leviathan , Hugest of living creatures , in \n",
      "ehind some promontory lie The huge Leviathan to attend their prey , And give no\n",
      "ariner Had never seen ; from dread Leviathan To insect millions peopling every \n",
      "out in canoes to give chase to the Leviathan ? And where but from Nantucket , t\n",
      "o a gigantic fish ? even the great leviathan himself ? In fact , the artist ' s\n",
      "d coat , spilled tuns upon tuns of leviathan gore . How now in the contemplativ\n",
      "Who wrote the first account of our Leviathan ? Who but mighty Job ! And who com\n",
      "de with the barnacled hulls of the leviathan ; at the outset it is but well to \n",
      "uld essay to hook the nose of this leviathan ! The awful tauntings in Job might\n",
      "ht well appal me . \" Will he the ( leviathan ) make a covenant with thee ? Beho\n",
      "ssession of the same seas with the Leviathan . The grounds upon which Linnaeus \n",
      "ll present pursuit from man ; this leviathan seems the banished and unconquerab\n",
      "empt a clear classification of the Leviathan , founded upon either his baleen ,\n",
      " grand distinctive features of the leviathan , most naturalists have recognised\n",
      "shed from all other species of the leviathan , died out of the minds of the wha\n"
     ]
    }
   ],
   "source": [
    "text1.concordance('leviathan')"
   ]
  },
  {
   "cell_type": "code",
   "execution_count": 24,
   "metadata": {},
   "outputs": [
    {
     "data": {
      "image/png": "[encoded data removed]",
      "text/plain": [
       "<matplotlib.figure.Figure at 0x5f80530>"
      ]
     },
     "metadata": {},
     "output_type": "display_data"
    }
   ],
   "source": [
    "text4.dispersion_plot([\"citizens\", \"democracy\", \"freedom\", \"duties\", \"America\"])"
   ]
  },
  {
   "cell_type": "code",
   "execution_count": null,
   "metadata": {},
   "outputs": [],
   "source": []
  }
 ],
 "metadata": {
  "kernelspec": {
   "display_name": "Python 3",
   "language": "python",
   "name": "python3"
  },
  "language_info": {
   "codemirror_mode": {
    "name": "ipython",
    "version": 3
   },
   "file_extension": ".py",
   "mimetype": "text/x-python",
   "name": "python",
   "nbconvert_exporter": "python",
   "pygments_lexer": "ipython3",
   "version": "3.6.0"
  }
 },
 "nbformat": 4,
 "nbformat_minor": 2
}
