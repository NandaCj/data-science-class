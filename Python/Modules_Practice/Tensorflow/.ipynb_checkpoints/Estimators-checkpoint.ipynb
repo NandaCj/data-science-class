{
 "cells": [
  {
   "cell_type": "markdown",
   "metadata": {},
   "source": [
    "# Tensorflow Estimators \n",
    "    - a high-level TensorFlow API that greatly simplifies machine learning programming\n",
    "    - easier to create models with Estimators than with the low-level TensorFlow APIs.\n",
    "    - Estimators are themselves built on tf.keras.layers, which simplifies customization."
   ]
  },
  {
   "cell_type": "code",
   "execution_count": 10,
   "metadata": {},
   "outputs": [],
   "source": [
    "import tensorflow as tf\n",
    "import pandas as pd\n",
    "from sklearn.utils import shuffle\n",
    "from sklearn.preprocessing import MinMaxScaler\n",
    "from sklearn.model_selection import train_test_split\n",
    "\n",
    "scaler = MinMaxScaler()"
   ]
  },
  {
   "cell_type": "code",
   "execution_count": 33,
   "metadata": {},
   "outputs": [
    {
     "data": {
      "text/html": [
       "<div>\n",
       "<style scoped>\n",
       "    .dataframe tbody tr th:only-of-type {\n",
       "        vertical-align: middle;\n",
       "    }\n",
       "\n",
       "    .dataframe tbody tr th {\n",
       "        vertical-align: top;\n",
       "    }\n",
       "\n",
       "    .dataframe thead th {\n",
       "        text-align: right;\n",
       "    }\n",
       "</style>\n",
       "<table border=\"1\" class=\"dataframe\">\n",
       "  <thead>\n",
       "    <tr style=\"text-align: right;\">\n",
       "      <th></th>\n",
       "      <th>Gender</th>\n",
       "      <th>Height</th>\n",
       "      <th>Weight</th>\n",
       "    </tr>\n",
       "  </thead>\n",
       "  <tbody>\n",
       "    <tr>\n",
       "      <th>3418</th>\n",
       "      <td>Male</td>\n",
       "      <td>67.393229</td>\n",
       "      <td>185.556555</td>\n",
       "    </tr>\n",
       "    <tr>\n",
       "      <th>5118</th>\n",
       "      <td>Female</td>\n",
       "      <td>61.711032</td>\n",
       "      <td>108.028807</td>\n",
       "    </tr>\n",
       "    <tr>\n",
       "      <th>8339</th>\n",
       "      <td>Female</td>\n",
       "      <td>64.600232</td>\n",
       "      <td>130.657131</td>\n",
       "    </tr>\n",
       "    <tr>\n",
       "      <th>6930</th>\n",
       "      <td>Female</td>\n",
       "      <td>69.635931</td>\n",
       "      <td>177.589351</td>\n",
       "    </tr>\n",
       "    <tr>\n",
       "      <th>6223</th>\n",
       "      <td>Female</td>\n",
       "      <td>65.881067</td>\n",
       "      <td>166.348793</td>\n",
       "    </tr>\n",
       "  </tbody>\n",
       "</table>\n",
       "</div>"
      ],
      "text/plain": [
       "      Gender     Height      Weight\n",
       "3418    Male  67.393229  185.556555\n",
       "5118  Female  61.711032  108.028807\n",
       "8339  Female  64.600232  130.657131\n",
       "6930  Female  69.635931  177.589351\n",
       "6223  Female  65.881067  166.348793"
      ]
     },
     "execution_count": 33,
     "metadata": {},
     "output_type": "execute_result"
    }
   ],
   "source": [
    "data_file = '../../machine_learning/weight-height.csv' # make sure the path of the file is correct\n",
    "df = pd.read_csv(data_file)\n",
    "df = shuffle(df)\n",
    "df.head()"
   ]
  },
  {
   "cell_type": "code",
   "execution_count": 5,
   "metadata": {},
   "outputs": [],
   "source": [
    "features = ['Height'] # y \n",
    "label = ['Weight'] # x\n",
    "\n",
    "feature_cols = [tf.feature_column.numeric_column(k) for k in features]\t"
   ]
  },
  {
   "cell_type": "code",
   "execution_count": 6,
   "metadata": {},
   "outputs": [],
   "source": [
    "estimator = tf.estimator.LinearRegressor(    \n",
    "        feature_columns=feature_cols,   \n",
    "        model_dir=\"train\")"
   ]
  },
  {
   "cell_type": "code",
   "execution_count": 7,
   "metadata": {},
   "outputs": [
    {
     "data": {
      "text/plain": [
       "<tensorflow_estimator.python.estimator.canned.linear.LinearRegressor at 0x7f2dfbb13588>"
      ]
     },
     "execution_count": 7,
     "metadata": {},
     "output_type": "execute_result"
    }
   ],
   "source": [
    "estimator"
   ]
  },
  {
   "cell_type": "code",
   "execution_count": 34,
   "metadata": {},
   "outputs": [],
   "source": [
    "def get_input_fn(data_set, num_epochs=None, n_batch = 128, shuffle=True):    \n",
    "         return tf.estimator.inputs.pandas_input_fn(       \n",
    "         x=data_set[['Height']],       \n",
    "         y = data_set['Weight'],       \n",
    "         batch_size=n_batch,          \n",
    "         num_epochs=num_epochs,       \n",
    "         shuffle=shuffle)"
   ]
  },
  {
   "cell_type": "code",
   "execution_count": 35,
   "metadata": {},
   "outputs": [],
   "source": [
    "X_train, X_test, y_train, y_test = train_test_split(df[['Height']], df['Weight'], test_size=0.20, shuffle=True) \n"
   ]
  },
  {
   "cell_type": "code",
   "execution_count": 53,
   "metadata": {},
   "outputs": [
    {
     "name": "stderr",
     "output_type": "stream",
     "text": [
      "W0829 17:58:56.112344 139837052606272 deprecation.py:323] From /home/nandagopal/PycharmProjects/data-science-class/venv/lib/python3.6/site-packages/tensorflow/python/training/saver.py:1276: checkpoint_exists (from tensorflow.python.training.checkpoint_management) is deprecated and will be removed in a future version.\n",
      "Instructions for updating:\n",
      "Use standard file APIs to check for files with this prefix.\n",
      "W0829 17:58:56.133732 139837052606272 deprecation.py:323] From /home/nandagopal/PycharmProjects/data-science-class/venv/lib/python3.6/site-packages/tensorflow/python/training/saver.py:1066: get_checkpoint_mtimes (from tensorflow.python.training.checkpoint_management) is deprecated and will be removed in a future version.\n",
      "Instructions for updating:\n",
      "Use standard file utilities to get mtimes.\n"
     ]
    },
    {
     "data": {
      "text/plain": [
       "<tensorflow_estimator.python.estimator.canned.linear.LinearRegressor at 0x7f2dfbb13588>"
      ]
     },
     "execution_count": 53,
     "metadata": {},
     "output_type": "execute_result"
    }
   ],
   "source": [
    "estimator.train(input_fn=get_input_fn(df,                                       \n",
    "                                       num_epochs=100,                                      \n",
    "                                       n_batch = 128,                                      \n",
    "                                       shuffle=True),                                      \n",
    "                                       steps=1000)\t"
   ]
  },
  {
   "cell_type": "code",
   "execution_count": 37,
   "metadata": {
    "collapsed": true
   },
   "outputs": [
    {
     "data": {
      "text/plain": [
       "['__class__',\n",
       " '__delattr__',\n",
       " '__dict__',\n",
       " '__dir__',\n",
       " '__doc__',\n",
       " '__eq__',\n",
       " '__format__',\n",
       " '__ge__',\n",
       " '__getattribute__',\n",
       " '__gt__',\n",
       " '__hash__',\n",
       " '__init__',\n",
       " '__init_subclass__',\n",
       " '__le__',\n",
       " '__lt__',\n",
       " '__module__',\n",
       " '__ne__',\n",
       " '__new__',\n",
       " '__reduce__',\n",
       " '__reduce_ex__',\n",
       " '__repr__',\n",
       " '__setattr__',\n",
       " '__sizeof__',\n",
       " '__str__',\n",
       " '__subclasshook__',\n",
       " '__weakref__',\n",
       " '_actual_eval',\n",
       " '_actual_train_model_distributed',\n",
       " '_add_meta_graph_for_mode',\n",
       " '_assert_members_are_not_overridden',\n",
       " '_call_input_fn',\n",
       " '_call_model_fn',\n",
       " '_call_model_fn_eval',\n",
       " '_call_model_fn_eval_distributed',\n",
       " '_config',\n",
       " '_convert_eval_steps_to_hooks',\n",
       " '_convert_train_steps_to_hooks',\n",
       " '_create_and_assert_global_step',\n",
       " '_create_global_step',\n",
       " '_device_fn',\n",
       " '_estimator_api_names',\n",
       " '_estimator_api_names_v1',\n",
       " '_eval_distribution',\n",
       " '_evaluate_build_graph',\n",
       " '_evaluate_run',\n",
       " '_export_all_saved_models',\n",
       " '_extract_batch_length',\n",
       " '_extract_keys',\n",
       " '_get_features_and_labels_from_input_fn',\n",
       " '_get_features_from_input_fn',\n",
       " '_get_iterator_from_input_fn',\n",
       " '_maybe_warm_start',\n",
       " '_model_dir',\n",
       " '_model_fn',\n",
       " '_params',\n",
       " '_session_config',\n",
       " '_train_distribution',\n",
       " '_train_model',\n",
       " '_train_model_default',\n",
       " '_train_model_distributed',\n",
       " '_train_with_estimator_spec',\n",
       " '_train_with_estimator_spec_distributed',\n",
       " '_validate_features_in_predict_input',\n",
       " '_warm_start_settings',\n",
       " 'config',\n",
       " 'eval_dir',\n",
       " 'evaluate',\n",
       " 'experimental_export_all_saved_models',\n",
       " 'export_saved_model',\n",
       " 'export_savedmodel',\n",
       " 'get_variable_names',\n",
       " 'get_variable_value',\n",
       " 'latest_checkpoint',\n",
       " 'model_dir',\n",
       " 'model_fn',\n",
       " 'params',\n",
       " 'predict',\n",
       " 'train']"
      ]
     },
     "execution_count": 37,
     "metadata": {},
     "output_type": "execute_result"
    }
   ],
   "source": [
    "dir(estimator)"
   ]
  },
  {
   "cell_type": "code",
   "execution_count": 41,
   "metadata": {},
   "outputs": [
    {
     "data": {
      "text/plain": [
       "['global_step',\n",
       " 'linear/linear_model/Height/weights',\n",
       " 'linear/linear_model/Height/weights/part_0/Ftrl',\n",
       " 'linear/linear_model/Height/weights/part_0/Ftrl_1',\n",
       " 'linear/linear_model/bias_weights',\n",
       " 'linear/linear_model/bias_weights/part_0/Ftrl',\n",
       " 'linear/linear_model/bias_weights/part_0/Ftrl_1']"
      ]
     },
     "execution_count": 41,
     "metadata": {},
     "output_type": "execute_result"
    }
   ],
   "source": [
    "estimator.get_variable_names()"
   ]
  },
  {
   "cell_type": "code",
   "execution_count": 47,
   "metadata": {},
   "outputs": [
    {
     "data": {
      "text/plain": [
       "array([2.039604], dtype=float32)"
      ]
     },
     "execution_count": 47,
     "metadata": {},
     "output_type": "execute_result"
    }
   ],
   "source": [
    "estimator.get_variable_value('linear/linear_model/bias_weights')"
   ]
  },
  {
   "cell_type": "code",
   "execution_count": 48,
   "metadata": {},
   "outputs": [
    {
     "data": {
      "text/plain": [
       "{}"
      ]
     },
     "execution_count": 48,
     "metadata": {},
     "output_type": "execute_result"
    }
   ],
   "source": [
    "estimator.params"
   ]
  },
  {
   "cell_type": "code",
   "execution_count": 54,
   "metadata": {},
   "outputs": [
    {
     "name": "stdout",
     "output_type": "stream",
     "text": [
      "global_step 2000\n",
      "linear/linear_model/Height/weights [[2.426535]]\n",
      "linear/linear_model/Height/weights/part_0/Ftrl [[1.0679301e+14]]\n",
      "linear/linear_model/Height/weights/part_0/Ftrl_1 [[-1.253799e+08]]\n",
      "linear/linear_model/bias_weights [1.6495619]\n",
      "linear/linear_model/bias_weights/part_0/Ftrl [2.3445289e+10]\n",
      "linear/linear_model/bias_weights/part_0/Ftrl_1 [-1262892.6]\n"
     ]
    }
   ],
   "source": [
    "for i in estimator.get_variable_names():\n",
    "    print(i, estimator.get_variable_value(i))"
   ]
  },
  {
   "cell_type": "code",
   "execution_count": 66,
   "metadata": {},
   "outputs": [
    {
     "name": "stderr",
     "output_type": "stream",
     "text": [
      "W0829 18:07:38.234286 139837052606272 estimator.py:1811] Using temporary folder as model directory: /tmp/tmp4mtjimz0\n"
     ]
    }
   ],
   "source": [
    "import numpy as np\n",
    "import tensorflow as tf\n",
    " \n",
    "n = 150\n",
    "x = np.random.rand(n) \n",
    "y = 3*x + 4 \n",
    " \n",
    "def input_fn():\n",
    "    features = {'x': x}\n",
    "    labels = y\n",
    "    return features, labels\n",
    " \n",
    "xfc = tf.feature_column.numeric_column('x')\n",
    "estimator = tf.estimator.LinearRegressor(feature_columns=[xfc])\n",
    "estimator.train(input_fn=input_fn, steps=100000)\n",
    " \n",
    "w = estimator.get_variable_value('linear/linear_model/x/weights')[0][0]\n",
    "b = estimator.get_variable_value('linear/linear_model/bias_weights')[0]"
   ]
  },
  {
   "cell_type": "code",
   "execution_count": 68,
   "metadata": {},
   "outputs": [
    {
     "name": "stdout",
     "output_type": "stream",
     "text": [
      "3.000336 3.999791\n"
     ]
    }
   ],
   "source": [
    "print(w, b)"
   ]
  },
  {
   "cell_type": "code",
   "execution_count": null,
   "metadata": {},
   "outputs": [],
   "source": []
  }
 ],
 "metadata": {
  "kernelspec": {
   "display_name": "Python 3",
   "language": "python",
   "name": "python3"
  },
  "language_info": {
   "codemirror_mode": {
    "name": "ipython",
    "version": 3
   },
   "file_extension": ".py",
   "mimetype": "text/x-python",
   "name": "python",
   "nbconvert_exporter": "python",
   "pygments_lexer": "ipython3",
   "version": "3.6.8"
  }
 },
 "nbformat": 4,
 "nbformat_minor": 2
}
