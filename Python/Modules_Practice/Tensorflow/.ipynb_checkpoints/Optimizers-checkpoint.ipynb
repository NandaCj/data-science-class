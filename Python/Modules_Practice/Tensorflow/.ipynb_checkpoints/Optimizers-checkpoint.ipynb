{
 "cells": [
  {
   "cell_type": "code",
   "execution_count": 1,
   "metadata": {},
   "outputs": [],
   "source": [
    "import tensorflow as tf\n",
    "import pandas as pd\n",
    "from sklearn.utils import shuffle\n",
    "from sklearn.preprocessing import MinMaxScaler\n",
    "\n",
    "scaler = MinMaxScaler()"
   ]
  },
  {
   "cell_type": "code",
   "execution_count": 2,
   "metadata": {},
   "outputs": [
    {
     "data": {
      "text/html": [
       "<div>\n",
       "<style scoped>\n",
       "    .dataframe tbody tr th:only-of-type {\n",
       "        vertical-align: middle;\n",
       "    }\n",
       "\n",
       "    .dataframe tbody tr th {\n",
       "        vertical-align: top;\n",
       "    }\n",
       "\n",
       "    .dataframe thead th {\n",
       "        text-align: right;\n",
       "    }\n",
       "</style>\n",
       "<table border=\"1\" class=\"dataframe\">\n",
       "  <thead>\n",
       "    <tr style=\"text-align: right;\">\n",
       "      <th></th>\n",
       "      <th>Gender</th>\n",
       "      <th>Height</th>\n",
       "      <th>Weight</th>\n",
       "    </tr>\n",
       "  </thead>\n",
       "  <tbody>\n",
       "    <tr>\n",
       "      <th>6431</th>\n",
       "      <td>Female</td>\n",
       "      <td>69.995202</td>\n",
       "      <td>176.550874</td>\n",
       "    </tr>\n",
       "    <tr>\n",
       "      <th>8480</th>\n",
       "      <td>Female</td>\n",
       "      <td>61.773305</td>\n",
       "      <td>112.267301</td>\n",
       "    </tr>\n",
       "    <tr>\n",
       "      <th>3455</th>\n",
       "      <td>Male</td>\n",
       "      <td>72.384493</td>\n",
       "      <td>228.209887</td>\n",
       "    </tr>\n",
       "    <tr>\n",
       "      <th>1679</th>\n",
       "      <td>Male</td>\n",
       "      <td>65.774012</td>\n",
       "      <td>156.968074</td>\n",
       "    </tr>\n",
       "    <tr>\n",
       "      <th>2210</th>\n",
       "      <td>Male</td>\n",
       "      <td>67.035929</td>\n",
       "      <td>175.452168</td>\n",
       "    </tr>\n",
       "  </tbody>\n",
       "</table>\n",
       "</div>"
      ],
      "text/plain": [
       "      Gender     Height      Weight\n",
       "6431  Female  69.995202  176.550874\n",
       "8480  Female  61.773305  112.267301\n",
       "3455    Male  72.384493  228.209887\n",
       "1679    Male  65.774012  156.968074\n",
       "2210    Male  67.035929  175.452168"
      ]
     },
     "execution_count": 2,
     "metadata": {},
     "output_type": "execute_result"
    }
   ],
   "source": [
    "data_file = '../../machine_learning/weight-height.csv' # make sure the path of the file is correct\n",
    "df = pd.read_csv(data_file)\n",
    "df = shuffle(df)\n",
    "df.head()"
   ]
  },
  {
   "cell_type": "code",
   "execution_count": 3,
   "metadata": {},
   "outputs": [],
   "source": [
    "# # train data\n",
    "# x = scaler.fit_transform(df.Height.values.reshape(-1,1))\n",
    "# y = scaler.fit_transform(df.Weight.values.reshape(-1,1))\n",
    "\n",
    "\n",
    "x = df.Height.values\n",
    "y = df.Weight.values"
   ]
  },
  {
   "cell_type": "code",
   "execution_count": 4,
   "metadata": {},
   "outputs": [],
   "source": [
    "# Model Parameters\n",
    "W = tf.Variable([1.0],name='weight')\n",
    "b = tf.Variable([1.0],name='bias')\n",
    "\n"
   ]
  },
  {
   "cell_type": "code",
   "execution_count": 5,
   "metadata": {},
   "outputs": [],
   "source": [
    "# Model inputs\n",
    "# training data\n",
    "X = tf.placeholder(tf.float32)\n",
    "# y\n",
    "Y = tf.placeholder(tf.float32)"
   ]
  },
  {
   "cell_type": "code",
   "execution_count": 6,
   "metadata": {},
   "outputs": [],
   "source": [
    "# Model definitation\n",
    "predictions = W*X + b"
   ]
  },
  {
   "cell_type": "code",
   "execution_count": 7,
   "metadata": {},
   "outputs": [],
   "source": [
    "# loss function. Here we use sum of squared errors.\n",
    "loss = tf.reduce_sum(tf.square(predictions-Y))"
   ]
  },
  {
   "cell_type": "code",
   "execution_count": 15,
   "metadata": {},
   "outputs": [],
   "source": [
    "# training op\n",
    "train = tf.train.AdamOptimizer(0.01,).minimize(loss)"
   ]
  },
  {
   "cell_type": "code",
   "execution_count": 18,
   "metadata": {
    "collapsed": true
   },
   "outputs": [
    {
     "name": "stdout",
     "output_type": "stream",
     "text": [
      "[array([1.01], dtype=float32), array([1.01], dtype=float32)]\n",
      "[array([2.4195292], dtype=float32), array([2.0257835], dtype=float32)]\n",
      "[array([2.434131], dtype=float32), array([1.0536075], dtype=float32)]\n",
      "[array([2.459944], dtype=float32), array([-0.6649556], dtype=float32)]\n",
      "[array([2.5022326], dtype=float32), array([-3.4801185], dtype=float32)]\n",
      "[array([2.567429], dtype=float32), array([-7.819891], dtype=float32)]\n",
      "[array([2.65967], dtype=float32), array([-13.959507], dtype=float32)]\n",
      "[array([2.776253], dtype=float32), array([-21.719498], dtype=float32)]\n",
      "[array([2.908737], dtype=float32), array([-30.538717], dtype=float32)]\n",
      "[array([3.0491056], dtype=float32), array([-39.883812], dtype=float32)]\n",
      "[array([3.1927102], dtype=float32), array([-49.445118], dtype=float32)]\n",
      "[array([3.3374572], dtype=float32), array([-59.08307], dtype=float32)]\n",
      "[array([3.4825013], dtype=float32), array([-68.7411], dtype=float32)]\n",
      "[array([3.6275506], dtype=float32), array([-78.39968], dtype=float32)]\n",
      "[array([3.7724535], dtype=float32), array([-88.0487], dtype=float32)]\n",
      "[array([3.9172542], dtype=float32), array([-97.68625], dtype=float32)]\n",
      "[array([4.0616813], dtype=float32), array([-107.308624], dtype=float32)]\n",
      "[array([4.205998], dtype=float32), array([-116.91599], dtype=float32)]\n",
      "[array([4.349837], dtype=float32), array([-126.50717], dtype=float32)]\n",
      "[array([4.49377], dtype=float32), array([-136.08148], dtype=float32)]\n",
      "[array([4.6372895], dtype=float32), array([-145.63812], dtype=float32)]\n",
      "[array([4.780507], dtype=float32), array([-155.17369], dtype=float32)]\n",
      "[array([4.9233627], dtype=float32), array([-164.68796], dtype=float32)]\n",
      "[array([5.065999], dtype=float32), array([-174.17822], dtype=float32)]\n",
      "[array([5.2079835], dtype=float32), array([-183.64322], dtype=float32)]\n",
      "[array([5.349452], dtype=float32), array([-193.07861], dtype=float32)]\n",
      "[array([5.490907], dtype=float32), array([-202.48207], dtype=float32)]\n",
      "[array([5.631594], dtype=float32), array([-211.84966], dtype=float32)]\n",
      "[array([5.771892], dtype=float32), array([-221.17722], dtype=float32)]\n",
      "[array([5.9107666], dtype=float32), array([-230.45877], dtype=float32)]\n",
      "[array([6.050046], dtype=float32), array([-239.68837], dtype=float32)]\n",
      "[array([6.187337], dtype=float32), array([-248.85909], dtype=float32)]\n",
      "[array([6.323878], dtype=float32), array([-257.96124], dtype=float32)]\n",
      "[array([6.460007], dtype=float32), array([-266.9812], dtype=float32)]\n",
      "[array([6.5934987], dtype=float32), array([-275.90546], dtype=float32)]\n",
      "[array([6.725797], dtype=float32), array([-284.7137], dtype=float32)]\n",
      "[array([6.855973], dtype=float32), array([-293.3797], dtype=float32)]\n",
      "[array([6.9834337], dtype=float32), array([-301.87262], dtype=float32)]\n",
      "[array([7.1076117], dtype=float32), array([-310.14023], dtype=float32)]\n",
      "[array([7.2273903], dtype=float32), array([-318.11505], dtype=float32)]\n",
      "[array([7.341261], dtype=float32), array([-325.6979], dtype=float32)]\n",
      "[array([7.4469604], dtype=float32), array([-332.73593], dtype=float32)]\n",
      "[array([7.5412006], dtype=float32), array([-338.9986], dtype=float32)]\n",
      "[array([7.619333], dtype=float32), array([-344.15076], dtype=float32)]\n",
      "[array([7.6731143], dtype=float32), array([-347.79593], dtype=float32)]\n",
      "[array([7.7028604], dtype=float32), array([-349.77487], dtype=float32)]\n",
      "[array([7.7138395], dtype=float32), array([-350.50732], dtype=float32)]\n",
      "[array([7.716565], dtype=float32), array([-350.69308], dtype=float32)]\n",
      "[array([7.717188], dtype=float32), array([-350.72974], dtype=float32)]\n",
      "[array([7.7172523], dtype=float32), array([-350.73486], dtype=float32)]\n",
      "[array([7.7172713], dtype=float32), array([-350.73615], dtype=float32)]\n",
      "[array([7.7171793], dtype=float32), array([-350.73697], dtype=float32)]\n",
      "[array([7.717284], dtype=float32), array([-350.73697], dtype=float32)]\n",
      "[array([7.717286], dtype=float32), array([-350.73712], dtype=float32)]\n",
      "[array([7.717289], dtype=float32), array([-350.7373], dtype=float32)]\n",
      "[array([7.717036], dtype=float32), array([-350.73755], dtype=float32)]\n",
      "[array([7.717296], dtype=float32), array([-350.73752], dtype=float32)]\n",
      "[array([7.7172866], dtype=float32), array([-350.7372], dtype=float32)]\n",
      "[array([7.7172866], dtype=float32), array([-350.73712], dtype=float32)]\n",
      "[array([7.7172875], dtype=float32), array([-350.7372], dtype=float32)]\n",
      "[array([7.7172875], dtype=float32), array([-350.7372], dtype=float32)]\n",
      "[array([7.7172875], dtype=float32), array([-350.73737], dtype=float32)]\n",
      "[array([7.7172923], dtype=float32), array([-350.73734], dtype=float32)]\n",
      "[array([7.7172513], dtype=float32), array([-350.73734], dtype=float32)]\n",
      "[array([7.717286], dtype=float32), array([-350.73712], dtype=float32)]\n",
      "[array([7.7172894], dtype=float32), array([-350.73727], dtype=float32)]\n",
      "[array([7.7174015], dtype=float32), array([-350.73703], dtype=float32)]\n",
      "[array([7.7172894], dtype=float32), array([-350.73734], dtype=float32)]\n",
      "[array([7.717289], dtype=float32), array([-350.73724], dtype=float32)]\n",
      "[array([7.717207], dtype=float32), array([-350.73743], dtype=float32)]\n",
      "[array([7.7172856], dtype=float32), array([-350.737], dtype=float32)]\n",
      "[array([7.7172904], dtype=float32), array([-350.73715], dtype=float32)]\n",
      "[array([7.71729], dtype=float32), array([-350.7372], dtype=float32)]\n",
      "[array([7.7172875], dtype=float32), array([-350.7373], dtype=float32)]\n",
      "[array([7.7172894], dtype=float32), array([-350.73727], dtype=float32)]\n",
      "[array([7.7173653], dtype=float32), array([-350.7372], dtype=float32)]\n",
      "[array([7.7172956], dtype=float32), array([-350.73743], dtype=float32)]\n",
      "[array([7.7172985], dtype=float32), array([-350.73737], dtype=float32)]\n",
      "[array([7.717292], dtype=float32), array([-350.7375], dtype=float32)]\n",
      "[array([7.7172685], dtype=float32), array([-350.73727], dtype=float32)]\n",
      "[array([7.7171597], dtype=float32), array([-350.7375], dtype=float32)]\n",
      "[array([7.7173333], dtype=float32), array([-350.7373], dtype=float32)]\n",
      "[array([7.717276], dtype=float32), array([-350.73734], dtype=float32)]\n",
      "[array([7.717138], dtype=float32), array([-350.7373], dtype=float32)]\n",
      "[array([7.7172914], dtype=float32), array([-350.73734], dtype=float32)]\n",
      "[array([7.717287], dtype=float32), array([-350.73715], dtype=float32)]\n",
      "[array([7.717285], dtype=float32), array([-350.73706], dtype=float32)]\n",
      "[array([7.7173495], dtype=float32), array([-350.737], dtype=float32)]\n",
      "[array([7.717285], dtype=float32), array([-350.7372], dtype=float32)]\n",
      "[array([7.7172875], dtype=float32), array([-350.7373], dtype=float32)]\n",
      "[array([7.7172866], dtype=float32), array([-350.73727], dtype=float32)]\n",
      "[array([7.716849], dtype=float32), array([-350.7375], dtype=float32)]\n",
      "[array([7.717284], dtype=float32), array([-350.73697], dtype=float32)]\n",
      "[array([7.717281], dtype=float32), array([-350.73703], dtype=float32)]\n",
      "[array([7.7172894], dtype=float32), array([-350.7371], dtype=float32)]\n",
      "[array([7.7173653], dtype=float32), array([-350.7372], dtype=float32)]\n",
      "[array([7.7170863], dtype=float32), array([-350.73755], dtype=float32)]\n",
      "[array([7.717884], dtype=float32), array([-350.7366], dtype=float32)]\n",
      "[array([7.71729], dtype=float32), array([-350.7373], dtype=float32)]\n",
      "[array([7.717288], dtype=float32), array([-350.73715], dtype=float32)]\n",
      "[array([7.7172923], dtype=float32), array([-350.73746], dtype=float32)]\n",
      "[array([7.7172894], dtype=float32), array([-350.73743], dtype=float32)]\n",
      "[array([7.717003], dtype=float32), array([-350.73737], dtype=float32)]\n",
      "[array([7.717281], dtype=float32), array([-350.73694], dtype=float32)]\n",
      "[array([7.717288], dtype=float32), array([-350.73715], dtype=float32)]\n",
      "[array([7.7172847], dtype=float32), array([-350.73715], dtype=float32)]\n",
      "[array([7.717261], dtype=float32), array([-350.73715], dtype=float32)]\n",
      "[array([7.7172866], dtype=float32), array([-350.73715], dtype=float32)]\n",
      "[array([7.717299], dtype=float32), array([-350.73712], dtype=float32)]\n",
      "[array([7.7180147], dtype=float32), array([-350.73642], dtype=float32)]\n",
      "[array([7.717288], dtype=float32), array([-350.73718], dtype=float32)]\n",
      "[array([7.7170596], dtype=float32), array([-350.73743], dtype=float32)]\n",
      "[array([7.7172923], dtype=float32), array([-350.7373], dtype=float32)]\n",
      "[array([7.7172866], dtype=float32), array([-350.73712], dtype=float32)]\n",
      "[array([7.7172875], dtype=float32), array([-350.73718], dtype=float32)]\n",
      "[array([7.717288], dtype=float32), array([-350.73718], dtype=float32)]\n"
     ]
    },
    {
     "name": "stdout",
     "output_type": "stream",
     "text": [
      "[array([7.717287], dtype=float32), array([-350.73727], dtype=float32)]\n",
      "[array([7.71729], dtype=float32), array([-350.73737], dtype=float32)]\n",
      "[array([7.7172847], dtype=float32), array([-350.73706], dtype=float32)]\n",
      "[array([7.717206], dtype=float32), array([-350.73718], dtype=float32)]\n",
      "[array([7.717286], dtype=float32), array([-350.73712], dtype=float32)]\n"
     ]
    },
    {
     "ename": "KeyboardInterrupt",
     "evalue": "",
     "output_type": "error",
     "traceback": [
      "\u001b[0;31m---------------------------------------------------------------------------\u001b[0m",
      "\u001b[0;31mKeyboardInterrupt\u001b[0m                         Traceback (most recent call last)",
      "\u001b[0;32m<ipython-input-18-67d146e9e89f>\u001b[0m in \u001b[0;36m<module>\u001b[0;34m\u001b[0m\n\u001b[1;32m      3\u001b[0m \u001b[0msess\u001b[0m\u001b[0;34m.\u001b[0m\u001b[0mrun\u001b[0m\u001b[0;34m(\u001b[0m\u001b[0mtf\u001b[0m\u001b[0;34m.\u001b[0m\u001b[0mglobal_variables_initializer\u001b[0m\u001b[0;34m(\u001b[0m\u001b[0;34m)\u001b[0m\u001b[0;34m)\u001b[0m\u001b[0;34m\u001b[0m\u001b[0;34m\u001b[0m\u001b[0m\n\u001b[1;32m      4\u001b[0m \u001b[0;32mfor\u001b[0m \u001b[0mtrain_step\u001b[0m \u001b[0;32min\u001b[0m \u001b[0mrange\u001b[0m\u001b[0;34m(\u001b[0m\u001b[0;36m200000\u001b[0m\u001b[0;34m)\u001b[0m\u001b[0;34m:\u001b[0m\u001b[0;34m\u001b[0m\u001b[0;34m\u001b[0m\u001b[0m\n\u001b[0;32m----> 5\u001b[0;31m     \u001b[0msess\u001b[0m\u001b[0;34m.\u001b[0m\u001b[0mrun\u001b[0m\u001b[0;34m(\u001b[0m\u001b[0mtrain\u001b[0m\u001b[0;34m,\u001b[0m\u001b[0;34m{\u001b[0m\u001b[0mX\u001b[0m\u001b[0;34m:\u001b[0m\u001b[0mx\u001b[0m\u001b[0;34m,\u001b[0m\u001b[0mY\u001b[0m\u001b[0;34m:\u001b[0m\u001b[0my\u001b[0m\u001b[0;34m}\u001b[0m\u001b[0;34m)\u001b[0m\u001b[0;34m\u001b[0m\u001b[0;34m\u001b[0m\u001b[0m\n\u001b[0m\u001b[1;32m      6\u001b[0m     \u001b[0;32mif\u001b[0m \u001b[0mtrain_step\u001b[0m\u001b[0;34m%\u001b[0m\u001b[0;36m1000\u001b[0m \u001b[0;34m==\u001b[0m\u001b[0;36m0\u001b[0m\u001b[0;34m:\u001b[0m\u001b[0;34m\u001b[0m\u001b[0;34m\u001b[0m\u001b[0m\n\u001b[1;32m      7\u001b[0m         \u001b[0mprint\u001b[0m\u001b[0;34m(\u001b[0m\u001b[0msess\u001b[0m\u001b[0;34m.\u001b[0m\u001b[0mrun\u001b[0m\u001b[0;34m(\u001b[0m\u001b[0;34m[\u001b[0m\u001b[0mW\u001b[0m\u001b[0;34m,\u001b[0m \u001b[0mb\u001b[0m\u001b[0;34m]\u001b[0m\u001b[0;34m)\u001b[0m\u001b[0;34m)\u001b[0m\u001b[0;34m\u001b[0m\u001b[0;34m\u001b[0m\u001b[0m\n",
      "\u001b[0;32m~/PycharmProjects/data-science-class/venv/lib/python3.6/site-packages/tensorflow/python/client/session.py\u001b[0m in \u001b[0;36mrun\u001b[0;34m(self, fetches, feed_dict, options, run_metadata)\u001b[0m\n\u001b[1;32m    948\u001b[0m     \u001b[0;32mtry\u001b[0m\u001b[0;34m:\u001b[0m\u001b[0;34m\u001b[0m\u001b[0;34m\u001b[0m\u001b[0m\n\u001b[1;32m    949\u001b[0m       result = self._run(None, fetches, feed_dict, options_ptr,\n\u001b[0;32m--> 950\u001b[0;31m                          run_metadata_ptr)\n\u001b[0m\u001b[1;32m    951\u001b[0m       \u001b[0;32mif\u001b[0m \u001b[0mrun_metadata\u001b[0m\u001b[0;34m:\u001b[0m\u001b[0;34m\u001b[0m\u001b[0;34m\u001b[0m\u001b[0m\n\u001b[1;32m    952\u001b[0m         \u001b[0mproto_data\u001b[0m \u001b[0;34m=\u001b[0m \u001b[0mtf_session\u001b[0m\u001b[0;34m.\u001b[0m\u001b[0mTF_GetBuffer\u001b[0m\u001b[0;34m(\u001b[0m\u001b[0mrun_metadata_ptr\u001b[0m\u001b[0;34m)\u001b[0m\u001b[0;34m\u001b[0m\u001b[0;34m\u001b[0m\u001b[0m\n",
      "\u001b[0;32m~/PycharmProjects/data-science-class/venv/lib/python3.6/site-packages/tensorflow/python/client/session.py\u001b[0m in \u001b[0;36m_run\u001b[0;34m(self, handle, fetches, feed_dict, options, run_metadata)\u001b[0m\n\u001b[1;32m   1156\u001b[0m     \u001b[0;31m# Create a fetch handler to take care of the structure of fetches.\u001b[0m\u001b[0;34m\u001b[0m\u001b[0;34m\u001b[0m\u001b[0;34m\u001b[0m\u001b[0m\n\u001b[1;32m   1157\u001b[0m     fetch_handler = _FetchHandler(\n\u001b[0;32m-> 1158\u001b[0;31m         self._graph, fetches, feed_dict_tensor, feed_handles=feed_handles)\n\u001b[0m\u001b[1;32m   1159\u001b[0m \u001b[0;34m\u001b[0m\u001b[0m\n\u001b[1;32m   1160\u001b[0m     \u001b[0;31m# Run request and get response.\u001b[0m\u001b[0;34m\u001b[0m\u001b[0;34m\u001b[0m\u001b[0;34m\u001b[0m\u001b[0m\n",
      "\u001b[0;32m~/PycharmProjects/data-science-class/venv/lib/python3.6/site-packages/tensorflow/python/client/session.py\u001b[0m in \u001b[0;36m__init__\u001b[0;34m(self, graph, fetches, feeds, feed_handles)\u001b[0m\n\u001b[1;32m    474\u001b[0m       \u001b[0mself\u001b[0m\u001b[0;34m.\u001b[0m\u001b[0m_fetch_mapper\u001b[0m \u001b[0;34m=\u001b[0m \u001b[0m_FetchMapper\u001b[0m\u001b[0;34m.\u001b[0m\u001b[0mfor_fetch\u001b[0m\u001b[0;34m(\u001b[0m\u001b[0mfetches\u001b[0m\u001b[0;34m)\u001b[0m\u001b[0;34m\u001b[0m\u001b[0;34m\u001b[0m\u001b[0m\n\u001b[1;32m    475\u001b[0m     \u001b[0mself\u001b[0m\u001b[0;34m.\u001b[0m\u001b[0m_fetches\u001b[0m \u001b[0;34m=\u001b[0m \u001b[0;34m[\u001b[0m\u001b[0;34m]\u001b[0m\u001b[0;34m\u001b[0m\u001b[0;34m\u001b[0m\u001b[0m\n\u001b[0;32m--> 476\u001b[0;31m     \u001b[0mself\u001b[0m\u001b[0;34m.\u001b[0m\u001b[0m_targets\u001b[0m \u001b[0;34m=\u001b[0m \u001b[0;34m[\u001b[0m\u001b[0;34m]\u001b[0m\u001b[0;34m\u001b[0m\u001b[0;34m\u001b[0m\u001b[0m\n\u001b[0m\u001b[1;32m    477\u001b[0m     \u001b[0mself\u001b[0m\u001b[0;34m.\u001b[0m\u001b[0m_feeds\u001b[0m \u001b[0;34m=\u001b[0m \u001b[0mfeeds\u001b[0m\u001b[0;34m\u001b[0m\u001b[0;34m\u001b[0m\u001b[0m\n\u001b[1;32m    478\u001b[0m     \u001b[0mself\u001b[0m\u001b[0;34m.\u001b[0m\u001b[0m_feed_handles\u001b[0m \u001b[0;34m=\u001b[0m \u001b[0mfeed_handles\u001b[0m \u001b[0;32mor\u001b[0m \u001b[0;34m{\u001b[0m\u001b[0;34m}\u001b[0m\u001b[0;34m\u001b[0m\u001b[0;34m\u001b[0m\u001b[0m\n",
      "\u001b[0;31mKeyboardInterrupt\u001b[0m: "
     ]
    }
   ],
   "source": [
    "sess = tf.InteractiveSession()\n",
    "\n",
    "sess.run(tf.global_variables_initializer())\n",
    "for train_step in range(200000):\n",
    "    sess.run(train,{X:x,Y:y})\n",
    "    if train_step%1000 ==0:\n",
    "        print(sess.run([W, b]))"
   ]
  },
  {
   "cell_type": "code",
   "execution_count": 19,
   "metadata": {},
   "outputs": [
    {
     "data": {
      "text/plain": [
       "[array([7.717308], dtype=float32), array([-350.7373], dtype=float32)]"
      ]
     },
     "execution_count": 19,
     "metadata": {},
     "output_type": "execute_result"
    }
   ],
   "source": [
    "sess.run([W,b])"
   ]
  },
  {
   "cell_type": "code",
   "execution_count": null,
   "metadata": {},
   "outputs": [],
   "source": []
  }
 ],
 "metadata": {
  "kernelspec": {
   "display_name": "Python 3",
   "language": "python",
   "name": "python3"
  },
  "language_info": {
   "codemirror_mode": {
    "name": "ipython",
    "version": 3
   },
   "file_extension": ".py",
   "mimetype": "text/x-python",
   "name": "python",
   "nbconvert_exporter": "python",
   "pygments_lexer": "ipython3",
   "version": "3.6.8"
  }
 },
 "nbformat": 4,
 "nbformat_minor": 2
}
