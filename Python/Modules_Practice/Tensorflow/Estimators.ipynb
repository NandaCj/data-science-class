{
 "cells": [
  {
   "cell_type": "markdown",
   "metadata": {},
   "source": [
    "# Tensorflow Estimators \n",
    "    - a high-level TensorFlow API that greatly simplifies machine learning programming\n",
    "    - easier to create models with Estimators than with the low-level TensorFlow APIs."
   ]
  },
  {
   "cell_type": "code",
   "execution_count": 1,
   "metadata": {},
   "outputs": [],
   "source": [
    "import tensorflow as tf\n",
    "import pandas as pd\n",
    "import numpy as np\n",
    "from sklearn.utils import shuffle\n",
    "from sklearn.preprocessing import MinMaxScaler\n",
    "from sklearn.model_selection import train_test_split\n",
    "\n",
    "scaler = MinMaxScaler()"
   ]
  },
  {
   "cell_type": "markdown",
   "metadata": {},
   "source": [
    "# Simple Linear Regression using Tensorflow Estimators"
   ]
  },
  {
   "cell_type": "code",
   "execution_count": null,
   "metadata": {},
   "outputs": [],
   "source": [
    "x = np.array([1,2,3,4,5,6,7])\n",
    "y = x * 3 + 2\n",
    "\n",
    "print(x, y)\n"
   ]
  },
  {
   "cell_type": "code",
   "execution_count": null,
   "metadata": {},
   "outputs": [],
   "source": [
    "# Define Feature Columns - Note : it should be a list of columns\n",
    "feature_cols = [tf.feature_column.numeric_column('x')]\n",
    "feature_cols"
   ]
  },
  {
   "cell_type": "code",
   "execution_count": null,
   "metadata": {},
   "outputs": [],
   "source": [
    "est = tf.estimator.LinearRegressor(feature_columns=feature_cols, optimizer='Adam', model_dir=\"train\")\n",
    "est"
   ]
  },
  {
   "cell_type": "markdown",
   "metadata": {},
   "source": [
    "### estimator train function needs a input function that returns features and labels"
   ]
  },
  {
   "cell_type": "code",
   "execution_count": null,
   "metadata": {},
   "outputs": [],
   "source": [
    "def input_fn():\n",
    "    features = {'x': x}\n",
    "    labels = y\n",
    "    return features, labels"
   ]
  },
  {
   "cell_type": "code",
   "execution_count": null,
   "metadata": {},
   "outputs": [],
   "source": [
    "est.train(input_fn=input_fn, steps=1000)"
   ]
  },
  {
   "cell_type": "code",
   "execution_count": null,
   "metadata": {},
   "outputs": [],
   "source": [
    "w = est.get_variable_value('linear/linear_model/x/weights')[0][0]\n",
    "b = est.get_variable_value('linear/linear_model/bias_weights')[0]"
   ]
  },
  {
   "cell_type": "code",
   "execution_count": null,
   "metadata": {},
   "outputs": [],
   "source": [
    "print(w, b)"
   ]
  },
  {
   "cell_type": "code",
   "execution_count": null,
   "metadata": {},
   "outputs": [],
   "source": [
    "for i in est.get_variable_names():\n",
    "    print(i, est.get_variable_value(i))"
   ]
  },
  {
   "cell_type": "code",
   "execution_count": null,
   "metadata": {},
   "outputs": [],
   "source": []
  },
  {
   "cell_type": "code",
   "execution_count": null,
   "metadata": {},
   "outputs": [],
   "source": []
  },
  {
   "cell_type": "code",
   "execution_count": 2,
   "metadata": {},
   "outputs": [
    {
     "data": {
      "text/html": [
       "<div>\n",
       "<style scoped>\n",
       "    .dataframe tbody tr th:only-of-type {\n",
       "        vertical-align: middle;\n",
       "    }\n",
       "\n",
       "    .dataframe tbody tr th {\n",
       "        vertical-align: top;\n",
       "    }\n",
       "\n",
       "    .dataframe thead th {\n",
       "        text-align: right;\n",
       "    }\n",
       "</style>\n",
       "<table border=\"1\" class=\"dataframe\">\n",
       "  <thead>\n",
       "    <tr style=\"text-align: right;\">\n",
       "      <th></th>\n",
       "      <th>Gender</th>\n",
       "      <th>Height</th>\n",
       "      <th>Weight</th>\n",
       "    </tr>\n",
       "  </thead>\n",
       "  <tbody>\n",
       "    <tr>\n",
       "      <th>1114</th>\n",
       "      <td>Male</td>\n",
       "      <td>71.034829</td>\n",
       "      <td>202.039446</td>\n",
       "    </tr>\n",
       "    <tr>\n",
       "      <th>1526</th>\n",
       "      <td>Male</td>\n",
       "      <td>70.378539</td>\n",
       "      <td>207.795408</td>\n",
       "    </tr>\n",
       "    <tr>\n",
       "      <th>7187</th>\n",
       "      <td>Female</td>\n",
       "      <td>66.190572</td>\n",
       "      <td>149.581805</td>\n",
       "    </tr>\n",
       "    <tr>\n",
       "      <th>4711</th>\n",
       "      <td>Male</td>\n",
       "      <td>71.451930</td>\n",
       "      <td>199.234439</td>\n",
       "    </tr>\n",
       "    <tr>\n",
       "      <th>2330</th>\n",
       "      <td>Male</td>\n",
       "      <td>66.384232</td>\n",
       "      <td>162.017030</td>\n",
       "    </tr>\n",
       "  </tbody>\n",
       "</table>\n",
       "</div>"
      ],
      "text/plain": [
       "      Gender     Height      Weight\n",
       "1114    Male  71.034829  202.039446\n",
       "1526    Male  70.378539  207.795408\n",
       "7187  Female  66.190572  149.581805\n",
       "4711    Male  71.451930  199.234439\n",
       "2330    Male  66.384232  162.017030"
      ]
     },
     "execution_count": 2,
     "metadata": {},
     "output_type": "execute_result"
    }
   ],
   "source": [
    "data_file = '../../machine_learning/weight-height.csv' # make sure the path of the file is correct\n",
    "df = pd.read_csv(data_file)\n",
    "df = shuffle(df)\n",
    "df.head()"
   ]
  },
  {
   "cell_type": "code",
   "execution_count": 3,
   "metadata": {},
   "outputs": [],
   "source": [
    "features = ['Height'] # y \n",
    "label = ['Weight'] # x\n",
    "\n",
    "feature_cols = [tf.feature_column.numeric_column(k) for k in features]\t"
   ]
  },
  {
   "cell_type": "code",
   "execution_count": 15,
   "metadata": {},
   "outputs": [],
   "source": [
    "estimator = tf.estimator.LinearRegressor(    \n",
    "        feature_columns=feature_cols,   \n",
    "        model_dir=\"train1\", \n",
    "        optimizer='Adam'\n",
    "    )"
   ]
  },
  {
   "cell_type": "code",
   "execution_count": 16,
   "metadata": {},
   "outputs": [
    {
     "data": {
      "text/plain": [
       "<tensorflow_estimator.python.estimator.canned.linear.LinearRegressor at 0x7ff80b6bdf98>"
      ]
     },
     "execution_count": 16,
     "metadata": {},
     "output_type": "execute_result"
    }
   ],
   "source": [
    "estimator"
   ]
  },
  {
   "cell_type": "code",
   "execution_count": 17,
   "metadata": {},
   "outputs": [],
   "source": [
    "def get_input_fn(data_set, num_epochs=None, n_batch = 128, shuffle=True):    \n",
    "         return tf.estimator.inputs.pandas_input_fn(       \n",
    "         x=data_set[['Height']],       \n",
    "         y = data_set['Weight'],       \n",
    "         batch_size=n_batch,          \n",
    "         num_epochs=num_epochs,       \n",
    "         shuffle=shuffle)"
   ]
  },
  {
   "cell_type": "code",
   "execution_count": 18,
   "metadata": {},
   "outputs": [],
   "source": [
    "X_train, X_test, y_train, y_test = train_test_split(df[['Height']], df['Weight'], test_size=0.20, shuffle=True) \n"
   ]
  },
  {
   "cell_type": "code",
   "execution_count": 19,
   "metadata": {
    "scrolled": true
   },
   "outputs": [
    {
     "data": {
      "text/plain": [
       "<tensorflow_estimator.python.estimator.canned.linear.LinearRegressor at 0x7ff80b6bdf98>"
      ]
     },
     "execution_count": 19,
     "metadata": {},
     "output_type": "execute_result"
    }
   ],
   "source": [
    "estimator.train(input_fn=get_input_fn(df,                                       \n",
    "                                       num_epochs=100,                                      \n",
    "                                       n_batch = 128,                                      \n",
    "                                       shuffle=True),                                      \n",
    "                                       steps=10000)\t"
   ]
  },
  {
   "cell_type": "code",
   "execution_count": 20,
   "metadata": {},
   "outputs": [
    {
     "name": "stdout",
     "output_type": "stream",
     "text": [
      "global_step 7813\n",
      "linear/head/beta1_power 0.0\n",
      "linear/head/beta2_power 0.00040250353\n",
      "linear/linear_model/Height/weights [[6.3279157]]\n",
      "linear/linear_model/Height/weights/part_0/Adam [[724.0261]]\n",
      "linear/linear_model/Height/weights/part_0/Adam_1 [[1.8405306e+09]]\n",
      "linear/linear_model/bias_weights [-257.8023]\n",
      "linear/linear_model/bias_weights/part_0/Adam [89.244736]\n",
      "linear/linear_model/bias_weights/part_0/Adam_1 [426395.]\n"
     ]
    }
   ],
   "source": [
    "for i in estimator.get_variable_names():\n",
    "    print(i, estimator.get_variable_value(i))"
   ]
  },
  {
   "cell_type": "code",
   "execution_count": 27,
   "metadata": {},
   "outputs": [
    {
     "name": "stderr",
     "output_type": "stream",
     "text": [
      "W0901 08:04:31.797764 140706651383616 estimator.py:1811] Using temporary folder as model directory: /tmp/tmpupa3sixb\n"
     ]
    }
   ],
   "source": [
    "import numpy as np\n",
    "import tensorflow as tf\n",
    "tf.rese\n",
    "n = 150\n",
    "x = np.random.rand(n) \n",
    "y = 3*x + 4 \n",
    "\n",
    "def input_fn():\n",
    "    features = {'x': x}\n",
    "    labels = y\n",
    "    return features, labels\n",
    " \n",
    "xfc = tf.feature_column.numeric_column('x')\n",
    "estimator = tf.estimator.LinearRegressor(feature_columns=[xfc], optimizer='Adam')\n",
    "estimator.train(input_fn=input_fn, steps=10000)\n",
    " \n",
    "w = estimator.get_variable_value('linear/linear_model/x/weights')[0][0]\n",
    "b = estimator.get_variable_value('linear/linear_model/bias_weights')[0]"
   ]
  },
  {
   "cell_type": "code",
   "execution_count": 28,
   "metadata": {},
   "outputs": [
    {
     "name": "stdout",
     "output_type": "stream",
     "text": [
      "2.9999986 3.9999986\n"
     ]
    }
   ],
   "source": [
    "print(w, b)"
   ]
  },
  {
   "cell_type": "code",
   "execution_count": null,
   "metadata": {},
   "outputs": [],
   "source": [
    "estimator.evaluate(input_fn=input_fn)"
   ]
  },
  {
   "cell_type": "code",
   "execution_count": null,
   "metadata": {},
   "outputs": [],
   "source": []
  },
  {
   "cell_type": "code",
   "execution_count": null,
   "metadata": {},
   "outputs": [],
   "source": []
  },
  {
   "cell_type": "code",
   "execution_count": null,
   "metadata": {},
   "outputs": [],
   "source": []
  },
  {
   "cell_type": "code",
   "execution_count": null,
   "metadata": {},
   "outputs": [],
   "source": []
  },
  {
   "cell_type": "code",
   "execution_count": 32,
   "metadata": {},
   "outputs": [
    {
     "data": {
      "text/plain": [
       "['__all__',\n",
       " '__builtins__',\n",
       " '__cached__',\n",
       " '__doc__',\n",
       " '__file__',\n",
       " '__loader__',\n",
       " '__name__',\n",
       " '__package__',\n",
       " '__path__',\n",
       " '__spec__',\n",
       " '_deprecation_wrapper',\n",
       " '_sys',\n",
       " 'numpy_input_fn',\n",
       " 'pandas_input_fn']"
      ]
     },
     "execution_count": 32,
     "metadata": {},
     "output_type": "execute_result"
    }
   ],
   "source": [
    "dir(tf.estimator.inputs)"
   ]
  },
  {
   "cell_type": "code",
   "execution_count": null,
   "metadata": {},
   "outputs": [],
   "source": []
  }
 ],
 "metadata": {
  "kernelspec": {
   "display_name": "Python 3",
   "language": "python",
   "name": "python3"
  },
  "language_info": {
   "codemirror_mode": {
    "name": "ipython",
    "version": 3
   },
   "file_extension": ".py",
   "mimetype": "text/x-python",
   "name": "python",
   "nbconvert_exporter": "python",
   "pygments_lexer": "ipython3",
   "version": "3.6.8"
  }
 },
 "nbformat": 4,
 "nbformat_minor": 2
}
