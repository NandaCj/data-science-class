{
 "cells": [
  {
   "cell_type": "code",
   "execution_count": 1,
   "metadata": {},
   "outputs": [],
   "source": [
    "import tensorflow as tf\n",
    "import pandas as pd\n",
    "import numpy as np"
   ]
  },
  {
   "cell_type": "markdown",
   "metadata": {},
   "source": [
    "# Tensorflow Estimators \n",
    "    - a high-level TensorFlow API that greatly simplifies machine learning programming\n",
    "    - easier to create models with Estimators than with the low-level TensorFlow APIs.\n",
    "    \n",
    "[Checkpoints](https://www.tensorflow.org/guide/checkpoints)\n",
    "\n",
    "\n",
    "[Estimators](https://www.tensorflow.org/guide/estimators)\n",
    "\n",
    "[RunConfig](https://www.tensorflow.org/api_docs/python/tf/estimator/RunConfig)"
   ]
  },
  {
   "cell_type": "code",
   "execution_count": 37,
   "metadata": {},
   "outputs": [
    {
     "name": "stdout",
     "output_type": "stream",
     "text": [
      "[1 2 3 4 5 6 7] [ 8 11 14 17 20 23 26]\n"
     ]
    }
   ],
   "source": [
    "x = np.array([1,2,3,4,5,6,7])\n",
    "y = x * 3 + 5\n",
    "\n",
    "# y = W*X + b ||| y = mx +x \n",
    "# w = m = 3 \n",
    "# b = x = 5\n",
    "\n",
    "x_eval = np.array([10,20,30,40,50])\n",
    "Y_eval = x_eval * 4 + 5\n",
    "\n",
    "x_pred = np.array([100,200,300,400,500])\n",
    "\n",
    "def train_input_fn():\n",
    "    features = {'x': x,}\n",
    "    labels = y\n",
    "    return features, labels\n",
    "\n",
    "def eval_input_fn():\n",
    "    features = {'x': x_eval}\n",
    "    labels = Y_eval\n",
    "    return features, labels\n",
    "\n",
    "def pred_input_fn():\n",
    "    features = {'x': x_pred}\n",
    "    \n",
    "    return features\n",
    "\n",
    "print(x, y)\n",
    "\n",
    "\n"
   ]
  },
  {
   "cell_type": "markdown",
   "metadata": {},
   "source": [
    "### Estimators needs many input params, each values is discussed below"
   ]
  },
  {
   "cell_type": "markdown",
   "metadata": {},
   "source": [
    "1. feature_columns : Feature Columns \n",
    "2. config : defining configs required for the estimators\n",
    "3. model_dir : dir place where estimator graph, summaries will be stored\n",
    "4. optimizer : Optimizer for the estimators"
   ]
  },
  {
   "cell_type": "code",
   "execution_count": 30,
   "metadata": {},
   "outputs": [],
   "source": [
    "# Define Feature Columns - Note : it should be a list of columns\n",
    "\n",
    "feature_cols = [tf.feature_column.numeric_column('x')]\n",
    "model_dir = \"estimator_basics\"\n",
    "optimizer = 'Adam'\n",
    "\n",
    "# config = tf.estimator.RunConfig(model_dir=model_dir, \n",
    "#                                save_summary_steps=20,\n",
    "#                                )"
   ]
  },
  {
   "cell_type": "code",
   "execution_count": 31,
   "metadata": {},
   "outputs": [
    {
     "data": {
      "text/plain": [
       "<tensorflow_estimator.python.estimator.canned.linear.LinearRegressor at 0x7fa87a2354e0>"
      ]
     },
     "execution_count": 31,
     "metadata": {},
     "output_type": "execute_result"
    }
   ],
   "source": [
    "est = tf.estimator.LinearRegressor(feature_columns=feature_cols, optimizer=optimizer, model_dir=model_dir)\n",
    "est"
   ]
  },
  {
   "cell_type": "code",
   "execution_count": 32,
   "metadata": {
    "scrolled": true
   },
   "outputs": [
    {
     "name": "stderr",
     "output_type": "stream",
     "text": [
      "W0901 11:01:46.516837 140365100750656 deprecation.py:323] From /home/nandagopal/PycharmProjects/data-science-class/venv/lib/python3.6/site-packages/tensorflow/python/training/saver.py:1066: get_checkpoint_mtimes (from tensorflow.python.training.checkpoint_management) is deprecated and will be removed in a future version.\n",
      "Instructions for updating:\n",
      "Use standard file utilities to get mtimes.\n",
      "W0901 11:01:46.926845 140365100750656 basic_session_run_hooks.py:724] It seems that global step (tf.train.get_global_step) has not been increased. Current value (could be stable): 1167 vs previous value: 1167. You could increase the global step by passing tf.train.get_global_step() to Optimizer.apply_gradients or Optimizer.minimize.\n"
     ]
    },
    {
     "data": {
      "text/plain": [
       "<tensorflow_estimator.python.estimator.canned.linear.LinearRegressor at 0x7fa87a2354e0>"
      ]
     },
     "execution_count": 32,
     "metadata": {},
     "output_type": "execute_result"
    }
   ],
   "source": [
    "est.train(input_fn=train_input_fn, steps=1000)\n",
    "\n",
    "\n",
    "# lr_reg = LinearRegression()\n",
    "# lr_reg.fit(x_train, y_train)\n",
    "# lr_reg.predict(x_pred)\n",
    "# lr_reg.co_effi\n",
    "# lr_reg.intercept\n",
    "\n",
    "# est = tf.estimator.LinearRegressor()\n",
    "# est.train()\n",
    "# est.predict()\n"
   ]
  },
  {
   "cell_type": "code",
   "execution_count": 34,
   "metadata": {},
   "outputs": [
    {
     "name": "stdout",
     "output_type": "stream",
     "text": [
      "global_step 2000\n",
      "linear/head/beta1_power 0.0\n",
      "linear/head/beta2_power 0.13506827\n",
      "linear/linear_model/bias_weights [4.999999]\n",
      "linear/linear_model/bias_weights/part_0/Adam [-1.9886556e-06]\n",
      "linear/linear_model/bias_weights/part_0/Adam_1 [51.638058]\n",
      "linear/linear_model/x/weights [[3.0000002]]\n",
      "linear/linear_model/x/weights/part_0/Adam [[-1.9169895e-06]]\n",
      "linear/linear_model/x/weights/part_0/Adam_1 [[1136.8224]]\n"
     ]
    }
   ],
   "source": [
    "for i in est.get_variable_names():\n",
    "    print(i, est.get_variable_value(i))"
   ]
  },
  {
   "cell_type": "code",
   "execution_count": 7,
   "metadata": {},
   "outputs": [],
   "source": [
    "# est.(input_fn=eval_input_fn)"
   ]
  },
  {
   "cell_type": "code",
   "execution_count": 38,
   "metadata": {},
   "outputs": [
    {
     "data": {
      "text/plain": [
       "{'average_loss': 1099.9995,\n",
       " 'label/mean': 125.0,\n",
       " 'loss': 5499.9976,\n",
       " 'prediction/mean': 95.0,\n",
       " 'global_step': 2000}"
      ]
     },
     "execution_count": 38,
     "metadata": {},
     "output_type": "execute_result"
    }
   ],
   "source": [
    "est.evaluate(input_fn=eval_input_fn, steps=1)"
   ]
  },
  {
   "cell_type": "code",
   "execution_count": 40,
   "metadata": {
    "scrolled": true
   },
   "outputs": [
    {
     "data": {
      "text/plain": [
       "<generator object Estimator.predict at 0x7fa8e1e72db0>"
      ]
     },
     "execution_count": 40,
     "metadata": {},
     "output_type": "execute_result"
    }
   ],
   "source": [
    "pred_values = est.predict(input_fn=pred_input_fn) # returning a generator \n",
    "\n",
    "\n",
    "# iterators = [1,2,3]\n",
    "# generator yield - exhaust after all iteration , .next()\n",
    "pred_values"
   ]
  },
  {
   "cell_type": "code",
   "execution_count": 41,
   "metadata": {},
   "outputs": [
    {
     "name": "stderr",
     "output_type": "stream",
     "text": [
      "W0901 11:09:10.987260 140365100750656 estimator.py:1000] Input graph does not use tf.data.Dataset or contain a QueueRunner. That means predict yields forever. This is probably a mistake.\n",
      "Exception ignored in: <generator object Estimator.predict at 0x7fa9430489e8>\n",
      "Traceback (most recent call last):\n",
      "  File \"/home/nandagopal/PycharmProjects/data-science-class/venv/lib/python3.6/site-packages/tensorflow_estimator/python/estimator/estimator.py\", line 647, in predict\n",
      "    for key, value in six.iteritems(preds_evaluated)\n",
      "  File \"/usr/lib/python3.6/contextlib.py\", line 99, in __exit__\n"
     ]
    },
    {
     "name": "stdout",
     "output_type": "stream",
     "text": [
      "{'predictions': array([305.00003], dtype=float32)}\n",
      "{'predictions': array([605.00006], dtype=float32)}\n",
      "{'predictions': array([905.00006], dtype=float32)}\n",
      "{'predictions': array([1205.0001], dtype=float32)}\n",
      "{'predictions': array([1505.0001], dtype=float32)}\n"
     ]
    },
    {
     "name": "stderr",
     "output_type": "stream",
     "text": [
      "    self.gen.throw(type, value, traceback)\n",
      "  File \"/home/nandagopal/PycharmProjects/data-science-class/venv/lib/python3.6/site-packages/tensorflow/python/framework/ops.py\", line 5652, in get_controller\n",
      "    yield g\n",
      "  File \"/usr/lib/python3.6/contextlib.py\", line 99, in __exit__\n",
      "    self.gen.throw(type, value, traceback)\n",
      "  File \"/home/nandagopal/PycharmProjects/data-science-class/venv/lib/python3.6/site-packages/tensorflow/python/framework/ops.py\", line 5467, in get_controller\n",
      "    type(default))\n",
      "AssertionError: Nesting violated for default stack of <class 'tensorflow.python.framework.ops.Graph'> objects\n"
     ]
    }
   ],
   "source": [
    "for i in range(5):\n",
    "    print(pred_values.__next__())"
   ]
  },
  {
   "cell_type": "code",
   "execution_count": null,
   "metadata": {},
   "outputs": [],
   "source": []
  }
 ],
 "metadata": {
  "kernelspec": {
   "display_name": "Python 3",
   "language": "python",
   "name": "python3"
  },
  "language_info": {
   "codemirror_mode": {
    "name": "ipython",
    "version": 3
   },
   "file_extension": ".py",
   "mimetype": "text/x-python",
   "name": "python",
   "nbconvert_exporter": "python",
   "pygments_lexer": "ipython3",
   "version": "3.6.8"
  }
 },
 "nbformat": 4,
 "nbformat_minor": 2
}
