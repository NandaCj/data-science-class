{
 "cells": [
  {
   "cell_type": "code",
   "execution_count": 1,
   "metadata": {},
   "outputs": [],
   "source": [
    "import tensorflow as tf\n",
    "import pandas as pd\n",
    "import numpy as np\n",
    "from sklearn.utils import shuffle\n",
    "from sklearn.preprocessing import MinMaxScaler\n",
    "from sklearn.model_selection import train_test_split\n",
    "\n",
    "scaler = MinMaxScaler()"
   ]
  },
  {
   "cell_type": "code",
   "execution_count": 2,
   "metadata": {},
   "outputs": [
    {
     "data": {
      "text/html": [
       "<div>\n",
       "<style scoped>\n",
       "    .dataframe tbody tr th:only-of-type {\n",
       "        vertical-align: middle;\n",
       "    }\n",
       "\n",
       "    .dataframe tbody tr th {\n",
       "        vertical-align: top;\n",
       "    }\n",
       "\n",
       "    .dataframe thead th {\n",
       "        text-align: right;\n",
       "    }\n",
       "</style>\n",
       "<table border=\"1\" class=\"dataframe\">\n",
       "  <thead>\n",
       "    <tr style=\"text-align: right;\">\n",
       "      <th></th>\n",
       "      <th>Gender</th>\n",
       "      <th>Height</th>\n",
       "      <th>Weight</th>\n",
       "    </tr>\n",
       "  </thead>\n",
       "  <tbody>\n",
       "    <tr>\n",
       "      <th>7678</th>\n",
       "      <td>Female</td>\n",
       "      <td>60.334171</td>\n",
       "      <td>131.049008</td>\n",
       "    </tr>\n",
       "    <tr>\n",
       "      <th>4646</th>\n",
       "      <td>Male</td>\n",
       "      <td>69.163453</td>\n",
       "      <td>189.146861</td>\n",
       "    </tr>\n",
       "    <tr>\n",
       "      <th>7932</th>\n",
       "      <td>Female</td>\n",
       "      <td>61.078218</td>\n",
       "      <td>116.431732</td>\n",
       "    </tr>\n",
       "    <tr>\n",
       "      <th>3381</th>\n",
       "      <td>Male</td>\n",
       "      <td>67.744707</td>\n",
       "      <td>176.264736</td>\n",
       "    </tr>\n",
       "    <tr>\n",
       "      <th>2664</th>\n",
       "      <td>Male</td>\n",
       "      <td>70.330213</td>\n",
       "      <td>185.588740</td>\n",
       "    </tr>\n",
       "  </tbody>\n",
       "</table>\n",
       "</div>"
      ],
      "text/plain": [
       "      Gender     Height      Weight\n",
       "7678  Female  60.334171  131.049008\n",
       "4646    Male  69.163453  189.146861\n",
       "7932  Female  61.078218  116.431732\n",
       "3381    Male  67.744707  176.264736\n",
       "2664    Male  70.330213  185.588740"
      ]
     },
     "execution_count": 2,
     "metadata": {},
     "output_type": "execute_result"
    }
   ],
   "source": [
    "data_file = '../../machine_learning/weight-height.csv' # make sure the path of the file is correct\n",
    "df = pd.read_csv(data_file)\n",
    "df = shuffle(df)\n",
    "df.head()"
   ]
  },
  {
   "cell_type": "code",
   "execution_count": 3,
   "metadata": {},
   "outputs": [],
   "source": [
    "features = ['Height'] # y \n",
    "label = ['Weight'] # x\n",
    "\n",
    "feature_cols = [tf.feature_column.numeric_column(k) for k in features]\t"
   ]
  },
  {
   "cell_type": "code",
   "execution_count": 4,
   "metadata": {},
   "outputs": [],
   "source": [
    "estimator = tf.estimator.LinearRegressor(  \n",
    "        feature_columns=feature_cols,  \n",
    "        optimizer='Adam',\n",
    "        model_dir=\"train3\")"
   ]
  },
  {
   "cell_type": "code",
   "execution_count": 5,
   "metadata": {},
   "outputs": [],
   "source": [
    "def get_input_fn(data_set, num_epochs=None, n_batch = 128, shuffle=True):    \n",
    "         return tf.estimator.inputs.pandas_input_fn(       \n",
    "         x=data_set[['Height']],       \n",
    "         y = data_set['Weight'],       \n",
    "         batch_size=n_batch,          \n",
    "         num_epochs=num_epochs,       \n",
    "         shuffle=shuffle)"
   ]
  },
  {
   "cell_type": "code",
   "execution_count": 6,
   "metadata": {},
   "outputs": [],
   "source": [
    "X_train, X_test, y_train, y_test = train_test_split(df[['Height']], df['Weight'], test_size=0.20, shuffle=True) \n"
   ]
  },
  {
   "cell_type": "code",
   "execution_count": 23,
   "metadata": {},
   "outputs": [
    {
     "data": {
      "text/plain": [
       "<tensorflow_estimator.python.estimator.canned.linear.LinearRegressor at 0x7f37f0affcc0>"
      ]
     },
     "execution_count": 23,
     "metadata": {},
     "output_type": "execute_result"
    }
   ],
   "source": [
    "estimator.train(input_fn=get_input_fn(df,                                       \n",
    "                                       num_epochs=100,                                      \n",
    "                                       n_batch = 100,                                      \n",
    "                                       shuffle=True),\n",
    "                                        steps=10000000\n",
    "                                       )\t"
   ]
  },
  {
   "cell_type": "code",
   "execution_count": 24,
   "metadata": {},
   "outputs": [
    {
     "name": "stdout",
     "output_type": "stream",
     "text": [
      "global_step 24120\n",
      "linear/head/beta1_power 0.0\n",
      "linear/head/beta2_power 3.3058084e-11\n",
      "linear/linear_model/Height/weights [[7.7389054]]\n",
      "linear/linear_model/Height/weights/part_0/Adam [[-317.32812]]\n",
      "linear/linear_model/Height/weights/part_0/Adam_1 [[1.0438761e+09]]\n",
      "linear/linear_model/bias_weights [-346.45642]\n",
      "linear/linear_model/bias_weights/part_0/Adam [1.6734161]\n",
      "linear/linear_model/bias_weights/part_0/Adam_1 [236157.11]\n"
     ]
    }
   ],
   "source": [
    "for i in estimator.get_variable_names():\n",
    "    print(i, estimator.get_variable_value(i))"
   ]
  },
  {
   "cell_type": "markdown",
   "metadata": {},
   "source": [
    "global_step 1000\n",
    "linear/head/beta1_power 0.0\n",
    "linear/head/beta2_power 0.36733255\n",
    "linear/linear_model/Height/weights [[2.5069916]]\n",
    "linear/linear_model/Height/weights/part_0/Adam [[4066.0417]]\n",
    "linear/linear_model/Height/weights/part_0/Adam_1 [[1.7372926e+08]]\n",
    "linear/linear_model/bias_weights [-10.252621]\n",
    "linear/linear_model/bias_weights/part_0/Adam [82.13807]\n",
    "linear/linear_model/bias_weights/part_0/Adam_1 [39466.42]"
   ]
  }
 ],
 "metadata": {
  "kernelspec": {
   "display_name": "Python 3",
   "language": "python",
   "name": "python3"
  },
  "language_info": {
   "codemirror_mode": {
    "name": "ipython",
    "version": 3
   },
   "file_extension": ".py",
   "mimetype": "text/x-python",
   "name": "python",
   "nbconvert_exporter": "python",
   "pygments_lexer": "ipython3",
   "version": "3.6.8"
  }
 },
 "nbformat": 4,
 "nbformat_minor": 2
}
