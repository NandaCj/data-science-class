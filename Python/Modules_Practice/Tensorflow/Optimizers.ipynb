{
 "cells": [
  {
   "cell_type": "markdown",
   "metadata": {},
   "source": [
    "## Tensorflow optimizers\n",
    "    - Optimizers are used to find the best Theta , i.e the modal parameters\n",
    "    - Tf has many Optimizers, below code can be used to practice diff optimizers for     Height Weight Dataset and find optimal W and b i.e m and c in y = mx + c"
   ]
  },
  {
   "cell_type": "code",
   "execution_count": 1,
   "metadata": {},
   "outputs": [],
   "source": [
    "import tensorflow as tf\n",
    "import pandas as pd\n",
    "from sklearn.utils import shuffle\n",
    "from sklearn.preprocessing import MinMaxScaler\n",
    "\n",
    "scaler = MinMaxScaler()"
   ]
  },
  {
   "cell_type": "code",
   "execution_count": 2,
   "metadata": {},
   "outputs": [
    {
     "data": {
      "text/html": [
       "<div>\n",
       "<style scoped>\n",
       "    .dataframe tbody tr th:only-of-type {\n",
       "        vertical-align: middle;\n",
       "    }\n",
       "\n",
       "    .dataframe tbody tr th {\n",
       "        vertical-align: top;\n",
       "    }\n",
       "\n",
       "    .dataframe thead th {\n",
       "        text-align: right;\n",
       "    }\n",
       "</style>\n",
       "<table border=\"1\" class=\"dataframe\">\n",
       "  <thead>\n",
       "    <tr style=\"text-align: right;\">\n",
       "      <th></th>\n",
       "      <th>Gender</th>\n",
       "      <th>Height</th>\n",
       "      <th>Weight</th>\n",
       "    </tr>\n",
       "  </thead>\n",
       "  <tbody>\n",
       "    <tr>\n",
       "      <th>1377</th>\n",
       "      <td>Male</td>\n",
       "      <td>67.726956</td>\n",
       "      <td>164.933108</td>\n",
       "    </tr>\n",
       "    <tr>\n",
       "      <th>4340</th>\n",
       "      <td>Male</td>\n",
       "      <td>72.002520</td>\n",
       "      <td>189.386300</td>\n",
       "    </tr>\n",
       "    <tr>\n",
       "      <th>5607</th>\n",
       "      <td>Female</td>\n",
       "      <td>65.339725</td>\n",
       "      <td>161.431658</td>\n",
       "    </tr>\n",
       "    <tr>\n",
       "      <th>7207</th>\n",
       "      <td>Female</td>\n",
       "      <td>63.768212</td>\n",
       "      <td>143.723794</td>\n",
       "    </tr>\n",
       "    <tr>\n",
       "      <th>440</th>\n",
       "      <td>Male</td>\n",
       "      <td>67.144241</td>\n",
       "      <td>175.679190</td>\n",
       "    </tr>\n",
       "  </tbody>\n",
       "</table>\n",
       "</div>"
      ],
      "text/plain": [
       "      Gender     Height      Weight\n",
       "1377    Male  67.726956  164.933108\n",
       "4340    Male  72.002520  189.386300\n",
       "5607  Female  65.339725  161.431658\n",
       "7207  Female  63.768212  143.723794\n",
       "440     Male  67.144241  175.679190"
      ]
     },
     "execution_count": 2,
     "metadata": {},
     "output_type": "execute_result"
    }
   ],
   "source": [
    "data_file = '../../machine_learning/weight-height.csv' # make sure the path of the file is correct\n",
    "df = pd.read_csv(data_file)\n",
    "df = shuffle(df)\n",
    "df.head()"
   ]
  },
  {
   "cell_type": "code",
   "execution_count": 3,
   "metadata": {},
   "outputs": [],
   "source": [
    "# # train data\n",
    "# x = scaler.fit_transform(df.Height.values.reshape(-1,1))\n",
    "# y = scaler.fit_transform(df.Weight.values.reshape(-1,1))\n",
    "\n",
    "\n",
    "x = df.Height.values\n",
    "y = df.Weight.values\n"
   ]
  },
  {
   "cell_type": "code",
   "execution_count": 4,
   "metadata": {},
   "outputs": [],
   "source": [
    "# Model Parameters\n",
    "W = tf.Variable([1.0],name='weight')\n",
    "b = tf.Variable([1.0],name='bias')\n",
    "\n"
   ]
  },
  {
   "cell_type": "code",
   "execution_count": 5,
   "metadata": {},
   "outputs": [],
   "source": [
    "# Model inputs\n",
    "# training data\n",
    "X = tf.placeholder(tf.float32)\n",
    "# y\n",
    "Y = tf.placeholder(tf.float32)"
   ]
  },
  {
   "cell_type": "code",
   "execution_count": 6,
   "metadata": {},
   "outputs": [],
   "source": [
    "# Model definitation\n",
    "predictions = W*X + b"
   ]
  },
  {
   "cell_type": "code",
   "execution_count": 7,
   "metadata": {},
   "outputs": [],
   "source": [
    "# loss function. Here we use sum of squared errors.\n",
    "loss = tf.reduce_sum(tf.square(predictions-Y))"
   ]
  },
  {
   "cell_type": "code",
   "execution_count": 8,
   "metadata": {},
   "outputs": [],
   "source": [
    "# training op\n",
    "train = tf.train.MomentumOptimizer(learning_rate =0.00001, momentum=0.6).minimize(loss)"
   ]
  },
  {
   "cell_type": "code",
   "execution_count": 9,
   "metadata": {
    "collapsed": true
   },
   "outputs": [
    {
     "data": {
      "text/plain": [
       "['AdadeltaOptimizer',\n",
       " 'AdagradDAOptimizer',\n",
       " 'AdagradOptimizer',\n",
       " 'AdamOptimizer',\n",
       " 'BytesList',\n",
       " 'Checkpoint',\n",
       " 'CheckpointManager',\n",
       " 'CheckpointSaverHook',\n",
       " 'CheckpointSaverListener',\n",
       " 'ChiefSessionCreator',\n",
       " 'ClusterDef',\n",
       " 'ClusterSpec',\n",
       " 'Coordinator',\n",
       " 'Example',\n",
       " 'ExponentialMovingAverage',\n",
       " 'Feature',\n",
       " 'FeatureList',\n",
       " 'FeatureLists',\n",
       " 'Features',\n",
       " 'FeedFnHook',\n",
       " 'FinalOpsHook',\n",
       " 'FloatList',\n",
       " 'FtrlOptimizer',\n",
       " 'GlobalStepWaiterHook',\n",
       " 'GradientDescentOptimizer',\n",
       " 'Int64List',\n",
       " 'JobDef',\n",
       " 'LoggingTensorHook',\n",
       " 'LooperThread',\n",
       " 'MomentumOptimizer',\n",
       " 'MonitoredSession',\n",
       " 'MonitoredTrainingSession',\n",
       " 'NanLossDuringTrainingError',\n",
       " 'NanTensorHook',\n",
       " 'NewCheckpointReader',\n",
       " 'Optimizer',\n",
       " 'ProfilerHook',\n",
       " 'ProximalAdagradOptimizer',\n",
       " 'ProximalGradientDescentOptimizer',\n",
       " 'QueueRunner',\n",
       " 'RMSPropOptimizer',\n",
       " 'Saver',\n",
       " 'SaverDef',\n",
       " 'Scaffold',\n",
       " 'SecondOrStepTimer',\n",
       " 'SequenceExample',\n",
       " 'Server',\n",
       " 'ServerDef',\n",
       " 'SessionCreator',\n",
       " 'SessionManager',\n",
       " 'SessionRunArgs',\n",
       " 'SessionRunContext',\n",
       " 'SessionRunHook',\n",
       " 'SessionRunValues',\n",
       " 'SingularMonitoredSession',\n",
       " 'StepCounterHook',\n",
       " 'StopAtStepHook',\n",
       " 'SummarySaverHook',\n",
       " 'Supervisor',\n",
       " 'SyncReplicasOptimizer',\n",
       " 'VocabInfo',\n",
       " 'WorkerSessionCreator',\n",
       " '__all__',\n",
       " '__builtins__',\n",
       " '__cached__',\n",
       " '__doc__',\n",
       " '__file__',\n",
       " '__loader__',\n",
       " '__name__',\n",
       " '__package__',\n",
       " '__path__',\n",
       " '__spec__',\n",
       " '_deprecation_wrapper',\n",
       " '_sys',\n",
       " 'add_queue_runner',\n",
       " 'assert_global_step',\n",
       " 'basic_train_loop',\n",
       " 'batch',\n",
       " 'batch_join',\n",
       " 'checkpoint_exists',\n",
       " 'checkpoints_iterator',\n",
       " 'cosine_decay',\n",
       " 'cosine_decay_restarts',\n",
       " 'create_global_step',\n",
       " 'do_quantize_training_on_graphdef',\n",
       " 'experimental',\n",
       " 'exponential_decay',\n",
       " 'export_meta_graph',\n",
       " 'generate_checkpoint_state_proto',\n",
       " 'get_checkpoint_mtimes',\n",
       " 'get_checkpoint_state',\n",
       " 'get_global_step',\n",
       " 'get_or_create_global_step',\n",
       " 'global_step',\n",
       " 'import_meta_graph',\n",
       " 'init_from_checkpoint',\n",
       " 'input_producer',\n",
       " 'inverse_time_decay',\n",
       " 'latest_checkpoint',\n",
       " 'limit_epochs',\n",
       " 'linear_cosine_decay',\n",
       " 'list_variables',\n",
       " 'load_checkpoint',\n",
       " 'load_variable',\n",
       " 'match_filenames_once',\n",
       " 'maybe_batch',\n",
       " 'maybe_batch_join',\n",
       " 'maybe_shuffle_batch',\n",
       " 'maybe_shuffle_batch_join',\n",
       " 'natural_exp_decay',\n",
       " 'noisy_linear_cosine_decay',\n",
       " 'piecewise_constant',\n",
       " 'piecewise_constant_decay',\n",
       " 'polynomial_decay',\n",
       " 'queue_runner',\n",
       " 'range_input_producer',\n",
       " 'remove_checkpoint',\n",
       " 'replica_device_setter',\n",
       " 'sdca_fprint',\n",
       " 'sdca_optimizer',\n",
       " 'sdca_shrink_l1',\n",
       " 'shuffle_batch',\n",
       " 'shuffle_batch_join',\n",
       " 'slice_input_producer',\n",
       " 'start_queue_runners',\n",
       " 'string_input_producer',\n",
       " 'summary_iterator',\n",
       " 'update_checkpoint_state',\n",
       " 'warm_start',\n",
       " 'write_graph']"
      ]
     },
     "execution_count": 9,
     "metadata": {},
     "output_type": "execute_result"
    }
   ],
   "source": [
    "dir(tf.train)"
   ]
  },
  {
   "cell_type": "code",
   "execution_count": 10,
   "metadata": {
    "scrolled": true
   },
   "outputs": [
    {
     "name": "stdout",
     "output_type": "stream",
     "text": [
      "[array([13.685624], dtype=float32), array([1.1881456], dtype=float32)]\n",
      "[array([nan], dtype=float32), array([nan], dtype=float32)]\n",
      "[array([nan], dtype=float32), array([nan], dtype=float32)]\n",
      "[array([nan], dtype=float32), array([nan], dtype=float32)]\n",
      "[array([nan], dtype=float32), array([nan], dtype=float32)]\n",
      "[array([nan], dtype=float32), array([nan], dtype=float32)]\n",
      "[array([nan], dtype=float32), array([nan], dtype=float32)]\n",
      "[array([nan], dtype=float32), array([nan], dtype=float32)]\n",
      "[array([nan], dtype=float32), array([nan], dtype=float32)]\n",
      "[array([nan], dtype=float32), array([nan], dtype=float32)]\n",
      "[array([nan], dtype=float32), array([nan], dtype=float32)]\n",
      "[array([nan], dtype=float32), array([nan], dtype=float32)]\n",
      "[array([nan], dtype=float32), array([nan], dtype=float32)]\n",
      "[array([nan], dtype=float32), array([nan], dtype=float32)]\n",
      "[array([nan], dtype=float32), array([nan], dtype=float32)]\n",
      "[array([nan], dtype=float32), array([nan], dtype=float32)]\n",
      "[array([nan], dtype=float32), array([nan], dtype=float32)]\n",
      "[array([nan], dtype=float32), array([nan], dtype=float32)]\n",
      "[array([nan], dtype=float32), array([nan], dtype=float32)]\n",
      "[array([nan], dtype=float32), array([nan], dtype=float32)]\n",
      "[array([nan], dtype=float32), array([nan], dtype=float32)]\n",
      "[array([nan], dtype=float32), array([nan], dtype=float32)]\n",
      "[array([nan], dtype=float32), array([nan], dtype=float32)]\n",
      "[array([nan], dtype=float32), array([nan], dtype=float32)]\n",
      "[array([nan], dtype=float32), array([nan], dtype=float32)]\n",
      "[array([nan], dtype=float32), array([nan], dtype=float32)]\n",
      "[array([nan], dtype=float32), array([nan], dtype=float32)]\n",
      "[array([nan], dtype=float32), array([nan], dtype=float32)]\n",
      "[array([nan], dtype=float32), array([nan], dtype=float32)]\n",
      "[array([nan], dtype=float32), array([nan], dtype=float32)]\n",
      "[array([nan], dtype=float32), array([nan], dtype=float32)]\n",
      "[array([nan], dtype=float32), array([nan], dtype=float32)]\n",
      "[array([nan], dtype=float32), array([nan], dtype=float32)]\n",
      "[array([nan], dtype=float32), array([nan], dtype=float32)]\n",
      "[array([nan], dtype=float32), array([nan], dtype=float32)]\n",
      "[array([nan], dtype=float32), array([nan], dtype=float32)]\n",
      "[array([nan], dtype=float32), array([nan], dtype=float32)]\n",
      "[array([nan], dtype=float32), array([nan], dtype=float32)]\n",
      "[array([nan], dtype=float32), array([nan], dtype=float32)]\n",
      "[array([nan], dtype=float32), array([nan], dtype=float32)]\n",
      "[array([nan], dtype=float32), array([nan], dtype=float32)]\n",
      "[array([nan], dtype=float32), array([nan], dtype=float32)]\n",
      "[array([nan], dtype=float32), array([nan], dtype=float32)]\n",
      "[array([nan], dtype=float32), array([nan], dtype=float32)]\n",
      "[array([nan], dtype=float32), array([nan], dtype=float32)]\n",
      "[array([nan], dtype=float32), array([nan], dtype=float32)]\n"
     ]
    },
    {
     "ename": "KeyboardInterrupt",
     "evalue": "",
     "output_type": "error",
     "traceback": [
      "\u001b[0;31m---------------------------------------------------------------------------\u001b[0m",
      "\u001b[0;31mKeyboardInterrupt\u001b[0m                         Traceback (most recent call last)",
      "\u001b[0;32m<ipython-input-10-2ff73e353ace>\u001b[0m in \u001b[0;36m<module>\u001b[0;34m\u001b[0m\n\u001b[1;32m      5\u001b[0m \u001b[0;34m\u001b[0m\u001b[0m\n\u001b[1;32m      6\u001b[0m \u001b[0;32mfor\u001b[0m \u001b[0mtrain_step\u001b[0m \u001b[0;32min\u001b[0m \u001b[0mrange\u001b[0m\u001b[0;34m(\u001b[0m\u001b[0;36m200000\u001b[0m\u001b[0;34m)\u001b[0m\u001b[0;34m:\u001b[0m\u001b[0;34m\u001b[0m\u001b[0;34m\u001b[0m\u001b[0m\n\u001b[0;32m----> 7\u001b[0;31m     \u001b[0msess\u001b[0m\u001b[0;34m.\u001b[0m\u001b[0mrun\u001b[0m\u001b[0;34m(\u001b[0m\u001b[0mtrain\u001b[0m\u001b[0;34m,\u001b[0m\u001b[0;34m{\u001b[0m\u001b[0mX\u001b[0m\u001b[0;34m:\u001b[0m\u001b[0mx\u001b[0m\u001b[0;34m,\u001b[0m\u001b[0mY\u001b[0m\u001b[0;34m:\u001b[0m\u001b[0my\u001b[0m\u001b[0;34m}\u001b[0m\u001b[0;34m)\u001b[0m\u001b[0;34m\u001b[0m\u001b[0;34m\u001b[0m\u001b[0m\n\u001b[0m\u001b[1;32m      8\u001b[0m     \u001b[0;32mif\u001b[0m \u001b[0mtrain_step\u001b[0m\u001b[0;34m%\u001b[0m\u001b[0;36m1000\u001b[0m \u001b[0;34m==\u001b[0m\u001b[0;36m0\u001b[0m\u001b[0;34m:\u001b[0m\u001b[0;34m\u001b[0m\u001b[0;34m\u001b[0m\u001b[0m\n\u001b[1;32m      9\u001b[0m         \u001b[0mprint\u001b[0m\u001b[0;34m(\u001b[0m\u001b[0msess\u001b[0m\u001b[0;34m.\u001b[0m\u001b[0mrun\u001b[0m\u001b[0;34m(\u001b[0m\u001b[0;34m[\u001b[0m\u001b[0mW\u001b[0m\u001b[0;34m,\u001b[0m \u001b[0mb\u001b[0m\u001b[0;34m]\u001b[0m\u001b[0;34m)\u001b[0m\u001b[0;34m)\u001b[0m\u001b[0;34m\u001b[0m\u001b[0;34m\u001b[0m\u001b[0m\n",
      "\u001b[0;32m~/PycharmProjects/data-science-class/venv/lib/python3.6/site-packages/tensorflow/python/client/session.py\u001b[0m in \u001b[0;36mrun\u001b[0;34m(self, fetches, feed_dict, options, run_metadata)\u001b[0m\n\u001b[1;32m    948\u001b[0m     \u001b[0;32mtry\u001b[0m\u001b[0;34m:\u001b[0m\u001b[0;34m\u001b[0m\u001b[0;34m\u001b[0m\u001b[0m\n\u001b[1;32m    949\u001b[0m       result = self._run(None, fetches, feed_dict, options_ptr,\n\u001b[0;32m--> 950\u001b[0;31m                          run_metadata_ptr)\n\u001b[0m\u001b[1;32m    951\u001b[0m       \u001b[0;32mif\u001b[0m \u001b[0mrun_metadata\u001b[0m\u001b[0;34m:\u001b[0m\u001b[0;34m\u001b[0m\u001b[0;34m\u001b[0m\u001b[0m\n\u001b[1;32m    952\u001b[0m         \u001b[0mproto_data\u001b[0m \u001b[0;34m=\u001b[0m \u001b[0mtf_session\u001b[0m\u001b[0;34m.\u001b[0m\u001b[0mTF_GetBuffer\u001b[0m\u001b[0;34m(\u001b[0m\u001b[0mrun_metadata_ptr\u001b[0m\u001b[0;34m)\u001b[0m\u001b[0;34m\u001b[0m\u001b[0;34m\u001b[0m\u001b[0m\n",
      "\u001b[0;32m~/PycharmProjects/data-science-class/venv/lib/python3.6/site-packages/tensorflow/python/client/session.py\u001b[0m in \u001b[0;36m_run\u001b[0;34m(self, handle, fetches, feed_dict, options, run_metadata)\u001b[0m\n\u001b[1;32m   1171\u001b[0m     \u001b[0;32mif\u001b[0m \u001b[0mfinal_fetches\u001b[0m \u001b[0;32mor\u001b[0m \u001b[0mfinal_targets\u001b[0m \u001b[0;32mor\u001b[0m \u001b[0;34m(\u001b[0m\u001b[0mhandle\u001b[0m \u001b[0;32mand\u001b[0m \u001b[0mfeed_dict_tensor\u001b[0m\u001b[0;34m)\u001b[0m\u001b[0;34m:\u001b[0m\u001b[0;34m\u001b[0m\u001b[0;34m\u001b[0m\u001b[0m\n\u001b[1;32m   1172\u001b[0m       results = self._do_run(handle, final_targets, final_fetches,\n\u001b[0;32m-> 1173\u001b[0;31m                              feed_dict_tensor, options, run_metadata)\n\u001b[0m\u001b[1;32m   1174\u001b[0m     \u001b[0;32melse\u001b[0m\u001b[0;34m:\u001b[0m\u001b[0;34m\u001b[0m\u001b[0;34m\u001b[0m\u001b[0m\n\u001b[1;32m   1175\u001b[0m       \u001b[0mresults\u001b[0m \u001b[0;34m=\u001b[0m \u001b[0;34m[\u001b[0m\u001b[0;34m]\u001b[0m\u001b[0;34m\u001b[0m\u001b[0;34m\u001b[0m\u001b[0m\n",
      "\u001b[0;32m~/PycharmProjects/data-science-class/venv/lib/python3.6/site-packages/tensorflow/python/client/session.py\u001b[0m in \u001b[0;36m_do_run\u001b[0;34m(self, handle, target_list, fetch_list, feed_dict, options, run_metadata)\u001b[0m\n\u001b[1;32m   1348\u001b[0m     \u001b[0;32mif\u001b[0m \u001b[0mhandle\u001b[0m \u001b[0;32mis\u001b[0m \u001b[0;32mNone\u001b[0m\u001b[0;34m:\u001b[0m\u001b[0;34m\u001b[0m\u001b[0;34m\u001b[0m\u001b[0m\n\u001b[1;32m   1349\u001b[0m       return self._do_call(_run_fn, feeds, fetches, targets, options,\n\u001b[0;32m-> 1350\u001b[0;31m                            run_metadata)\n\u001b[0m\u001b[1;32m   1351\u001b[0m     \u001b[0;32melse\u001b[0m\u001b[0;34m:\u001b[0m\u001b[0;34m\u001b[0m\u001b[0;34m\u001b[0m\u001b[0m\n\u001b[1;32m   1352\u001b[0m       \u001b[0;32mreturn\u001b[0m \u001b[0mself\u001b[0m\u001b[0;34m.\u001b[0m\u001b[0m_do_call\u001b[0m\u001b[0;34m(\u001b[0m\u001b[0m_prun_fn\u001b[0m\u001b[0;34m,\u001b[0m \u001b[0mhandle\u001b[0m\u001b[0;34m,\u001b[0m \u001b[0mfeeds\u001b[0m\u001b[0;34m,\u001b[0m \u001b[0mfetches\u001b[0m\u001b[0;34m)\u001b[0m\u001b[0;34m\u001b[0m\u001b[0;34m\u001b[0m\u001b[0m\n",
      "\u001b[0;32m~/PycharmProjects/data-science-class/venv/lib/python3.6/site-packages/tensorflow/python/client/session.py\u001b[0m in \u001b[0;36m_do_call\u001b[0;34m(self, fn, *args)\u001b[0m\n\u001b[1;32m   1354\u001b[0m   \u001b[0;32mdef\u001b[0m \u001b[0m_do_call\u001b[0m\u001b[0;34m(\u001b[0m\u001b[0mself\u001b[0m\u001b[0;34m,\u001b[0m \u001b[0mfn\u001b[0m\u001b[0;34m,\u001b[0m \u001b[0;34m*\u001b[0m\u001b[0margs\u001b[0m\u001b[0;34m)\u001b[0m\u001b[0;34m:\u001b[0m\u001b[0;34m\u001b[0m\u001b[0;34m\u001b[0m\u001b[0m\n\u001b[1;32m   1355\u001b[0m     \u001b[0;32mtry\u001b[0m\u001b[0;34m:\u001b[0m\u001b[0;34m\u001b[0m\u001b[0;34m\u001b[0m\u001b[0m\n\u001b[0;32m-> 1356\u001b[0;31m       \u001b[0;32mreturn\u001b[0m \u001b[0mfn\u001b[0m\u001b[0;34m(\u001b[0m\u001b[0;34m*\u001b[0m\u001b[0margs\u001b[0m\u001b[0;34m)\u001b[0m\u001b[0;34m\u001b[0m\u001b[0;34m\u001b[0m\u001b[0m\n\u001b[0m\u001b[1;32m   1357\u001b[0m     \u001b[0;32mexcept\u001b[0m \u001b[0merrors\u001b[0m\u001b[0;34m.\u001b[0m\u001b[0mOpError\u001b[0m \u001b[0;32mas\u001b[0m \u001b[0me\u001b[0m\u001b[0;34m:\u001b[0m\u001b[0;34m\u001b[0m\u001b[0;34m\u001b[0m\u001b[0m\n\u001b[1;32m   1358\u001b[0m       \u001b[0mmessage\u001b[0m \u001b[0;34m=\u001b[0m \u001b[0mcompat\u001b[0m\u001b[0;34m.\u001b[0m\u001b[0mas_text\u001b[0m\u001b[0;34m(\u001b[0m\u001b[0me\u001b[0m\u001b[0;34m.\u001b[0m\u001b[0mmessage\u001b[0m\u001b[0;34m)\u001b[0m\u001b[0;34m\u001b[0m\u001b[0;34m\u001b[0m\u001b[0m\n",
      "\u001b[0;32m~/PycharmProjects/data-science-class/venv/lib/python3.6/site-packages/tensorflow/python/client/session.py\u001b[0m in \u001b[0;36m_run_fn\u001b[0;34m(feed_dict, fetch_list, target_list, options, run_metadata)\u001b[0m\n\u001b[1;32m   1339\u001b[0m       \u001b[0mself\u001b[0m\u001b[0;34m.\u001b[0m\u001b[0m_extend_graph\u001b[0m\u001b[0;34m(\u001b[0m\u001b[0;34m)\u001b[0m\u001b[0;34m\u001b[0m\u001b[0;34m\u001b[0m\u001b[0m\n\u001b[1;32m   1340\u001b[0m       return self._call_tf_sessionrun(\n\u001b[0;32m-> 1341\u001b[0;31m           options, feed_dict, fetch_list, target_list, run_metadata)\n\u001b[0m\u001b[1;32m   1342\u001b[0m \u001b[0;34m\u001b[0m\u001b[0m\n\u001b[1;32m   1343\u001b[0m     \u001b[0;32mdef\u001b[0m \u001b[0m_prun_fn\u001b[0m\u001b[0;34m(\u001b[0m\u001b[0mhandle\u001b[0m\u001b[0;34m,\u001b[0m \u001b[0mfeed_dict\u001b[0m\u001b[0;34m,\u001b[0m \u001b[0mfetch_list\u001b[0m\u001b[0;34m)\u001b[0m\u001b[0;34m:\u001b[0m\u001b[0;34m\u001b[0m\u001b[0;34m\u001b[0m\u001b[0m\n",
      "\u001b[0;32m~/PycharmProjects/data-science-class/venv/lib/python3.6/site-packages/tensorflow/python/client/session.py\u001b[0m in \u001b[0;36m_call_tf_sessionrun\u001b[0;34m(self, options, feed_dict, fetch_list, target_list, run_metadata)\u001b[0m\n\u001b[1;32m   1427\u001b[0m     return tf_session.TF_SessionRun_wrapper(\n\u001b[1;32m   1428\u001b[0m         \u001b[0mself\u001b[0m\u001b[0;34m.\u001b[0m\u001b[0m_session\u001b[0m\u001b[0;34m,\u001b[0m \u001b[0moptions\u001b[0m\u001b[0;34m,\u001b[0m \u001b[0mfeed_dict\u001b[0m\u001b[0;34m,\u001b[0m \u001b[0mfetch_list\u001b[0m\u001b[0;34m,\u001b[0m \u001b[0mtarget_list\u001b[0m\u001b[0;34m,\u001b[0m\u001b[0;34m\u001b[0m\u001b[0;34m\u001b[0m\u001b[0m\n\u001b[0;32m-> 1429\u001b[0;31m         run_metadata)\n\u001b[0m\u001b[1;32m   1430\u001b[0m \u001b[0;34m\u001b[0m\u001b[0m\n\u001b[1;32m   1431\u001b[0m   \u001b[0;32mdef\u001b[0m \u001b[0m_call_tf_sessionprun\u001b[0m\u001b[0;34m(\u001b[0m\u001b[0mself\u001b[0m\u001b[0;34m,\u001b[0m \u001b[0mhandle\u001b[0m\u001b[0;34m,\u001b[0m \u001b[0mfeed_dict\u001b[0m\u001b[0;34m,\u001b[0m \u001b[0mfetch_list\u001b[0m\u001b[0;34m)\u001b[0m\u001b[0;34m:\u001b[0m\u001b[0;34m\u001b[0m\u001b[0;34m\u001b[0m\u001b[0m\n",
      "\u001b[0;31mKeyboardInterrupt\u001b[0m: "
     ]
    }
   ],
   "source": [
    "sess = tf.InteractiveSession()\n",
    "sess.run(tf.global_variables_initializer())\n",
    "\n",
    "\n",
    "\n",
    "for train_step in range(200000):\n",
    "    sess.run(train,{X:x,Y:y})\n",
    "    if train_step%1000 ==0:\n",
    "        print(sess.run([W, b]))"
   ]
  },
  {
   "cell_type": "code",
   "execution_count": null,
   "metadata": {},
   "outputs": [],
   "source": [
    "sess.run([W,b])"
   ]
  },
  {
   "cell_type": "code",
   "execution_count": null,
   "metadata": {},
   "outputs": [],
   "source": []
  }
 ],
 "metadata": {
  "kernelspec": {
   "display_name": "Python 3",
   "language": "python",
   "name": "python3"
  },
  "language_info": {
   "codemirror_mode": {
    "name": "ipython",
    "version": 3
   },
   "file_extension": ".py",
   "mimetype": "text/x-python",
   "name": "python",
   "nbconvert_exporter": "python",
   "pygments_lexer": "ipython3",
   "version": "3.6.8"
  }
 },
 "nbformat": 4,
 "nbformat_minor": 2
}
