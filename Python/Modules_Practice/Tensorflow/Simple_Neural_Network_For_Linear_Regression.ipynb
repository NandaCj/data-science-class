{
 "cells": [
  {
   "cell_type": "code",
   "execution_count": 1,
   "metadata": {},
   "outputs": [],
   "source": [
    "%matplotlib inline\n",
    "import pandas as pd\n",
    "import numpy as np\n",
    "import matplotlib.pyplot as plt\n",
    "\n",
    "\n",
    "# Formatting...\n",
    "float_formatter = lambda x: \"%.4f\" % x\n",
    "np.set_printoptions(formatter={'float_kind':float_formatter})\n",
    "\n",
    "\n",
    "#Sklearn \n",
    "from sklearn.preprocessing import StandardScaler, MinMaxScaler\n",
    "from sklearn.linear_model import LinearRegression\n",
    "\n",
    "scaler = StandardScaler()\n",
    "normalizer = MinMaxScaler()"
   ]
  },
  {
   "cell_type": "markdown",
   "metadata": {},
   "source": [
    "# Observations In Simple Linear Regression (i.e y = mX +c): \n",
    "\n",
    "\n",
    "### If X and y are Co-related  and Normalized :\n",
    "    - X and y makes it Equal X = y \n",
    "    - Intercept becomes 0 and co_efficient becomes 1\n",
    "\n",
    "### If Only Input is Normalized or Standarized :\n",
    "    - Then Output is Scaled higher than Normal output\n",
    "\n",
    "### if X and y are not much co-related and Normalized: \n",
    "    - X and y almost Equal but not exactly \n",
    "    - Intercept almost 0 and co_efficient almost 1\n"
   ]
  },
  {
   "cell_type": "markdown",
   "metadata": {},
   "source": [
    "# Simple Linear Regression y = mX + c\n",
    "    - Data is completely co-related with output\n",
    "    - Here if X and y are normalized then , then both becomes equal (if and only X and y are completely co-related)"
   ]
  },
  {
   "cell_type": "code",
   "execution_count": 2,
   "metadata": {},
   "outputs": [
    {
     "name": "stdout",
     "output_type": "stream",
     "text": [
      "[[1]\n",
      " [2]\n",
      " [3]\n",
      " [4]] [[15]\n",
      " [25]\n",
      " [35]\n",
      " [45]]\n"
     ]
    },
    {
     "data": {
      "text/plain": [
       "<matplotlib.collections.PathCollection at 0x13ed8191cf8>"
      ]
     },
     "execution_count": 2,
     "metadata": {},
     "output_type": "execute_result"
    },
    {
     "data": {
      "image/png": "[encoded data removed]",
      "text/plain": [
       "<Figure size 432x288 with 1 Axes>"
      ]
     },
     "metadata": {},
     "output_type": "display_data"
    }
   ],
   "source": [
    "limit = 4 + 1\n",
    "X = np.array([x for x in range(1, limit)]).reshape(-1, 1)\n",
    "y = np.array([x*10 + 5 for x in range(1, limit)]).reshape(-1, 1)\n",
    "\n",
    "print(X, y)\n",
    "plt.scatter(X, y)\n"
   ]
  },
  {
   "cell_type": "markdown",
   "metadata": {},
   "source": [
    "# No Pre_Processing (No Standardization and Normalization)\n",
    "    - Without Scaling it Simple Linear Regression Works fine \n",
    "    - But When u Normalize the data , the X and y becomes EQUAL , i.e intercept=0 and coefficient = 1"
   ]
  },
  {
   "cell_type": "code",
   "execution_count": 3,
   "metadata": {},
   "outputs": [
    {
     "name": "stdout",
     "output_type": "stream",
     "text": [
      "Intercept (C) = [5.0000] \n",
      " Co_efficient = [[10.0000]]\n",
      "Predicted : [[25.0000]]\n"
     ]
    }
   ],
   "source": [
    "lr_reg = LinearRegression()\n",
    "\n",
    "lr_reg.fit(X, y)\n",
    "print(\"Intercept (C) = {} \\n Co_efficient = {}\".format(lr_reg.intercept_, lr_reg.coef_))\n",
    "\n",
    "pred_val = lr_reg.predict(2)\n",
    "print(\"Predicted : {}\".format(pred_val))"
   ]
  },
  {
   "cell_type": "markdown",
   "metadata": {},
   "source": [
    "# Normalized Input and Output\n",
    "    -  But When u Normalize the data , the X and y becomes EQUAL , i.e intercept=0 and coefficient = 1"
   ]
  },
  {
   "cell_type": "code",
   "execution_count": 4,
   "metadata": {},
   "outputs": [
    {
     "name": "stdout",
     "output_type": "stream",
     "text": [
      "[[0.0000]\n",
      " [0.3333]\n",
      " [0.6667]\n",
      " [1.0000]] [[0.0000]\n",
      " [0.3333]\n",
      " [0.6667]\n",
      " [1.0000]]\n",
      "Intercept (C) = [0.0000] \n",
      " Co_efficient = [[1.0000]]\n",
      "Predicted : [[2.0000]]\n"
     ]
    },
    {
     "name": "stderr",
     "output_type": "stream",
     "text": [
      "c:\\users\\nandpara\\appdata\\local\\programs\\python\\python36\\lib\\site-packages\\sklearn\\utils\\validation.py:475: DataConversionWarning: Data with input dtype int32 was converted to float64 by MinMaxScaler.\n",
      "  warnings.warn(msg, DataConversionWarning)\n"
     ]
    }
   ],
   "source": [
    "X_Normalized = normalizer.fit_transform(X)\n",
    "y_Normalized = normalizer.fit_transform(y)\n",
    "print(X_Normalized, y_Normalized)\n",
    "lr_reg = LinearRegression()\n",
    "lr_reg.fit(X_Normalized, y_Normalized)\n",
    "\n",
    "print(\"Intercept (C) = {} \\n Co_efficient = {}\".format(lr_reg.intercept_, lr_reg.coef_))\n",
    "\n",
    "pred_val = lr_reg.predict(2)\n",
    "print(\"Predicted : {}\".format(pred_val))"
   ]
  },
  {
   "cell_type": "markdown",
   "metadata": {},
   "source": [
    "# Input Normalized , Output Not Normalized\n",
    "    - If only Input is Normalized then Ouput is scaled Higher "
   ]
  },
  {
   "cell_type": "code",
   "execution_count": 5,
   "metadata": {},
   "outputs": [
    {
     "name": "stdout",
     "output_type": "stream",
     "text": [
      "[[0.0000]\n",
      " [0.3333]\n",
      " [0.6667]\n",
      " [1.0000]] [[15]\n",
      " [25]\n",
      " [35]\n",
      " [45]]\n",
      "Intercept (C) = [15.0000] \n",
      " Co_efficient = [[30.0000]]\n",
      "Predicted : [[75.0000]]\n"
     ]
    },
    {
     "name": "stderr",
     "output_type": "stream",
     "text": [
      "c:\\users\\nandpara\\appdata\\local\\programs\\python\\python36\\lib\\site-packages\\sklearn\\utils\\validation.py:475: DataConversionWarning: Data with input dtype int32 was converted to float64 by MinMaxScaler.\n",
      "  warnings.warn(msg, DataConversionWarning)\n"
     ]
    }
   ],
   "source": [
    "X_Normalized = normalizer.fit_transform(X)\n",
    "y_Normalized = y\n",
    "print(X_Normalized, y_Normalized)\n",
    "lr_reg = LinearRegression()\n",
    "lr_reg.fit(X_Normalized, y_Normalized)\n",
    "\n",
    "print(\"Intercept (C) = {} \\n Co_efficient = {}\".format(lr_reg.intercept_, lr_reg.coef_))\n",
    "\n",
    "pred_val = lr_reg.predict(2)\n",
    "print(\"Predicted : {}\".format(pred_val))"
   ]
  },
  {
   "cell_type": "markdown",
   "metadata": {},
   "source": [
    "# Standardized input and Non_Standardized output"
   ]
  },
  {
   "cell_type": "code",
   "execution_count": 6,
   "metadata": {},
   "outputs": [
    {
     "name": "stdout",
     "output_type": "stream",
     "text": [
      "Intercept (C) = [30.0000] \n",
      " Co_efficient = [[11.1803]]\n",
      "Predicted : [[52.3607]]\n"
     ]
    },
    {
     "name": "stderr",
     "output_type": "stream",
     "text": [
      "c:\\users\\nandpara\\appdata\\local\\programs\\python\\python36\\lib\\site-packages\\sklearn\\utils\\validation.py:475: DataConversionWarning: Data with input dtype int32 was converted to float64 by StandardScaler.\n",
      "  warnings.warn(msg, DataConversionWarning)\n"
     ]
    }
   ],
   "source": [
    "lr_reg = LinearRegression()\n",
    "X_Scaled = scaler.fit_transform(X)\n",
    "# print(X_Scaled)\n",
    "\n",
    "lr_reg.fit(X_Scaled, y)\n",
    "print(\"Intercept (C) = {} \\n Co_efficient = {}\".format(lr_reg.intercept_, lr_reg.coef_))\n",
    "\n",
    "pred_val = lr_reg.predict(2)\n",
    "print(\"Predicted : {}\".format(pred_val))"
   ]
  },
  {
   "cell_type": "markdown",
   "metadata": {},
   "source": [
    "# Standardized Input and Output\n",
    "\n",
    "## But When u Standardize the data , the X and y becomes EQUAL , i.e intercept=0 and coefficient = 1\n",
    "    - "
   ]
  },
  {
   "cell_type": "code",
   "execution_count": 7,
   "metadata": {},
   "outputs": [
    {
     "name": "stdout",
     "output_type": "stream",
     "text": [
      "Intercept (C) = [0.0000] \n",
      " Co_efficient = [[1.0000]]\n",
      "Predicted : [[2.0000]]\n"
     ]
    },
    {
     "name": "stderr",
     "output_type": "stream",
     "text": [
      "c:\\users\\nandpara\\appdata\\local\\programs\\python\\python36\\lib\\site-packages\\sklearn\\utils\\validation.py:475: DataConversionWarning: Data with input dtype int32 was converted to float64 by StandardScaler.\n",
      "  warnings.warn(msg, DataConversionWarning)\n"
     ]
    }
   ],
   "source": [
    "lr_reg = LinearRegression()\n",
    "y_scaled = scaler.fit_transform(y)\n",
    "\n",
    "\n",
    "lr_reg.fit(X_Scaled, y_scaled)\n",
    "print(\"Intercept (C) = {} \\n Co_efficient = {}\".format(lr_reg.intercept_, lr_reg.coef_))\n",
    "\n",
    "pred_val = lr_reg.predict(2)\n",
    "print(\"Predicted : {}\".format(pred_val))"
   ]
  },
  {
   "cell_type": "markdown",
   "metadata": {},
   "source": [
    "# Simple Linear Regression -  X and Y Not much co-related"
   ]
  },
  {
   "cell_type": "code",
   "execution_count": 15,
   "metadata": {},
   "outputs": [
    {
     "name": "stdout",
     "output_type": "stream",
     "text": [
      "[[1]\n",
      " [2]\n",
      " [3]\n",
      " [4]] [[7]\n",
      " [9]\n",
      " [8]\n",
      " [9]]\n"
     ]
    },
    {
     "data": {
      "text/plain": [
       "<matplotlib.collections.PathCollection at 0x13ed4b78ba8>"
      ]
     },
     "execution_count": 15,
     "metadata": {},
     "output_type": "execute_result"
    },
    {
     "data": {
      "image/png": "[encoded data removed]",
      "text/plain": [
       "<Figure size 432x288 with 1 Axes>"
      ]
     },
     "metadata": {},
     "output_type": "display_data"
    }
   ],
   "source": [
    "limit = 4 + 1\n",
    "X = np.array([x for x in range(1, limit)]).reshape(-1, 1)\n",
    "y = np.array([x*np.random.randint(1,4) + 5 for x in range(1, limit)]).reshape(-1, 1)\n",
    "\n",
    "print(X, y)\n",
    "plt.scatter(X, y)\n"
   ]
  },
  {
   "cell_type": "markdown",
   "metadata": {},
   "source": [
    "# No Pre_Processing (No Standardization and Normalization)\n",
    "    - Without Scaling it Simple Linear Regression Works fine \n",
    "    - But When u Normalize the data , the X and y becomes EQUAL , i.e intercept=0 and coefficient = 1"
   ]
  },
  {
   "cell_type": "code",
   "execution_count": 16,
   "metadata": {},
   "outputs": [
    {
     "name": "stdout",
     "output_type": "stream",
     "text": [
      "Intercept (C) = [7.0000] \n",
      " Co_efficient = [[0.5000]]\n",
      "Predicted : [[8.0000]]\n"
     ]
    }
   ],
   "source": [
    "lr_reg = LinearRegression()\n",
    "\n",
    "lr_reg.fit(X, y)\n",
    "print(\"Intercept (C) = {} \\n Co_efficient = {}\".format(lr_reg.intercept_, lr_reg.coef_))\n",
    "\n",
    "pred_val = lr_reg.predict(2)\n",
    "print(\"Predicted : {}\".format(pred_val))"
   ]
  },
  {
   "cell_type": "markdown",
   "metadata": {},
   "source": [
    "# Normalized Input and Output\n",
    "    -  But When u Normalize the data , the X and y becomes EQUAL , i.e intercept=0 and coefficient = 1"
   ]
  },
  {
   "cell_type": "code",
   "execution_count": 17,
   "metadata": {},
   "outputs": [
    {
     "name": "stdout",
     "output_type": "stream",
     "text": [
      "[[0.0000]\n",
      " [0.3333]\n",
      " [0.6667]\n",
      " [1.0000]] [[0.0000]\n",
      " [1.0000]\n",
      " [0.5000]\n",
      " [1.0000]]\n",
      "Intercept (C) = [0.2500] \n",
      " Co_efficient = [[0.7500]]\n",
      "Predicted : [[1.7500]]\n"
     ]
    },
    {
     "name": "stderr",
     "output_type": "stream",
     "text": [
      "c:\\users\\nandpara\\appdata\\local\\programs\\python\\python36\\lib\\site-packages\\sklearn\\utils\\validation.py:475: DataConversionWarning: Data with input dtype int32 was converted to float64 by MinMaxScaler.\n",
      "  warnings.warn(msg, DataConversionWarning)\n"
     ]
    }
   ],
   "source": [
    "X_Normalized = normalizer.fit_transform(X)\n",
    "y_Normalized = normalizer.fit_transform(y)\n",
    "print(X_Normalized, y_Normalized)\n",
    "lr_reg = LinearRegression()\n",
    "lr_reg.fit(X_Normalized, y_Normalized)\n",
    "\n",
    "print(\"Intercept (C) = {} \\n Co_efficient = {}\".format(lr_reg.intercept_, lr_reg.coef_))\n",
    "\n",
    "pred_val = lr_reg.predict(2)\n",
    "print(\"Predicted : {}\".format(pred_val))"
   ]
  },
  {
   "cell_type": "markdown",
   "metadata": {},
   "source": [
    "# Input Normalized , Output Not Normalized\n",
    "    - If only Input is Normalized then Ouput is scaled Higher "
   ]
  },
  {
   "cell_type": "code",
   "execution_count": 18,
   "metadata": {},
   "outputs": [
    {
     "name": "stdout",
     "output_type": "stream",
     "text": [
      "[[0.0000]\n",
      " [0.3333]\n",
      " [0.6667]\n",
      " [1.0000]] [[7]\n",
      " [9]\n",
      " [8]\n",
      " [9]]\n",
      "Intercept (C) = [7.5000] \n",
      " Co_efficient = [[1.5000]]\n",
      "Predicted : [[10.5000]]\n"
     ]
    },
    {
     "name": "stderr",
     "output_type": "stream",
     "text": [
      "c:\\users\\nandpara\\appdata\\local\\programs\\python\\python36\\lib\\site-packages\\sklearn\\utils\\validation.py:475: DataConversionWarning: Data with input dtype int32 was converted to float64 by MinMaxScaler.\n",
      "  warnings.warn(msg, DataConversionWarning)\n"
     ]
    }
   ],
   "source": [
    "X_Normalized = normalizer.fit_transform(X)\n",
    "y_Normalized = y\n",
    "print(X_Normalized, y_Normalized)\n",
    "lr_reg = LinearRegression()\n",
    "lr_reg.fit(X_Normalized, y_Normalized)\n",
    "\n",
    "print(\"Intercept (C) = {} \\n Co_efficient = {}\".format(lr_reg.intercept_, lr_reg.coef_))\n",
    "\n",
    "pred_val = lr_reg.predict(2)\n",
    "print(\"Predicted : {}\".format(pred_val))"
   ]
  },
  {
   "cell_type": "markdown",
   "metadata": {},
   "source": [
    "# Standardized input and Non_Standardized output"
   ]
  },
  {
   "cell_type": "code",
   "execution_count": 19,
   "metadata": {},
   "outputs": [
    {
     "name": "stdout",
     "output_type": "stream",
     "text": [
      "Intercept (C) = [8.2500] \n",
      " Co_efficient = [[0.5590]]\n",
      "Predicted : [[9.3680]]\n"
     ]
    },
    {
     "name": "stderr",
     "output_type": "stream",
     "text": [
      "c:\\users\\nandpara\\appdata\\local\\programs\\python\\python36\\lib\\site-packages\\sklearn\\utils\\validation.py:475: DataConversionWarning: Data with input dtype int32 was converted to float64 by StandardScaler.\n",
      "  warnings.warn(msg, DataConversionWarning)\n"
     ]
    }
   ],
   "source": [
    "lr_reg = LinearRegression()\n",
    "X_Scaled = scaler.fit_transform(X)\n",
    "# print(X_Scaled)\n",
    "\n",
    "lr_reg.fit(X_Scaled, y)\n",
    "print(\"Intercept (C) = {} \\n Co_efficient = {}\".format(lr_reg.intercept_, lr_reg.coef_))\n",
    "\n",
    "pred_val = lr_reg.predict(2)\n",
    "print(\"Predicted : {}\".format(pred_val))"
   ]
  },
  {
   "cell_type": "markdown",
   "metadata": {},
   "source": [
    "# Standardized Input and Output\n",
    "\n",
    "## But When u Standardize the data , the X and y becomes EQUAL , i.e intercept=0 and coefficient = 1\n",
    "    - "
   ]
  },
  {
   "cell_type": "code",
   "execution_count": 20,
   "metadata": {},
   "outputs": [
    {
     "name": "stdout",
     "output_type": "stream",
     "text": [
      "Intercept (C) = [0.0000] \n",
      " Co_efficient = [[0.6742]]\n",
      "Predicted : [[1.3484]]\n"
     ]
    },
    {
     "name": "stderr",
     "output_type": "stream",
     "text": [
      "c:\\users\\nandpara\\appdata\\local\\programs\\python\\python36\\lib\\site-packages\\sklearn\\utils\\validation.py:475: DataConversionWarning: Data with input dtype int32 was converted to float64 by StandardScaler.\n",
      "  warnings.warn(msg, DataConversionWarning)\n"
     ]
    }
   ],
   "source": [
    "lr_reg = LinearRegression()\n",
    "y_scaled = scaler.fit_transform(y)\n",
    "\n",
    "\n",
    "lr_reg.fit(X_Scaled, y_scaled)\n",
    "print(\"Intercept (C) = {} \\n Co_efficient = {}\".format(lr_reg.intercept_, lr_reg.coef_))\n",
    "\n",
    "pred_val = lr_reg.predict(2)\n",
    "print(\"Predicted : {}\".format(pred_val))"
   ]
  }
 ],
 "metadata": {
  "kernelspec": {
   "display_name": "Python 3",
   "language": "python",
   "name": "python3"
  },
  "language_info": {
   "codemirror_mode": {
    "name": "ipython",
    "version": 3
   },
   "file_extension": ".py",
   "mimetype": "text/x-python",
   "name": "python",
   "nbconvert_exporter": "python",
   "pygments_lexer": "ipython3",
   "version": "3.6.5"
  }
 },
 "nbformat": 4,
 "nbformat_minor": 2
}
