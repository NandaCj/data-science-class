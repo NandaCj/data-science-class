{
 "cells": [
  {
   "cell_type": "markdown",
   "metadata": {},
   "source": [
    "# Tensorflow Variables, Constants and Placeholders"
   ]
  },
  {
   "cell_type": "code",
   "execution_count": 1,
   "metadata": {},
   "outputs": [],
   "source": [
    "import numpy as np\n",
    "import tensorflow as tf\n",
    "from datetime import datetime\n",
    "\n"
   ]
  },
  {
   "cell_type": "markdown",
   "metadata": {},
   "source": [
    "# Graph with Variables and Constants"
   ]
  },
  {
   "cell_type": "markdown",
   "metadata": {},
   "source": [
    "    - tf.Variable creates a tf variable node\n",
    "    - tf.assign creates tf Tensor ops\n",
    "    - tf.reset_default_graph - resets the graphs to empty default graph\n",
    "        try without resetting default graph many variable will be created in graph"
   ]
  },
  {
   "cell_type": "code",
   "execution_count": 2,
   "metadata": {},
   "outputs": [],
   "source": [
    "tf.reset_default_graph()\n",
    "array = np.array([1,2,3,4,5,6,7])\n",
    "x_np = array\n",
    "y_np = array * 10\n",
    "\n",
    "x = tf.Variable(x_np, name='x', dtype=np.int32) # if no value mentioned , errors out\n",
    "y = tf.Variable(y_np, name='y', dtype=np.int32)\n",
    "x_assign = x.assign([5,6,7,8,9,10,11]) # Creates an assign Op \n",
    "c = tf.constant([120])\n",
    "l = tf.math.multiply(x, c)\n",
    "f = x+y\n",
    "\n",
    "# Uncomment c , l and f to see the graph behaviour in tensorboard"
   ]
  },
  {
   "cell_type": "code",
   "execution_count": 3,
   "metadata": {},
   "outputs": [],
   "source": [
    "# Log Dir For Graphs \n",
    "\n",
    "now = datetime.utcnow().strftime(\"%Y%m%d%H%M%S\")\n",
    "root_logdir = \"tf_logs\"\n",
    "logdir = \"{}/run-{}/\".format(root_logdir, now)\n",
    "\n",
    "file_writer = tf.summary.FileWriter(logdir, tf.get_default_graph())\n"
   ]
  },
  {
   "cell_type": "markdown",
   "metadata": {},
   "source": [
    "# Grapth with Variables and Constants with Namespacing Nodes \n",
    "    - Check add and remove from main graph options"
   ]
  },
  {
   "cell_type": "code",
   "execution_count": null,
   "metadata": {},
   "outputs": [],
   "source": [
    "tf.reset_default_graph()\n",
    "array = np.array([1,2,3,4,5,6,7])\n",
    "a_np = array\n",
    "b_np = array * 10\n",
    "\n",
    "a = tf.Variable(a_np, name='a', dtype=np.int32) # if no value mentioned , errors out\n",
    "b = tf.Variable(b_np, name='b', dtype=np.int32)\n",
    "a_assign = x.assign([5,6,7,8,9,10,11]) # Creates an assign Op \n",
    "\n",
    "\n",
    "with tf.name_scope(\"Constant_Multiplication\"):\n",
    "    c = tf.constant(120)\n",
    "    l = c*a\n",
    "with tf.name_scope(\"Add_Two_Tensors\"):    \n",
    "    f = a+b\n",
    "\n",
    "with tf.name_scope(\"Mul_Two_Tensors\"):    \n",
    "    M = a+b\n",
    "\n"
   ]
  },
  {
   "cell_type": "code",
   "execution_count": null,
   "metadata": {},
   "outputs": [],
   "source": [
    "# Log Dir For Graphs \n",
    "\n",
    "now = datetime.utcnow().strftime(\"%Y%m%d%H%M%S\")\n",
    "root_logdir = \"tf_logs\"\n",
    "logdir = \"{}/run-{}/\".format(root_logdir, now)\n",
    "\n",
    "file_writer = tf.summary.FileWriter(logdir, tf.get_default_graph())"
   ]
  },
  {
   "cell_type": "markdown",
   "metadata": {},
   "source": [
    "# Placeholders"
   ]
  },
  {
   "cell_type": "code",
   "execution_count": 21,
   "metadata": {},
   "outputs": [],
   "source": [
    "tf.reset_default_graph()\n",
    "\n",
    "i = tf.placeholder(dtype=np.int32, shape=(4))\n",
    "k = tf.Variable([1,2,3,4], name='k')\n",
    "res = i*20\n",
    " "
   ]
  },
  {
   "cell_type": "code",
   "execution_count": 23,
   "metadata": {},
   "outputs": [
    {
     "name": "stdout",
     "output_type": "stream",
     "text": [
      "[20 40 60 80]\n"
     ]
    }
   ],
   "source": [
    "\n",
    "sess = tf.InteractiveSession() # sess is initiated ? only then graph is executed\n",
    "init = tf.global_variables_initializer() # initialize all global variables declared so far\n",
    "sess.run(init)\n",
    "print(sess.run(res, feed_dict={i : [1,2,3,4]}))\n",
    "sess.close()"
   ]
  },
  {
   "cell_type": "code",
   "execution_count": 24,
   "metadata": {},
   "outputs": [],
   "source": [
    "\n",
    "# Log Dir For Graphs \n",
    "\n",
    "now = datetime.utcnow().strftime(\"%Y%m%d%H%M%S\")\n",
    "root_logdir = \"tf_logs\"\n",
    "logdir = \"{}/run-{}/\".format(root_logdir, now)\n",
    "\n",
    "file_writer = tf.summary.FileWriter(logdir, tf.get_default_graph())"
   ]
  },
  {
   "cell_type": "code",
   "execution_count": null,
   "metadata": {},
   "outputs": [],
   "source": []
  },
  {
   "cell_type": "code",
   "execution_count": null,
   "metadata": {},
   "outputs": [],
   "source": []
  },
  {
   "cell_type": "code",
   "execution_count": null,
   "metadata": {},
   "outputs": [],
   "source": []
  },
  {
   "cell_type": "code",
   "execution_count": null,
   "metadata": {},
   "outputs": [],
   "source": []
  },
  {
   "cell_type": "markdown",
   "metadata": {},
   "source": [
    "# Other useful methods "
   ]
  },
  {
   "cell_type": "code",
   "execution_count": null,
   "metadata": {},
   "outputs": [],
   "source": [
    "# tf.global_variables() # to see variables within that graph"
   ]
  },
  {
   "cell_type": "code",
   "execution_count": null,
   "metadata": {},
   "outputs": [],
   "source": []
  }
 ],
 "metadata": {
  "kernelspec": {
   "display_name": "Python 3",
   "language": "python",
   "name": "python3"
  },
  "language_info": {
   "codemirror_mode": {
    "name": "ipython",
    "version": 3
   },
   "file_extension": ".py",
   "mimetype": "text/x-python",
   "name": "python",
   "nbconvert_exporter": "python",
   "pygments_lexer": "ipython3",
   "version": "3.6.8"
  }
 },
 "nbformat": 4,
 "nbformat_minor": 2
}
