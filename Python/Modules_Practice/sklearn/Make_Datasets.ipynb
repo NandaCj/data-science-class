{
 "cells": [
  {
   "cell_type": "code",
   "execution_count": 1,
   "metadata": {},
   "outputs": [],
   "source": [
    "%matplotlib inline \n",
    "import numpy as np\n",
    "import pandas as pd\n",
    "from matplotlib import pyplot\n",
    "from sklearn.datasets.samples_generator import make_blobs"
   ]
  },
  {
   "cell_type": "markdown",
   "metadata": {},
   "source": [
    "### [dataset_creation_samples](https://machinelearningmastery.com/generate-test-datasets-python-scikit-learn/)"
   ]
  },
  {
   "cell_type": "code",
   "execution_count": 2,
   "metadata": {},
   "outputs": [],
   "source": [
    "X, y = make_blobs()"
   ]
  },
  {
   "cell_type": "code",
   "execution_count": 3,
   "metadata": {},
   "outputs": [],
   "source": [
    "df = pd.DataFrame(dict(x=X[:,0], y=X[:,1], label=y))"
   ]
  },
  {
   "cell_type": "code",
   "execution_count": 4,
   "metadata": {},
   "outputs": [
    {
     "data": {
      "text/html": [
       "<div>\n",
       "<style scoped>\n",
       "    .dataframe tbody tr th:only-of-type {\n",
       "        vertical-align: middle;\n",
       "    }\n",
       "\n",
       "    .dataframe tbody tr th {\n",
       "        vertical-align: top;\n",
       "    }\n",
       "\n",
       "    .dataframe thead th {\n",
       "        text-align: right;\n",
       "    }\n",
       "</style>\n",
       "<table border=\"1\" class=\"dataframe\">\n",
       "  <thead>\n",
       "    <tr style=\"text-align: right;\">\n",
       "      <th></th>\n",
       "      <th>label</th>\n",
       "      <th>x</th>\n",
       "      <th>y</th>\n",
       "    </tr>\n",
       "  </thead>\n",
       "  <tbody>\n",
       "    <tr>\n",
       "      <th>0</th>\n",
       "      <td>0</td>\n",
       "      <td>-2.610824</td>\n",
       "      <td>7.730418</td>\n",
       "    </tr>\n",
       "    <tr>\n",
       "      <th>1</th>\n",
       "      <td>2</td>\n",
       "      <td>8.924089</td>\n",
       "      <td>1.195780</td>\n",
       "    </tr>\n",
       "    <tr>\n",
       "      <th>2</th>\n",
       "      <td>2</td>\n",
       "      <td>9.729886</td>\n",
       "      <td>-0.119963</td>\n",
       "    </tr>\n",
       "    <tr>\n",
       "      <th>3</th>\n",
       "      <td>1</td>\n",
       "      <td>8.229846</td>\n",
       "      <td>-1.971847</td>\n",
       "    </tr>\n",
       "    <tr>\n",
       "      <th>4</th>\n",
       "      <td>0</td>\n",
       "      <td>-4.166441</td>\n",
       "      <td>9.988129</td>\n",
       "    </tr>\n",
       "  </tbody>\n",
       "</table>\n",
       "</div>"
      ],
      "text/plain": [
       "   label         x         y\n",
       "0      0 -2.610824  7.730418\n",
       "1      2  8.924089  1.195780\n",
       "2      2  9.729886 -0.119963\n",
       "3      1  8.229846 -1.971847\n",
       "4      0 -4.166441  9.988129"
      ]
     },
     "execution_count": 4,
     "metadata": {},
     "output_type": "execute_result"
    }
   ],
   "source": [
    "df.head()"
   ]
  },
  {
   "cell_type": "code",
   "execution_count": 5,
   "metadata": {},
   "outputs": [
    {
     "data": {
      "text/plain": [
       "{0: Int64Index([ 0,  4,  7, 10, 13, 18, 23, 25, 28, 29, 32, 33, 35, 38, 39, 46, 49,\n",
       "             52, 54, 58, 59, 60, 61, 68, 69, 73, 76, 77, 79, 80, 86, 89, 92,\n",
       "             97],\n",
       "            dtype='int64'),\n",
       " 1: Int64Index([ 3,  5,  8,  9, 16, 17, 22, 27, 30, 31, 36, 37, 43, 45, 51, 53, 55,\n",
       "             62, 64, 65, 70, 71, 72, 75, 82, 83, 85, 87, 90, 91, 93, 95, 96],\n",
       "            dtype='int64'),\n",
       " 2: Int64Index([ 1,  2,  6, 11, 12, 14, 15, 19, 20, 21, 24, 26, 34, 40, 41, 42, 44,\n",
       "             47, 48, 50, 56, 57, 63, 66, 67, 74, 78, 81, 84, 88, 94, 98, 99],\n",
       "            dtype='int64')}"
      ]
     },
     "execution_count": 5,
     "metadata": {},
     "output_type": "execute_result"
    }
   ],
   "source": [
    "grouped = df.groupby('label')\n",
    "grouped.groups"
   ]
  },
  {
   "cell_type": "code",
   "execution_count": 6,
   "metadata": {},
   "outputs": [
    {
     "name": "stdout",
     "output_type": "stream",
     "text": [
      "<class 'int'>\n",
      "0\n",
      "<class 'pandas.core.frame.DataFrame'>\n",
      "    label         x          y\n",
      "0       0 -2.610824   7.730418\n",
      "4       0 -4.166441   9.988129\n",
      "7       0 -3.154235   9.814956\n",
      "10      0 -1.985363   6.520815\n",
      "13      0 -4.281071   8.379332\n",
      "18      0 -6.248513   8.427785\n",
      "23      0 -3.949212   8.175784\n",
      "25      0 -2.111993   9.010197\n",
      "28      0 -1.493513   8.502147\n",
      "29      0 -4.633366   8.543421\n",
      "32      0 -4.349676   8.970038\n",
      "33      0 -4.464209   8.755221\n",
      "35      0 -2.742389  10.127649\n",
      "38      0 -3.402766  10.864035\n",
      "39      0 -3.876809   8.114417\n",
      "46      0 -5.186390   8.208774\n",
      "49      0 -3.401182   9.475737\n",
      "52      0 -5.295068  11.140238\n",
      "54      0 -3.826960   8.785222\n",
      "58      0 -4.123221   8.066940\n",
      "59      0 -2.754971   8.335864\n",
      "60      0 -2.820649   7.990955\n",
      "61      0 -3.819173  10.653561\n",
      "68      0 -2.117367   8.574647\n",
      "69      0 -4.057147   7.301782\n",
      "73      0 -3.646242   8.954167\n",
      "76      0 -4.949366   9.655282\n",
      "77      0 -4.213916   9.197512\n",
      "79      0 -3.354764   8.814010\n",
      "80      0 -3.723070   8.351843\n",
      "86      0 -4.113119   8.810901\n",
      "89      0 -4.840123   8.304304\n",
      "92      0 -3.803468   9.136046\n",
      "97      0 -5.268252   9.969583\n",
      "<class 'int'>\n",
      "1\n",
      "<class 'pandas.core.frame.DataFrame'>\n",
      "    label          x         y\n",
      "3       1   8.229846 -1.971847\n",
      "5       1   9.579315 -1.426493\n",
      "8       1  10.403522  0.694441\n",
      "9       1   9.374682  0.908961\n",
      "16      1  10.863201  1.237423\n",
      "17      1   7.846638  0.462794\n",
      "22      1  10.370700 -0.946575\n",
      "27      1  10.695754 -1.212921\n",
      "30      1   7.271408 -0.844258\n",
      "31      1  10.513558  0.213364\n",
      "36      1  10.006510 -1.641373\n",
      "37      1   8.926860 -1.168246\n",
      "43      1   8.764770 -0.807549\n",
      "45      1   9.368732  2.319618\n",
      "51      1   8.365127  0.441466\n",
      "53      1   9.882437  1.262874\n",
      "55      1   8.440330 -1.663431\n",
      "62      1   8.758715  0.588057\n",
      "64      1  10.136765 -0.254714\n",
      "65      1   9.055417 -0.143497\n",
      "70      1   8.140361 -0.994873\n",
      "71      1  10.443655 -1.021056\n",
      "72      1   9.205780 -1.789940\n",
      "75      1  10.643829 -1.801959\n",
      "82      1   8.954764 -1.160673\n",
      "83      1   8.025234 -1.156110\n",
      "85      1   9.419047 -1.730767\n",
      "87      1   9.397373  1.506865\n",
      "90      1   8.262205 -0.284116\n",
      "91      1   9.096662 -1.006490\n",
      "93      1   9.175058 -0.467185\n",
      "95      1  10.169670 -0.341249\n",
      "96      1   7.834561 -0.837719\n",
      "<class 'int'>\n",
      "2\n",
      "<class 'pandas.core.frame.DataFrame'>\n",
      "    label          x         y\n",
      "1       2   8.924089  1.195780\n",
      "2       2   9.729886 -0.119963\n",
      "6       2  10.384243 -1.708099\n",
      "11      2   6.779386  0.094865\n",
      "12      2   9.436673 -0.889411\n",
      "14      2   7.567171 -0.038600\n",
      "15      2   8.204125 -0.089236\n",
      "19      2   7.559401 -0.687821\n",
      "20      2  10.453826  0.998931\n",
      "21      2   8.992026  0.068192\n",
      "24      2   6.999762 -0.385032\n",
      "26      2   8.758981  0.506036\n",
      "34      2   9.644054  0.908559\n",
      "40      2   8.381325 -2.389169\n",
      "41      2   9.810419 -1.158360\n",
      "42      2   8.709846 -0.516353\n",
      "44      2   8.374101 -1.669054\n",
      "47      2   7.914508 -1.278422\n",
      "48      2  10.299521  1.228315\n",
      "50      2  10.162495 -1.285108\n",
      "56      2   8.598011 -0.556294\n",
      "57      2   8.753847 -1.067352\n",
      "63      2   6.127357 -1.462145\n",
      "66      2   9.170284 -0.443103\n",
      "67      2   6.928850 -0.019661\n",
      "74      2   7.730438  1.264819\n",
      "78      2   7.140286 -0.503810\n",
      "81      2   8.539094 -1.903273\n",
      "84      2   8.829426  0.045104\n",
      "88      2   8.674603  1.030458\n",
      "94      2  10.194800 -0.081821\n",
      "98      2   9.256495 -0.147269\n",
      "99      2   8.030599  0.243059\n"
     ]
    }
   ],
   "source": [
    "for name, group in grouped:\n",
    "    print(type(name))\n",
    "    print(name)\n",
    "    print(type(group))\n",
    "    print(group)"
   ]
  },
  {
   "cell_type": "code",
   "execution_count": 7,
   "metadata": {},
   "outputs": [
    {
     "data": {
      "text/plain": [
       "0    34\n",
       "2    33\n",
       "1    33\n",
       "Name: label, dtype: int64"
      ]
     },
     "execution_count": 7,
     "metadata": {},
     "output_type": "execute_result"
    }
   ],
   "source": [
    "df.label.value_counts()"
   ]
  },
  {
   "cell_type": "code",
   "execution_count": 8,
   "metadata": {},
   "outputs": [
    {
     "data": {
      "image/png": "[encoded data removed]",
      "text/plain": [
       "<Figure size 432x288 with 1 Axes>"
      ]
     },
     "metadata": {},
     "output_type": "display_data"
    }
   ],
   "source": [
    "fig, ax = pyplot.subplots()\n",
    "colors = {0:'red', 1:'blue', 2:'green'}\n",
    "for key, group in grouped:\n",
    "    group.plot(ax=ax, kind='scatter', x='x', y='y', label=key, color=colors[key])\n",
    "pyplot.show()"
   ]
  },
  {
   "cell_type": "code",
   "execution_count": 9,
   "metadata": {},
   "outputs": [
    {
     "data": {
      "text/html": [
       "<div>\n",
       "<style scoped>\n",
       "    .dataframe tbody tr th:only-of-type {\n",
       "        vertical-align: middle;\n",
       "    }\n",
       "\n",
       "    .dataframe tbody tr th {\n",
       "        vertical-align: top;\n",
       "    }\n",
       "\n",
       "    .dataframe thead th {\n",
       "        text-align: right;\n",
       "    }\n",
       "</style>\n",
       "<table border=\"1\" class=\"dataframe\">\n",
       "  <thead>\n",
       "    <tr style=\"text-align: right;\">\n",
       "      <th></th>\n",
       "      <th>label</th>\n",
       "      <th>x</th>\n",
       "      <th>y</th>\n",
       "    </tr>\n",
       "  </thead>\n",
       "  <tbody>\n",
       "    <tr>\n",
       "      <th>0</th>\n",
       "      <td>0</td>\n",
       "      <td>-2.610824</td>\n",
       "      <td>7.730418</td>\n",
       "    </tr>\n",
       "    <tr>\n",
       "      <th>1</th>\n",
       "      <td>2</td>\n",
       "      <td>8.924089</td>\n",
       "      <td>1.195780</td>\n",
       "    </tr>\n",
       "    <tr>\n",
       "      <th>2</th>\n",
       "      <td>2</td>\n",
       "      <td>9.729886</td>\n",
       "      <td>-0.119963</td>\n",
       "    </tr>\n",
       "    <tr>\n",
       "      <th>3</th>\n",
       "      <td>1</td>\n",
       "      <td>8.229846</td>\n",
       "      <td>-1.971847</td>\n",
       "    </tr>\n",
       "    <tr>\n",
       "      <th>4</th>\n",
       "      <td>0</td>\n",
       "      <td>-4.166441</td>\n",
       "      <td>9.988129</td>\n",
       "    </tr>\n",
       "  </tbody>\n",
       "</table>\n",
       "</div>"
      ],
      "text/plain": [
       "   label         x         y\n",
       "0      0 -2.610824  7.730418\n",
       "1      2  8.924089  1.195780\n",
       "2      2  9.729886 -0.119963\n",
       "3      1  8.229846 -1.971847\n",
       "4      0 -4.166441  9.988129"
      ]
     },
     "execution_count": 9,
     "metadata": {},
     "output_type": "execute_result"
    }
   ],
   "source": [
    "df.head()"
   ]
  },
  {
   "cell_type": "code",
   "execution_count": 10,
   "metadata": {},
   "outputs": [
    {
     "data": {
      "text/plain": [
       "<matplotlib.axes._subplots.AxesSubplot at 0x29c95f15080>"
      ]
     },
     "execution_count": 10,
     "metadata": {},
     "output_type": "execute_result"
    },
    {
     "data": {
      "image/png": "[encoded data removed]",
      "text/plain": [
       "<Figure size 432x288 with 2 Axes>"
      ]
     },
     "metadata": {},
     "output_type": "display_data"
    }
   ],
   "source": [
    "df.plot(kind='scatter', x='x', y='y', c='label',colormap='viridis')"
   ]
  },
  {
   "cell_type": "code",
   "execution_count": 11,
   "metadata": {},
   "outputs": [
    {
     "data": {
      "text/plain": [
       "<bound method Axes.scatter of <matplotlib.axes._subplots.AxesSubplot object at 0x0000029C95F2C2E8>>"
      ]
     },
     "execution_count": 11,
     "metadata": {},
     "output_type": "execute_result"
    }
   ],
   "source": [
    "ax.scatter"
   ]
  },
  {
   "cell_type": "code",
   "execution_count": null,
   "metadata": {},
   "outputs": [],
   "source": []
  }
 ],
 "metadata": {
  "kernelspec": {
   "display_name": "Python 3",
   "language": "python",
   "name": "python3"
  },
  "language_info": {
   "codemirror_mode": {
    "name": "ipython",
    "version": 3
   },
   "file_extension": ".py",
   "mimetype": "text/x-python",
   "name": "python",
   "nbconvert_exporter": "python",
   "pygments_lexer": "ipython3",
   "version": "3.6.0"
  }
 },
 "nbformat": 4,
 "nbformat_minor": 2
}
