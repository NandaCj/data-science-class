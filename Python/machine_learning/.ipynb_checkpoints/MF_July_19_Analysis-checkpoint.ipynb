{
 "cells": [
  {
   "cell_type": "code",
   "execution_count": 1,
   "metadata": {},
   "outputs": [],
   "source": [
    "%matplotlib inline \n",
    "import pandas as pd \n",
    "import numpy as np\n",
    "from math import sqrt\n",
    "\n",
    "\n",
    "# Visualization Modules\n",
    "import matplotlib\n",
    "from matplotlib import pyplot as plt\n",
    "import seaborn as sns\n",
    "\n",
    "#Scipy Maths Models\n",
    "import statsmodels.api as sm\n",
    "from scipy import stats\n",
    "\n",
    "# Machine Learning Training Modules\n",
    "from sklearn.linear_model import LinearRegression\n",
    "from sklearn.metrics import mean_squared_error as mse\n",
    "from sklearn.metrics import r2_score\n",
    "from sklearn.model_selection import train_test_split\n",
    "\n",
    "from sklearn.model_selection import KFold"
   ]
  },
  {
   "cell_type": "code",
   "execution_count": 2,
   "metadata": {},
   "outputs": [
    {
     "name": "stderr",
     "output_type": "stream",
     "text": [
      "/home/nandagopal/PycharmProjects/data-science-class/venv/lib/python3.6/site-packages/ipykernel_launcher.py:4: ParserWarning: Falling back to the 'python' engine because the 'c' engine does not support skipfooter; you can avoid this warning by specifying engine='python'.\n",
      "  after removing the cwd from sys.path.\n"
     ]
    },
    {
     "data": {
      "text/html": [
       "<div>\n",
       "<style scoped>\n",
       "    .dataframe tbody tr th:only-of-type {\n",
       "        vertical-align: middle;\n",
       "    }\n",
       "\n",
       "    .dataframe tbody tr th {\n",
       "        vertical-align: top;\n",
       "    }\n",
       "\n",
       "    .dataframe thead th {\n",
       "        text-align: right;\n",
       "    }\n",
       "</style>\n",
       "<table border=\"1\" class=\"dataframe\">\n",
       "  <thead>\n",
       "    <tr style=\"text-align: right;\">\n",
       "      <th></th>\n",
       "      <th>Stock</th>\n",
       "      <th>Sector</th>\n",
       "      <th>Class</th>\n",
       "      <th>Month</th>\n",
       "      <th>BuyQuantity</th>\n",
       "      <th>BuyValue</th>\n",
       "    </tr>\n",
       "  </thead>\n",
       "  <tbody>\n",
       "    <tr>\n",
       "      <th>0</th>\n",
       "      <td>IndusInd Bank Ltd.</td>\n",
       "      <td>Financials</td>\n",
       "      <td>Large-Cap</td>\n",
       "      <td>July-2019</td>\n",
       "      <td>23185594</td>\n",
       "      <td>3273.03</td>\n",
       "    </tr>\n",
       "    <tr>\n",
       "      <th>1</th>\n",
       "      <td>NTPC Ltd.</td>\n",
       "      <td>Energy</td>\n",
       "      <td>Large-Cap</td>\n",
       "      <td>July-2019</td>\n",
       "      <td>193295426</td>\n",
       "      <td>2589.17</td>\n",
       "    </tr>\n",
       "    <tr>\n",
       "      <th>2</th>\n",
       "      <td>Coal India Ltd.</td>\n",
       "      <td>Energy</td>\n",
       "      <td>Large-Cap</td>\n",
       "      <td>July-2019</td>\n",
       "      <td>102987674</td>\n",
       "      <td>2359.70</td>\n",
       "    </tr>\n",
       "    <tr>\n",
       "      <th>3</th>\n",
       "      <td>Axis Bank Ltd.</td>\n",
       "      <td>Financials</td>\n",
       "      <td>Large-Cap</td>\n",
       "      <td>July-2019</td>\n",
       "      <td>31634687</td>\n",
       "      <td>2345.11</td>\n",
       "    </tr>\n",
       "    <tr>\n",
       "      <th>4</th>\n",
       "      <td>Oil &amp; Natural Gas Corporation Ltd.</td>\n",
       "      <td>Energy</td>\n",
       "      <td>Large-Cap</td>\n",
       "      <td>July-2019</td>\n",
       "      <td>147736432</td>\n",
       "      <td>2264.83</td>\n",
       "    </tr>\n",
       "  </tbody>\n",
       "</table>\n",
       "</div>"
      ],
      "text/plain": [
       "                                Stock      Sector      Class      Month  \\\n",
       "0                  IndusInd Bank Ltd.  Financials  Large-Cap  July-2019   \n",
       "1                           NTPC Ltd.      Energy  Large-Cap  July-2019   \n",
       "2                     Coal India Ltd.      Energy  Large-Cap  July-2019   \n",
       "3                      Axis Bank Ltd.  Financials  Large-Cap  July-2019   \n",
       "4  Oil & Natural Gas Corporation Ltd.      Energy  Large-Cap  July-2019   \n",
       "\n",
       "   BuyQuantity  BuyValue  \n",
       "0     23185594   3273.03  \n",
       "1    193295426   2589.17  \n",
       "2    102987674   2359.70  \n",
       "3     31634687   2345.11  \n",
       "4    147736432   2264.83  "
      ]
     },
     "execution_count": 2,
     "metadata": {},
     "output_type": "execute_result"
    }
   ],
   "source": [
    "data_file = 'Stock_Buy_Jul-19.csv' # make sure the path of the file is correct\n",
    "cols = ['Stock','Sector','Class','Month','BuyQuantity', 'BuyValue']\n",
    "datatypes = [str, str, str, str, np.int64, np.int64]\n",
    "df = pd.read_csv(data_file, names=cols, header=None, skiprows=1, skipfooter=6 )\n",
    "df.columns = cols\n",
    "df.head()"
   ]
  },
  {
   "cell_type": "code",
   "execution_count": null,
   "metadata": {},
   "outputs": [],
   "source": [
    "df.info()"
   ]
  },
  {
   "cell_type": "code",
   "execution_count": null,
   "metadata": {},
   "outputs": [],
   "source": [
    "df.describe()"
   ]
  },
  {
   "cell_type": "code",
   "execution_count": null,
   "metadata": {},
   "outputs": [],
   "source": [
    "sector_df = df.groupby(['Sector']).agg(len).reset_index()\n",
    "class_df = df.groupby(['Class']).agg(len).reset_index()"
   ]
  },
  {
   "cell_type": "code",
   "execution_count": null,
   "metadata": {},
   "outputs": [],
   "source": [
    "sector_df.plot(x = 'Sector', y='Stock' , kind='barh')"
   ]
  },
  {
   "cell_type": "code",
   "execution_count": null,
   "metadata": {},
   "outputs": [],
   "source": [
    "class_df.plot(x = 'Class', y='Stock' , kind='barh')"
   ]
  },
  {
   "cell_type": "code",
   "execution_count": null,
   "metadata": {},
   "outputs": [],
   "source": [
    "df[(df.Class == 'Large-Cap') & (df.Sector == 'Financials')].sort_values('BuyValue', ascending=False)"
   ]
  },
  {
   "cell_type": "markdown",
   "metadata": {},
   "source": [
    "# Stratfied Sampling "
   ]
  },
  {
   "cell_type": "code",
   "execution_count": 5,
   "metadata": {},
   "outputs": [],
   "source": [
    "kf = KFold(n_splits=3)"
   ]
  },
  {
   "cell_type": "code",
   "execution_count": null,
   "metadata": {},
   "outputs": [],
   "source": [
    "kf."
   ]
  }
 ],
 "metadata": {
  "kernelspec": {
   "display_name": "Python 3",
   "language": "python",
   "name": "python3"
  },
  "language_info": {
   "codemirror_mode": {
    "name": "ipython",
    "version": 3
   },
   "file_extension": ".py",
   "mimetype": "text/x-python",
   "name": "python",
   "nbconvert_exporter": "python",
   "pygments_lexer": "ipython3",
   "version": "3.6.8"
  }
 },
 "nbformat": 4,
 "nbformat_minor": 2
}
