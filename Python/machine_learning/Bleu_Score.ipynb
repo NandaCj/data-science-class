{
 "cells": [
  {
   "cell_type": "code",
   "execution_count": 2,
   "metadata": {},
   "outputs": [],
   "source": [
    "\n",
    "# two words different\n",
    "from nltk.translate.bleu_score import sentence_bleu, corpus_bleu\n",
    "reference = [['the', 'quick', 'brown', 'fox', 'jumped', 'over', 'the', 'lazy', 'dog']]\n",
    "candidate = ['the', 'brown', 'brown', 'fox', 'jumped', 'over', 'the', 'lazy', 'dog']\n",
    "score = sentence_bleu(reference, candidate)\n",
    "\n"
   ]
  },
  {
   "cell_type": "code",
   "execution_count": 14,
   "metadata": {},
   "outputs": [
    {
     "data": {
      "text/plain": [
       "0.7506238537503395"
      ]
     },
     "execution_count": 14,
     "metadata": {},
     "output_type": "execute_result"
    }
   ],
   "source": [
    "score"
   ]
  },
  {
   "cell_type": "code",
   "execution_count": 23,
   "metadata": {},
   "outputs": [],
   "source": [
    "actual_json = \"\"\"textblock\n",
    "{\n",
    "text,size,weight\n",
    "}\n",
    "input.text\n",
    "{\n",
    "text,size,weight\n",
    "}\n",
    "input.text\n",
    "{\n",
    "text,size,weight\n",
    "}\n",
    "input.text\n",
    "{\n",
    "text,size,weight\n",
    "}\n",
    "input.text\n",
    "{\n",
    "text,size,weight\n",
    "}\n",
    "input.text\n",
    "{\n",
    "text,size,weight\n",
    "}\n",
    "input.number\n",
    "{\n",
    "text,size,weight\n",
    "}\n",
    "input.date\n",
    "{\n",
    "text,size,weight\n",
    "}\n",
    "input.time\n",
    "{\n",
    "text,size,weight\n",
    "}\n",
    "textblock\n",
    "{\n",
    "text,size,weight\n",
    "}\n",
    "textblock\n",
    "{\n",
    "text,size,weight\n",
    "}\n",
    "input.choiceset\n",
    "{\n",
    "text,size,weight\n",
    "}\n",
    "textblock\n",
    "{\n",
    "text,size,weight\n",
    "}\n",
    "input.choiceset\n",
    "{\n",
    "text,size,weight\n",
    "}\n",
    "textblock\n",
    "{\n",
    "text,size,weight\n",
    "}\n",
    "input.choiceset\n",
    "{\n",
    "text,size,weight\n",
    "}\n",
    "textblock\n",
    "{\n",
    "text,size,weight\n",
    "}\n",
    "input.toggle\n",
    "{\n",
    "text,size,weight\n",
    "}\n",
    "input.toggle\n",
    "{\n",
    "text,size,weight\n",
    "}\n",
    "\"\"\""
   ]
  },
  {
   "cell_type": "code",
   "execution_count": 20,
   "metadata": {},
   "outputs": [],
   "source": [
    "predicted_json = \"\"\"textblock\n",
    "text,size,weight\n",
    "input.text\n",
    "{\n",
    "text,size,weight\n",
    "}\n",
    "input.text\n",
    "{\n",
    "text,size,weight\n",
    "}\n",
    "input.text\n",
    "{\n",
    "text,size,weight\n",
    "}\n",
    "input.text\n",
    "{\n",
    "text,size,weight\n",
    "}\n",
    "input.text\n",
    "{\n",
    "text,size,weight\n",
    "}\n",
    "input.number\n",
    "{\n",
    "text,size,weight\n",
    "}\n",
    "input.date\n",
    "{\n",
    "text,size,weight\n",
    "}\n",
    "input.time\n",
    "{\n",
    "text,size,weight\n",
    "}\n",
    "textblock\n",
    "{\n",
    "text,size,weight\n",
    "}\n",
    "textblock\n",
    "{\n",
    "text,size,weight\n",
    "}\n",
    "input.choiceset\n",
    "{\n",
    "text,size,weight\n",
    "}\n",
    "textblock\n",
    "{\n",
    "text,size,weight\n",
    "}\n",
    "input.choiceset\n",
    "{\n",
    "text,size,weight\n",
    "}\n",
    "textblock\n",
    "{\n",
    "text,size,weight\n",
    "}\n",
    "input.choiceset\n",
    "{\n",
    "text,size,weight\n",
    "}\n",
    "textblock\n",
    "{\n",
    "text,size,weight\n",
    "}\n",
    "input.toggle\n",
    "{\n",
    "text,size,weight\n",
    "}\n",
    "input.toggle\n",
    "{\n",
    "text,size,weight\n",
    "}\n",
    "\"\"\""
   ]
  },
  {
   "cell_type": "code",
   "execution_count": null,
   "metadata": {},
   "outputs": [],
   "source": []
  },
  {
   "cell_type": "code",
   "execution_count": null,
   "metadata": {},
   "outputs": [],
   "source": []
  },
  {
   "cell_type": "code",
   "execution_count": 28,
   "metadata": {},
   "outputs": [],
   "source": [
    "import numpy as np"
   ]
  },
  {
   "cell_type": "code",
   "execution_count": 36,
   "metadata": {},
   "outputs": [],
   "source": [
    "actual_text = actual_json.split(\"\\n\")\n",
    "predicted_text = predicted_json.split(\"\\n\")"
   ]
  },
  {
   "cell_type": "code",
   "execution_count": 37,
   "metadata": {},
   "outputs": [
    {
     "data": {
      "text/plain": [
       "['textblock',\n",
       " '{',\n",
       " 'text,size,weight',\n",
       " '}',\n",
       " 'input.text',\n",
       " '{',\n",
       " 'text,size,weight',\n",
       " '}',\n",
       " 'input.text',\n",
       " '{',\n",
       " 'text,size,weight',\n",
       " '}',\n",
       " 'input.text',\n",
       " '{',\n",
       " 'text,size,weight',\n",
       " '}',\n",
       " 'input.text',\n",
       " '{',\n",
       " 'text,size,weight',\n",
       " '}',\n",
       " 'input.text',\n",
       " '{',\n",
       " 'text,size,weight',\n",
       " '}',\n",
       " 'input.number',\n",
       " '{',\n",
       " 'text,size,weight',\n",
       " '}',\n",
       " 'input.date',\n",
       " '{',\n",
       " 'text,size,weight',\n",
       " '}',\n",
       " 'input.time',\n",
       " '{',\n",
       " 'text,size,weight',\n",
       " '}',\n",
       " 'textblock',\n",
       " '{',\n",
       " 'text,size,weight',\n",
       " '}',\n",
       " 'textblock',\n",
       " '{',\n",
       " 'text,size,weight',\n",
       " '}',\n",
       " 'input.choiceset',\n",
       " '{',\n",
       " 'text,size,weight',\n",
       " '}',\n",
       " 'textblock',\n",
       " '{',\n",
       " 'text,size,weight',\n",
       " '}',\n",
       " 'input.choiceset',\n",
       " '{',\n",
       " 'text,size,weight',\n",
       " '}',\n",
       " 'textblock',\n",
       " '{',\n",
       " 'text,size,weight',\n",
       " '}',\n",
       " 'input.choiceset',\n",
       " '{',\n",
       " 'text,size,weight',\n",
       " '}',\n",
       " 'textblock',\n",
       " '{',\n",
       " 'text,size,weight',\n",
       " '}',\n",
       " 'input.toggle',\n",
       " '{',\n",
       " 'text,size,weight',\n",
       " '}',\n",
       " 'input.toggle',\n",
       " '{',\n",
       " 'text,size,weight',\n",
       " '}',\n",
       " '']"
      ]
     },
     "execution_count": 37,
     "metadata": {},
     "output_type": "execute_result"
    }
   ],
   "source": [
    "actual_text"
   ]
  },
  {
   "cell_type": "code",
   "execution_count": 33,
   "metadata": {},
   "outputs": [
    {
     "data": {
      "text/plain": [
       "[['textblock',\n",
       "  'text,size,weight',\n",
       "  'input.text',\n",
       "  '{',\n",
       "  'text,size,weight',\n",
       "  '}',\n",
       "  'input.text',\n",
       "  '{',\n",
       "  'text,size,weight',\n",
       "  '}',\n",
       "  'input.text',\n",
       "  '{',\n",
       "  'text,size,weight',\n",
       "  '}',\n",
       "  'input.text',\n",
       "  '{',\n",
       "  'text,size,weight',\n",
       "  '}',\n",
       "  'input.text',\n",
       "  '{',\n",
       "  'text,size,weight',\n",
       "  '}',\n",
       "  'input.number',\n",
       "  '{',\n",
       "  'text,size,weight',\n",
       "  '}',\n",
       "  'input.date',\n",
       "  '{',\n",
       "  'text,size,weight',\n",
       "  '}',\n",
       "  'input.time',\n",
       "  '{',\n",
       "  'text,size,weight',\n",
       "  '}',\n",
       "  'textblock',\n",
       "  '{',\n",
       "  'text,size,weight',\n",
       "  '}',\n",
       "  'textblock',\n",
       "  '{',\n",
       "  'text,size,weight',\n",
       "  '}',\n",
       "  'input.choiceset',\n",
       "  '{',\n",
       "  'text,size,weight',\n",
       "  '}',\n",
       "  'textblock',\n",
       "  '{',\n",
       "  'text,size,weight',\n",
       "  '}',\n",
       "  'input.choiceset',\n",
       "  '{',\n",
       "  'text,size,weight',\n",
       "  '}',\n",
       "  'textblock',\n",
       "  '{',\n",
       "  'text,size,weight',\n",
       "  '}',\n",
       "  'input.choiceset',\n",
       "  '{',\n",
       "  'text,size,weight',\n",
       "  '}',\n",
       "  'textblock',\n",
       "  '{',\n",
       "  'text,size,weight',\n",
       "  '}',\n",
       "  'input.toggle',\n",
       "  '{',\n",
       "  'text,size,weight',\n",
       "  '}',\n",
       "  'input.toggle',\n",
       "  '{',\n",
       "  'text,size,weight',\n",
       "  '}',\n",
       "  '']]"
      ]
     },
     "execution_count": 33,
     "metadata": {},
     "output_type": "execute_result"
    }
   ],
   "source": [
    "[predicted_text]"
   ]
  },
  {
   "cell_type": "code",
   "execution_count": 38,
   "metadata": {},
   "outputs": [
    {
     "name": "stderr",
     "output_type": "stream",
     "text": [
      "/home/nandagopal/PycharmProjects/data-science-class/venv/lib/python3.6/site-packages/nltk/translate/bleu_score.py:523: UserWarning: \n",
      "The hypothesis contains 0 counts of 2-gram overlaps.\n",
      "Therefore the BLEU score evaluates to 0, independently of\n",
      "how many N-gram overlaps of lower order it contains.\n",
      "Consider using lower n-gram order or use SmoothingFunction()\n",
      "  warnings.warn(_msg)\n",
      "/home/nandagopal/PycharmProjects/data-science-class/venv/lib/python3.6/site-packages/nltk/translate/bleu_score.py:523: UserWarning: \n",
      "The hypothesis contains 0 counts of 3-gram overlaps.\n",
      "Therefore the BLEU score evaluates to 0, independently of\n",
      "how many N-gram overlaps of lower order it contains.\n",
      "Consider using lower n-gram order or use SmoothingFunction()\n",
      "  warnings.warn(_msg)\n",
      "/home/nandagopal/PycharmProjects/data-science-class/venv/lib/python3.6/site-packages/nltk/translate/bleu_score.py:523: UserWarning: \n",
      "The hypothesis contains 0 counts of 4-gram overlaps.\n",
      "Therefore the BLEU score evaluates to 0, independently of\n",
      "how many N-gram overlaps of lower order it contains.\n",
      "Consider using lower n-gram order or use SmoothingFunction()\n",
      "  warnings.warn(_msg)\n"
     ]
    },
    {
     "data": {
      "text/plain": [
       "7.362079563180394e-232"
      ]
     },
     "execution_count": 38,
     "metadata": {},
     "output_type": "execute_result"
    }
   ],
   "source": [
    "sentence_bleu(acutal_text, predicted_text)"
   ]
  },
  {
   "cell_type": "code",
   "execution_count": 42,
   "metadata": {},
   "outputs": [],
   "source": [
    "X = [[1, 0, 0], \n",
    "    [0, 1, 0], \n",
    "    [0, 0, 1]]\n",
    "\n",
    "actual = np.array([[0, 0, 1]])\n",
    "\n",
    "predicted = [[0, 1, 0]]"
   ]
  },
  {
   "cell_type": "code",
   "execution_count": 43,
   "metadata": {},
   "outputs": [
    {
     "name": "stdout",
     "output_type": "stream",
     "text": [
      "[[0, 1, 0]]\n"
     ]
    },
    {
     "data": {
      "text/plain": [
       "array([[0, 0, 1]])"
      ]
     },
     "execution_count": 43,
     "metadata": {},
     "output_type": "execute_result"
    }
   ],
   "source": [
    "print(predicted)\n",
    "actual "
   ]
  },
  {
   "cell_type": "code",
   "execution_count": 49,
   "metadata": {},
   "outputs": [
    {
     "data": {
      "text/plain": [
       "2"
      ]
     },
     "execution_count": 49,
     "metadata": {},
     "output_type": "execute_result"
    }
   ],
   "source": [
    "np.argmax([[0, 1, 2]])"
   ]
  },
  {
   "cell_type": "code",
   "execution_count": null,
   "metadata": {},
   "outputs": [],
   "source": []
  },
  {
   "cell_type": "code",
   "execution_count": 44,
   "metadata": {},
   "outputs": [],
   "source": [
    "from sklearn.metrics import confusion_matrix"
   ]
  },
  {
   "cell_type": "code",
   "execution_count": 60,
   "metadata": {},
   "outputs": [],
   "source": [
    "actual = [['head'], ['title'], ['body'], ['body']]\n",
    "predicted = [['head'], ['body'], ['body'], ['body']]\n"
   ]
  },
  {
   "cell_type": "code",
   "execution_count": 61,
   "metadata": {},
   "outputs": [
    {
     "data": {
      "text/plain": [
       "array([[2, 0, 0],\n",
       "       [0, 1, 0],\n",
       "       [1, 0, 0]])"
      ]
     },
     "execution_count": 61,
     "metadata": {},
     "output_type": "execute_result"
    }
   ],
   "source": [
    "confusion_matrix(actual, predicted)\n"
   ]
  },
  {
   "cell_type": "code",
   "execution_count": null,
   "metadata": {},
   "outputs": [],
   "source": []
  },
  {
   "cell_type": "code",
   "execution_count": null,
   "metadata": {},
   "outputs": [],
   "source": []
  },
  {
   "cell_type": "code",
   "execution_count": 45,
   "metadata": {},
   "outputs": [
    {
     "ename": "ValueError",
     "evalue": "Classification metrics can't handle a mix of multilabel-indicator and multiclass-multioutput targets",
     "output_type": "error",
     "traceback": [
      "\u001b[0;31m---------------------------------------------------------------------------\u001b[0m",
      "\u001b[0;31mValueError\u001b[0m                                Traceback (most recent call last)",
      "\u001b[0;32m<ipython-input-45-1e4fd65bfdf1>\u001b[0m in \u001b[0;36m<module>\u001b[0;34m\u001b[0m\n\u001b[0;32m----> 1\u001b[0;31m \u001b[0mscore\u001b[0m \u001b[0;34m=\u001b[0m \u001b[0mconfusion_matrix\u001b[0m\u001b[0;34m(\u001b[0m\u001b[0mactual\u001b[0m\u001b[0;34m,\u001b[0m \u001b[0mpredicted\u001b[0m\u001b[0;34m)\u001b[0m\u001b[0;34m\u001b[0m\u001b[0;34m\u001b[0m\u001b[0m\n\u001b[0m",
      "\u001b[0;32m~/PycharmProjects/data-science-class/venv/lib/python3.6/site-packages/sklearn/metrics/classification.py\u001b[0m in \u001b[0;36mconfusion_matrix\u001b[0;34m(y_true, y_pred, labels, sample_weight)\u001b[0m\n\u001b[1;32m    251\u001b[0m \u001b[0;34m\u001b[0m\u001b[0m\n\u001b[1;32m    252\u001b[0m     \"\"\"\n\u001b[0;32m--> 253\u001b[0;31m     \u001b[0my_type\u001b[0m\u001b[0;34m,\u001b[0m \u001b[0my_true\u001b[0m\u001b[0;34m,\u001b[0m \u001b[0my_pred\u001b[0m \u001b[0;34m=\u001b[0m \u001b[0m_check_targets\u001b[0m\u001b[0;34m(\u001b[0m\u001b[0my_true\u001b[0m\u001b[0;34m,\u001b[0m \u001b[0my_pred\u001b[0m\u001b[0;34m)\u001b[0m\u001b[0;34m\u001b[0m\u001b[0;34m\u001b[0m\u001b[0m\n\u001b[0m\u001b[1;32m    254\u001b[0m     \u001b[0;32mif\u001b[0m \u001b[0my_type\u001b[0m \u001b[0;32mnot\u001b[0m \u001b[0;32min\u001b[0m \u001b[0;34m(\u001b[0m\u001b[0;34m\"binary\"\u001b[0m\u001b[0;34m,\u001b[0m \u001b[0;34m\"multiclass\"\u001b[0m\u001b[0;34m)\u001b[0m\u001b[0;34m:\u001b[0m\u001b[0;34m\u001b[0m\u001b[0;34m\u001b[0m\u001b[0m\n\u001b[1;32m    255\u001b[0m         \u001b[0;32mraise\u001b[0m \u001b[0mValueError\u001b[0m\u001b[0;34m(\u001b[0m\u001b[0;34m\"%s is not supported\"\u001b[0m \u001b[0;34m%\u001b[0m \u001b[0my_type\u001b[0m\u001b[0;34m)\u001b[0m\u001b[0;34m\u001b[0m\u001b[0;34m\u001b[0m\u001b[0m\n",
      "\u001b[0;32m~/PycharmProjects/data-science-class/venv/lib/python3.6/site-packages/sklearn/metrics/classification.py\u001b[0m in \u001b[0;36m_check_targets\u001b[0;34m(y_true, y_pred)\u001b[0m\n\u001b[1;32m     79\u001b[0m     \u001b[0;32mif\u001b[0m \u001b[0mlen\u001b[0m\u001b[0;34m(\u001b[0m\u001b[0my_type\u001b[0m\u001b[0;34m)\u001b[0m \u001b[0;34m>\u001b[0m \u001b[0;36m1\u001b[0m\u001b[0;34m:\u001b[0m\u001b[0;34m\u001b[0m\u001b[0;34m\u001b[0m\u001b[0m\n\u001b[1;32m     80\u001b[0m         raise ValueError(\"Classification metrics can't handle a mix of {0} \"\n\u001b[0;32m---> 81\u001b[0;31m                          \"and {1} targets\".format(type_true, type_pred))\n\u001b[0m\u001b[1;32m     82\u001b[0m \u001b[0;34m\u001b[0m\u001b[0m\n\u001b[1;32m     83\u001b[0m     \u001b[0;31m# We can't have more than one value on y_type => The set is no more needed\u001b[0m\u001b[0;34m\u001b[0m\u001b[0;34m\u001b[0m\u001b[0;34m\u001b[0m\u001b[0m\n",
      "\u001b[0;31mValueError\u001b[0m: Classification metrics can't handle a mix of multilabel-indicator and multiclass-multioutput targets"
     ]
    }
   ],
   "source": [
    "score = confusion_matrix(actual, predicted)"
   ]
  },
  {
   "cell_type": "code",
   "execution_count": null,
   "metadata": {},
   "outputs": [],
   "source": []
  }
 ],
 "metadata": {
  "kernelspec": {
   "display_name": "Python 3",
   "language": "python",
   "name": "python3"
  },
  "language_info": {
   "codemirror_mode": {
    "name": "ipython",
    "version": 3
   },
   "file_extension": ".py",
   "mimetype": "text/x-python",
   "name": "python",
   "nbconvert_exporter": "python",
   "pygments_lexer": "ipython3",
   "version": "3.6.8"
  }
 },
 "nbformat": 4,
 "nbformat_minor": 2
}
