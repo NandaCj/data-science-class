{
 "cells": [
  {
   "cell_type": "markdown",
   "metadata": {},
   "source": [
    "# Decision Tree \n",
    "\n",
    "[Medium Blog Explanation](https://medium.com/greyatom/decision-trees-a-simple-way-to-visualize-a-decision-dc506a403aeb"
   ]
  },
  {
   "cell_type": "code",
   "execution_count": 21,
   "metadata": {},
   "outputs": [],
   "source": [
    "%matplotlib inline \n",
    "import pandas as pd \n",
    "import numpy as np\n",
    "from math import sqrt\n",
    "\n",
    "# Visualization Modules\n",
    "import matplotlib\n",
    "from matplotlib import pyplot as plt\n",
    "import seaborn as sns\n",
    "\n",
    "#Scipy Maths Models\n",
    "import statsmodels.api as sm\n",
    "from scipy import stats\n",
    "\n",
    "# Machine Learning Training Modules\n",
    "from sklearn.linear_model import LinearRegression\n",
    "from sklearn.neighbors import KNeighborsRegressor\n",
    "from sklearn.tree import DecisionTreeRegressor\n",
    "\n",
    "# Model Evaluation Metrics\n",
    "from sklearn.metrics import mean_squared_error as mse\n",
    "from sklearn.metrics import r2_score\n",
    "\n",
    "# Model Selection and Validation Methods\n",
    "from sklearn.model_selection import train_test_split\n",
    "from sklearn.model_selection import cross_val_score\n",
    "from sklearn.model_selection import StratifiedKFold, ShuffleSplit\n",
    "\n",
    "\n",
    "#Visualization Tricks for Decision Tree Splits\n",
    "from sklearn.tree import plot_tree"
   ]
  },
  {
   "cell_type": "code",
   "execution_count": 22,
   "metadata": {},
   "outputs": [
    {
     "name": "stdout",
     "output_type": "stream",
     "text": [
      "Predicted : [4.]\n"
     ]
    }
   ],
   "source": [
    "dt_reg = DecisionTreeRegressor()\n",
    "\n",
    "Data = {'X' : [1,2,3,4,5,6],\n",
    "        'Y' : [2,4,6,8,10,12]}\n",
    "\n",
    "df = pd.DataFrame(Data)\n",
    "dt_reg.fit(X = df.X.values.reshape(-1,1), y =df.Y.values.reshape(-1,1))\n",
    "pred_val = dt_reg.predict([[2]])\n",
    "\n",
    "print(\"Predicted : {}\".format(pred_val))"
   ]
  },
  {
   "cell_type": "markdown",
   "metadata": {},
   "source": [
    "# Decision Tree Split Visualization \n",
    "    -Reduction in variance is an algorithm used for continuous target variables (regression problems). \n",
    "    -This algorithm uses the standard formula of variance to choose the best split.\n",
    "    -The split with lower variance is selected as the criteria to split the population:"
   ]
  },
  {
   "cell_type": "code",
   "execution_count": 23,
   "metadata": {},
   "outputs": [
    {
     "data": {
      "text/plain": [
       "[Text(148.8, 190.26, 'X[0] <= 3.5\\nmse = 11.667\\nsamples = 6\\nvalue = 7.0'),\n",
       " Text(74.4, 135.9, 'X[0] <= 1.5\\nmse = 2.667\\nsamples = 3\\nvalue = 4.0'),\n",
       " Text(37.2, 81.53999999999999, 'mse = 0.0\\nsamples = 1\\nvalue = 2.0'),\n",
       " Text(111.60000000000001, 81.53999999999999, 'X[0] <= 2.5\\nmse = 1.0\\nsamples = 2\\nvalue = 5.0'),\n",
       " Text(74.4, 27.180000000000007, 'mse = 0.0\\nsamples = 1\\nvalue = 4.0'),\n",
       " Text(148.8, 27.180000000000007, 'mse = 0.0\\nsamples = 1\\nvalue = 6.0'),\n",
       " Text(223.20000000000002, 135.9, 'X[0] <= 4.5\\nmse = 2.667\\nsamples = 3\\nvalue = 10.0'),\n",
       " Text(186.0, 81.53999999999999, 'mse = 0.0\\nsamples = 1\\nvalue = 8.0'),\n",
       " Text(260.40000000000003, 81.53999999999999, 'X[0] <= 5.5\\nmse = 1.0\\nsamples = 2\\nvalue = 11.0'),\n",
       " Text(223.20000000000002, 27.180000000000007, 'mse = 0.0\\nsamples = 1\\nvalue = 10.0'),\n",
       " Text(297.6, 27.180000000000007, 'mse = 0.0\\nsamples = 1\\nvalue = 12.0')]"
      ]
     },
     "execution_count": 23,
     "metadata": {},
     "output_type": "execute_result"
    },
    {
     "data": {
      "image/png": "[encoded data removed]",
      "text/plain": [
       "<Figure size 432x288 with 1 Axes>"
      ]
     },
     "metadata": {
      "needs_background": "light"
     },
     "output_type": "display_data"
    }
   ],
   "source": [
    "plot_tree(dt_reg) "
   ]
  },
  {
   "cell_type": "code",
   "execution_count": 24,
   "metadata": {},
   "outputs": [
    {
     "data": {
      "text/plain": [
       "array([10.])"
      ]
     },
     "execution_count": 24,
     "metadata": {},
     "output_type": "execute_result"
    }
   ],
   "source": [
    "dt_reg.predict([[4.6]])"
   ]
  },
  {
   "cell_type": "code",
   "execution_count": null,
   "metadata": {},
   "outputs": [],
   "source": []
  }
 ],
 "metadata": {
  "kernelspec": {
   "display_name": "Python 3",
   "language": "python",
   "name": "python3"
  },
  "language_info": {
   "codemirror_mode": {
    "name": "ipython",
    "version": 3
   },
   "file_extension": ".py",
   "mimetype": "text/x-python",
   "name": "python",
   "nbconvert_exporter": "python",
   "pygments_lexer": "ipython3",
   "version": "3.6.8"
  }
 },
 "nbformat": 4,
 "nbformat_minor": 2
}
