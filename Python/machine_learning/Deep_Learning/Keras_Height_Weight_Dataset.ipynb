{
 "cells": [
  {
   "cell_type": "code",
   "execution_count": 1,
   "metadata": {},
   "outputs": [],
   "source": [
    "%matplotlib inline\n",
    "import pandas as pd\n",
    "import numpy as np\n",
    "import matplotlib\n",
    "from matplotlib import pyplot as plt\n",
    "\n",
    "import tensorflow as tf\n",
    "from tensorflow.keras.layers import Input, Dense\n",
    "from tensorflow.keras import Sequential, callbacks\n",
    "from tensorflow.train import AdamOptimizer\n",
    "from tensorflow.data import Dataset\n"
   ]
  },
  {
   "cell_type": "code",
   "execution_count": 2,
   "metadata": {},
   "outputs": [
    {
     "data": {
      "text/plain": [
       "(10000,)"
      ]
     },
     "execution_count": 2,
     "metadata": {},
     "output_type": "execute_result"
    }
   ],
   "source": [
    "df = pd.read_csv('weight-height.csv')\n",
    "x = df['Height']\n",
    "y = df['Weight']\n",
    "\n",
    "# dataset = Dataset.from_tensor_slices((x,y))\n",
    "\n",
    "x.shape"
   ]
  },
  {
   "cell_type": "code",
   "execution_count": 3,
   "metadata": {},
   "outputs": [],
   "source": [
    "adam = AdamOptimizer(learning_rate=0.00001)"
   ]
  },
  {
   "cell_type": "code",
   "execution_count": 4,
   "metadata": {},
   "outputs": [
    {
     "name": "stderr",
     "output_type": "stream",
     "text": [
      "WARNING: Logging before flag parsing goes to stderr.\n",
      "W0921 13:56:25.965707 139697711560512 deprecation.py:506] From /home/nandagopal/PycharmProjects/data-science-class/venv/lib/python3.6/site-packages/tensorflow/python/ops/init_ops.py:1251: calling VarianceScaling.__init__ (from tensorflow.python.ops.init_ops) with dtype is deprecated and will be removed in a future version.\n",
      "Instructions for updating:\n",
      "Call initializer instance with the dtype argument instead of passing it to the constructor\n"
     ]
    },
    {
     "name": "stdout",
     "output_type": "stream",
     "text": [
      "Model: \"sequential\"\n",
      "_________________________________________________________________\n",
      "Layer (type)                 Output Shape              Param #   \n",
      "=================================================================\n",
      "dense (Dense)                (None, 10)                20        \n",
      "_________________________________________________________________\n",
      "dense_1 (Dense)              (None, 10)                110       \n",
      "_________________________________________________________________\n",
      "dense_2 (Dense)              (None, 1)                 11        \n",
      "=================================================================\n",
      "Total params: 141\n",
      "Trainable params: 141\n",
      "Non-trainable params: 0\n",
      "_________________________________________________________________\n"
     ]
    }
   ],
   "source": [
    "Model = Sequential()\n",
    "\n",
    "Model.add(Dense(10, input_shape=(1,), activation='linear'))\n",
    "Model.add(Dense(10, activation='linear'))\n",
    "Model.add(Dense(1, activation='linear'))\n",
    "Model.compile(adam, loss='mean_squared_error', metrics=['accuracy'])\n",
    "\n",
    "Model.summary()"
   ]
  },
  {
   "cell_type": "code",
   "execution_count": 5,
   "metadata": {},
   "outputs": [],
   "source": [
    "es = callbacks.EarlyStopping(monitor='loss',min_delta=0.5, mode='min' , patience=10)"
   ]
  },
  {
   "cell_type": "code",
   "execution_count": 6,
   "metadata": {},
   "outputs": [
    {
     "name": "stdout",
     "output_type": "stream",
     "text": [
      "Epoch 1/10000\n",
      "10000/10000 [==============================] - 0s 26us/sample - loss: 19402.1951 - acc: 0.0000e+00\n",
      "Epoch 2/10000\n",
      "10000/10000 [==============================] - 0s 14us/sample - loss: 19098.7721 - acc: 0.0000e+00\n",
      "Epoch 3/10000\n",
      "10000/10000 [==============================] - 0s 11us/sample - loss: 18798.5579 - acc: 0.0000e+00\n",
      "Epoch 4/10000\n",
      "10000/10000 [==============================] - 0s 11us/sample - loss: 18501.1516 - acc: 0.0000e+00\n",
      "Epoch 5/10000\n",
      "10000/10000 [==============================] - 0s 10us/sample - loss: 18206.4754 - acc: 0.0000e+00\n",
      "Epoch 6/10000\n",
      "10000/10000 [==============================] - 0s 11us/sample - loss: 17914.3459 - acc: 0.0000e+00\n",
      "Epoch 7/10000\n",
      "10000/10000 [==============================] - 0s 11us/sample - loss: 17624.9196 - acc: 0.0000e+00\n",
      "Epoch 8/10000\n",
      "10000/10000 [==============================] - 0s 10us/sample - loss: 17337.9882 - acc: 0.0000e+00\n",
      "Epoch 9/10000\n",
      "10000/10000 [==============================] - 0s 12us/sample - loss: 17053.4865 - acc: 0.0000e+00\n",
      "Epoch 10/10000\n",
      "10000/10000 [==============================] - 0s 11us/sample - loss: 16771.3700 - acc: 0.0000e+00\n",
      "Epoch 11/10000\n",
      "10000/10000 [==============================] - 0s 11us/sample - loss: 16491.4009 - acc: 0.0000e+00\n",
      "Epoch 12/10000\n",
      "10000/10000 [==============================] - 0s 9us/sample - loss: 16213.7134 - acc: 0.0000e+00\n",
      "Epoch 13/10000\n",
      "10000/10000 [==============================] - 0s 10us/sample - loss: 15937.9385 - acc: 0.0000e+00\n",
      "Epoch 14/10000\n",
      "10000/10000 [==============================] - 0s 13us/sample - loss: 15664.3202 - acc: 0.0000e+00\n",
      "Epoch 15/10000\n",
      "10000/10000 [==============================] - 0s 11us/sample - loss: 15392.5470 - acc: 0.0000e+00\n",
      "Epoch 16/10000\n",
      "10000/10000 [==============================] - 0s 10us/sample - loss: 15122.7658 - acc: 0.0000e+00\n",
      "Epoch 17/10000\n",
      "10000/10000 [==============================] - 0s 11us/sample - loss: 14854.7093 - acc: 0.0000e+00\n",
      "Epoch 18/10000\n",
      "10000/10000 [==============================] - 0s 13us/sample - loss: 14588.6166 - acc: 0.0000e+00\n",
      "Epoch 19/10000\n",
      "10000/10000 [==============================] - 0s 11us/sample - loss: 14324.2871 - acc: 0.0000e+00\n",
      "Epoch 20/10000\n",
      "10000/10000 [==============================] - 0s 10us/sample - loss: 14061.8823 - acc: 0.0000e+00\n",
      "Epoch 21/10000\n",
      "10000/10000 [==============================] - 0s 9us/sample - loss: 13801.2739 - acc: 0.0000e+00\n",
      "Epoch 22/10000\n",
      "10000/10000 [==============================] - 0s 11us/sample - loss: 13542.4308 - acc: 0.0000e+00\n",
      "Epoch 23/10000\n",
      "10000/10000 [==============================] - 0s 10us/sample - loss: 13285.4848 - acc: 0.0000e+00\n",
      "Epoch 24/10000\n",
      "10000/10000 [==============================] - 0s 9us/sample - loss: 13030.3115 - acc: 0.0000e+00\n",
      "Epoch 25/10000\n",
      "10000/10000 [==============================] - 0s 9us/sample - loss: 12777.0978 - acc: 0.0000e+00\n",
      "Epoch 26/10000\n",
      "10000/10000 [==============================] - 0s 9us/sample - loss: 12525.7273 - acc: 0.0000e+00\n",
      "Epoch 27/10000\n",
      "10000/10000 [==============================] - 0s 9us/sample - loss: 12276.2840 - acc: 0.0000e+00\n",
      "Epoch 28/10000\n",
      "10000/10000 [==============================] - 0s 9us/sample - loss: 12028.7647 - acc: 0.0000e+00\n",
      "Epoch 29/10000\n",
      "10000/10000 [==============================] - 0s 8us/sample - loss: 11783.2558 - acc: 0.0000e+00\n",
      "Epoch 30/10000\n",
      "10000/10000 [==============================] - 0s 12us/sample - loss: 11539.6636 - acc: 0.0000e+00\n",
      "Epoch 31/10000\n",
      "10000/10000 [==============================] - 0s 12us/sample - loss: 11298.1405 - acc: 0.0000e+00\n",
      "Epoch 32/10000\n",
      "10000/10000 [==============================] - 0s 10us/sample - loss: 11058.6562 - acc: 0.0000e+00\n",
      "Epoch 33/10000\n",
      "10000/10000 [==============================] - 0s 9us/sample - loss: 10821.1325 - acc: 0.0000e+00\n",
      "Epoch 34/10000\n",
      "10000/10000 [==============================] - 0s 9us/sample - loss: 10585.7217 - acc: 0.0000e+00\n",
      "Epoch 35/10000\n",
      "10000/10000 [==============================] - 0s 8us/sample - loss: 10352.4047 - acc: 0.0000e+00\n",
      "Epoch 36/10000\n",
      "10000/10000 [==============================] - 0s 9us/sample - loss: 10121.1490 - acc: 0.0000e+00\n",
      "Epoch 37/10000\n",
      "10000/10000 [==============================] - 0s 8us/sample - loss: 9892.0214 - acc: 0.0000e+00\n",
      "Epoch 38/10000\n",
      "10000/10000 [==============================] - 0s 9us/sample - loss: 9664.9786 - acc: 0.0000e+00\n",
      "Epoch 39/10000\n",
      "10000/10000 [==============================] - 0s 8us/sample - loss: 9440.0277 - acc: 0.0000e+00\n",
      "Epoch 40/10000\n",
      "10000/10000 [==============================] - 0s 8us/sample - loss: 9217.2765 - acc: 0.0000e+00\n",
      "Epoch 41/10000\n",
      "10000/10000 [==============================] - 0s 8us/sample - loss: 8996.6153 - acc: 0.0000e+00\n",
      "Epoch 42/10000\n",
      "10000/10000 [==============================] - 0s 9us/sample - loss: 8778.1098 - acc: 0.0000e+00\n",
      "Epoch 43/10000\n",
      "10000/10000 [==============================] - 0s 11us/sample - loss: 8561.7193 - acc: 0.0000e+00\n",
      "Epoch 44/10000\n",
      "10000/10000 [==============================] - 0s 13us/sample - loss: 8347.4982 - acc: 0.0000e+00\n",
      "Epoch 45/10000\n",
      "10000/10000 [==============================] - 0s 13us/sample - loss: 8135.4031 - acc: 0.0000e+00\n",
      "Epoch 46/10000\n",
      "10000/10000 [==============================] - 0s 10us/sample - loss: 7925.4857 - acc: 0.0000e+00\n",
      "Epoch 47/10000\n",
      "10000/10000 [==============================] - 0s 10us/sample - loss: 7717.7227 - acc: 0.0000e+00\n",
      "Epoch 48/10000\n",
      "10000/10000 [==============================] - 0s 10us/sample - loss: 7512.1492 - acc: 0.0000e+00\n",
      "Epoch 49/10000\n",
      "10000/10000 [==============================] - 0s 11us/sample - loss: 7308.7790 - acc: 0.0000e+00\n",
      "Epoch 50/10000\n",
      "10000/10000 [==============================] - 0s 11us/sample - loss: 7107.7009 - acc: 0.0000e+00\n",
      "Epoch 51/10000\n",
      "10000/10000 [==============================] - 0s 11us/sample - loss: 6908.8408 - acc: 0.0000e+00\n",
      "Epoch 52/10000\n",
      "10000/10000 [==============================] - 0s 13us/sample - loss: 6712.3813 - acc: 0.0000e+00\n",
      "Epoch 53/10000\n",
      "10000/10000 [==============================] - 0s 10us/sample - loss: 6518.1686 - acc: 0.0000e+00\n",
      "Epoch 54/10000\n",
      "10000/10000 [==============================] - 0s 11us/sample - loss: 6326.3978 - acc: 0.0000e+00\n",
      "Epoch 55/10000\n",
      "10000/10000 [==============================] - 0s 9us/sample - loss: 6137.1205 - acc: 0.0000e+00\n",
      "Epoch 56/10000\n",
      "10000/10000 [==============================] - 0s 9us/sample - loss: 5950.2511 - acc: 0.0000e+00\n",
      "Epoch 57/10000\n",
      "10000/10000 [==============================] - 0s 9us/sample - loss: 5765.9991 - acc: 0.0000e+00\n",
      "Epoch 58/10000\n",
      "10000/10000 [==============================] - 0s 9us/sample - loss: 5584.4190 - acc: 0.0000e+00\n",
      "Epoch 59/10000\n",
      "10000/10000 [==============================] - 0s 9us/sample - loss: 5405.4447 - acc: 0.0000e+00\n",
      "Epoch 60/10000\n",
      "10000/10000 [==============================] - 0s 11us/sample - loss: 5229.3529 - acc: 0.0000e+00\n",
      "Epoch 61/10000\n",
      "10000/10000 [==============================] - 0s 9us/sample - loss: 5056.0858 - acc: 0.0000e+00\n",
      "Epoch 62/10000\n",
      "10000/10000 [==============================] - 0s 9us/sample - loss: 4885.6650 - acc: 0.0000e+00\n",
      "Epoch 63/10000\n",
      "10000/10000 [==============================] - 0s 8us/sample - loss: 4718.2393 - acc: 0.0000e+00\n",
      "Epoch 64/10000\n",
      "10000/10000 [==============================] - 0s 11us/sample - loss: 4553.7567 - acc: 0.0000e+00\n",
      "Epoch 65/10000\n",
      "10000/10000 [==============================] - 0s 10us/sample - loss: 4392.3833 - acc: 0.0000e+00\n",
      "Epoch 66/10000\n",
      "10000/10000 [==============================] - 0s 9us/sample - loss: 4234.1487 - acc: 0.0000e+00\n",
      "Epoch 67/10000\n",
      "10000/10000 [==============================] - 0s 10us/sample - loss: 4078.9954 - acc: 0.0000e+00\n",
      "Epoch 68/10000\n",
      "10000/10000 [==============================] - 0s 9us/sample - loss: 3927.1635 - acc: 0.0000e+00\n",
      "Epoch 69/10000\n",
      "10000/10000 [==============================] - 0s 9us/sample - loss: 3778.4754 - acc: 0.0000e+00\n",
      "Epoch 70/10000\n",
      "10000/10000 [==============================] - 0s 10us/sample - loss: 3633.1376 - acc: 0.0000e+00\n",
      "Epoch 71/10000\n",
      "10000/10000 [==============================] - 0s 10us/sample - loss: 3491.1202 - acc: 0.0000e+00\n",
      "Epoch 72/10000\n",
      "10000/10000 [==============================] - 0s 11us/sample - loss: 3352.4488 - acc: 0.0000e+00\n",
      "Epoch 73/10000\n"
     ]
    },
    {
     "name": "stdout",
     "output_type": "stream",
     "text": [
      "10000/10000 [==============================] - 0s 9us/sample - loss: 3217.2514 - acc: 0.0000e+00\n",
      "Epoch 74/10000\n",
      "10000/10000 [==============================] - 0s 9us/sample - loss: 3085.4192 - acc: 0.0000e+00\n",
      "Epoch 75/10000\n",
      "10000/10000 [==============================] - 0s 9us/sample - loss: 2957.1417 - acc: 0.0000e+00\n",
      "Epoch 76/10000\n",
      "10000/10000 [==============================] - 0s 9us/sample - loss: 2832.3479 - acc: 0.0000e+00\n",
      "Epoch 77/10000\n",
      "10000/10000 [==============================] - 0s 9us/sample - loss: 2711.0555 - acc: 0.0000e+00\n",
      "Epoch 78/10000\n",
      "10000/10000 [==============================] - 0s 9us/sample - loss: 2593.3471 - acc: 0.0000e+00\n",
      "Epoch 79/10000\n",
      "10000/10000 [==============================] - 0s 9us/sample - loss: 2479.2177 - acc: 0.0000e+00\n",
      "Epoch 80/10000\n",
      "10000/10000 [==============================] - 0s 9us/sample - loss: 2368.6672 - acc: 0.0000e+00\n",
      "Epoch 81/10000\n",
      "10000/10000 [==============================] - 0s 9us/sample - loss: 2261.6882 - acc: 0.0000e+00\n",
      "Epoch 82/10000\n",
      "10000/10000 [==============================] - 0s 9us/sample - loss: 2158.3708 - acc: 0.0000e+00\n",
      "Epoch 83/10000\n",
      "10000/10000 [==============================] - 0s 9us/sample - loss: 2058.6555 - acc: 0.0000e+00\n",
      "Epoch 84/10000\n",
      "10000/10000 [==============================] - 0s 9us/sample - loss: 1962.6119 - acc: 0.0000e+00\n",
      "Epoch 85/10000\n",
      "10000/10000 [==============================] - 0s 9us/sample - loss: 1870.1330 - acc: 0.0000e+00\n",
      "Epoch 86/10000\n",
      "10000/10000 [==============================] - 0s 9us/sample - loss: 1781.3673 - acc: 0.0000e+00\n",
      "Epoch 87/10000\n",
      "10000/10000 [==============================] - 0s 10us/sample - loss: 1696.1810 - acc: 0.0000e+00\n",
      "Epoch 88/10000\n",
      "10000/10000 [==============================] - 0s 12us/sample - loss: 1614.6125 - acc: 0.0000e+00\n",
      "Epoch 89/10000\n",
      "10000/10000 [==============================] - 0s 10us/sample - loss: 1536.6642 - acc: 0.0000e+00\n",
      "Epoch 90/10000\n",
      "10000/10000 [==============================] - 0s 9us/sample - loss: 1462.2322 - acc: 0.0000e+00\n",
      "Epoch 91/10000\n",
      "10000/10000 [==============================] - 0s 9us/sample - loss: 1391.3927 - acc: 0.0000e+00\n",
      "Epoch 92/10000\n",
      "10000/10000 [==============================] - 0s 10us/sample - loss: 1324.0443 - acc: 0.0000e+00\n",
      "Epoch 93/10000\n",
      "10000/10000 [==============================] - 0s 11us/sample - loss: 1260.1913 - acc: 0.0000e+00\n",
      "Epoch 94/10000\n",
      "10000/10000 [==============================] - 0s 9us/sample - loss: 1199.7550 - acc: 0.0000e+00\n",
      "Epoch 95/10000\n",
      "10000/10000 [==============================] - 0s 12us/sample - loss: 1142.7581 - acc: 0.0000e+00\n",
      "Epoch 96/10000\n",
      "10000/10000 [==============================] - 0s 12us/sample - loss: 1089.0941 - acc: 0.0000e+00\n",
      "Epoch 97/10000\n",
      "10000/10000 [==============================] - 0s 9us/sample - loss: 1038.7341 - acc: 0.0000e+00\n",
      "Epoch 98/10000\n",
      "10000/10000 [==============================] - 0s 10us/sample - loss: 991.6147 - acc: 0.0000e+00\n",
      "Epoch 99/10000\n",
      "10000/10000 [==============================] - 0s 10us/sample - loss: 947.6628 - acc: 0.0000e+00\n",
      "Epoch 100/10000\n",
      "10000/10000 [==============================] - 0s 9us/sample - loss: 906.7265 - acc: 0.0000e+00\n",
      "Epoch 101/10000\n",
      "10000/10000 [==============================] - 0s 9us/sample - loss: 868.9004 - acc: 0.0000e+00\n",
      "Epoch 102/10000\n",
      "10000/10000 [==============================] - 0s 11us/sample - loss: 833.9045 - acc: 0.0000e+00\n",
      "Epoch 103/10000\n",
      "10000/10000 [==============================] - 0s 10us/sample - loss: 801.7888 - acc: 0.0000e+000s - loss: 795.0772 - acc: 0.0000e+0\n",
      "Epoch 104/10000\n",
      "10000/10000 [==============================] - 0s 9us/sample - loss: 772.3966 - acc: 0.0000e+00\n",
      "Epoch 105/10000\n",
      "10000/10000 [==============================] - 0s 9us/sample - loss: 745.6235 - acc: 0.0000e+00\n",
      "Epoch 106/10000\n",
      "10000/10000 [==============================] - 0s 10us/sample - loss: 721.3883 - acc: 0.0000e+00\n",
      "Epoch 107/10000\n",
      "10000/10000 [==============================] - 0s 9us/sample - loss: 699.4875 - acc: 0.0000e+00\n",
      "Epoch 108/10000\n",
      "10000/10000 [==============================] - 0s 9us/sample - loss: 679.8730 - acc: 0.0000e+00\n",
      "Epoch 109/10000\n",
      "10000/10000 [==============================] - 0s 9us/sample - loss: 662.4073 - acc: 0.0000e+00\n",
      "Epoch 110/10000\n",
      "10000/10000 [==============================] - 0s 10us/sample - loss: 646.9422 - acc: 0.0000e+00\n",
      "Epoch 111/10000\n",
      "10000/10000 [==============================] - 0s 9us/sample - loss: 633.3339 - acc: 0.0000e+00\n",
      "Epoch 112/10000\n",
      "10000/10000 [==============================] - 0s 8us/sample - loss: 621.4713 - acc: 0.0000e+00\n",
      "Epoch 113/10000\n",
      "10000/10000 [==============================] - 0s 8us/sample - loss: 611.2373 - acc: 0.0000e+00\n",
      "Epoch 114/10000\n",
      "10000/10000 [==============================] - 0s 11us/sample - loss: 602.4035 - acc: 0.0000e+00\n",
      "Epoch 115/10000\n",
      "10000/10000 [==============================] - 0s 12us/sample - loss: 594.9131 - acc: 0.0000e+00\n",
      "Epoch 116/10000\n",
      "10000/10000 [==============================] - 0s 11us/sample - loss: 588.6133 - acc: 0.0000e+00\n",
      "Epoch 117/10000\n",
      "10000/10000 [==============================] - 0s 9us/sample - loss: 583.3533 - acc: 0.0000e+00\n",
      "Epoch 118/10000\n",
      "10000/10000 [==============================] - 0s 9us/sample - loss: 579.0096 - acc: 0.0000e+00\n",
      "Epoch 119/10000\n",
      "10000/10000 [==============================] - 0s 8us/sample - loss: 575.4778 - acc: 0.0000e+00\n",
      "Epoch 120/10000\n",
      "10000/10000 [==============================] - 0s 9us/sample - loss: 572.6551 - acc: 0.0000e+00\n",
      "Epoch 121/10000\n",
      "10000/10000 [==============================] - 0s 10us/sample - loss: 570.3768 - acc: 0.0000e+00\n",
      "Epoch 122/10000\n",
      "10000/10000 [==============================] - 0s 8us/sample - loss: 568.6150 - acc: 0.0000e+00\n",
      "Epoch 123/10000\n",
      "10000/10000 [==============================] - 0s 9us/sample - loss: 567.2511 - acc: 0.0000e+00\n",
      "Epoch 124/10000\n",
      "10000/10000 [==============================] - 0s 8us/sample - loss: 566.2209 - acc: 0.0000e+00\n",
      "Epoch 125/10000\n",
      "10000/10000 [==============================] - 0s 11us/sample - loss: 565.4448 - acc: 0.0000e+00\n",
      "Epoch 126/10000\n",
      "10000/10000 [==============================] - 0s 8us/sample - loss: 564.8753 - acc: 0.0000e+00\n",
      "Epoch 127/10000\n",
      "10000/10000 [==============================] - 0s 8us/sample - loss: 564.4634 - acc: 0.0000e+00\n",
      "Epoch 128/10000\n",
      "10000/10000 [==============================] - 0s 9us/sample - loss: 564.1734 - acc: 0.0000e+00\n",
      "Epoch 129/10000\n",
      "10000/10000 [==============================] - 0s 9us/sample - loss: 563.9628 - acc: 0.0000e+00\n",
      "Epoch 130/10000\n",
      "10000/10000 [==============================] - 0s 11us/sample - loss: 563.8255 - acc: 0.0000e+00\n",
      "Epoch 131/10000\n",
      "10000/10000 [==============================] - 0s 9us/sample - loss: 563.7280 - acc: 0.0000e+00\n",
      "Epoch 132/10000\n",
      "10000/10000 [==============================] - 0s 9us/sample - loss: 563.6769 - acc: 0.0000e+00\n",
      "Epoch 133/10000\n",
      "10000/10000 [==============================] - 0s 9us/sample - loss: 563.6280 - acc: 0.0000e+00\n",
      "Epoch 134/10000\n",
      "10000/10000 [==============================] - 0s 10us/sample - loss: 563.6020 - acc: 0.0000e+00\n",
      "Epoch 135/10000\n",
      "10000/10000 [==============================] - 0s 11us/sample - loss: 563.5811 - acc: 0.0000e+00\n",
      "Epoch 136/10000\n",
      "10000/10000 [==============================] - 0s 10us/sample - loss: 563.5697 - acc: 0.0000e+00\n",
      "Epoch 137/10000\n",
      "10000/10000 [==============================] - 0s 9us/sample - loss: 563.5631 - acc: 0.0000e+00\n",
      "Epoch 138/10000\n",
      "10000/10000 [==============================] - 0s 9us/sample - loss: 563.5648 - acc: 0.0000e+00\n",
      "Epoch 139/10000\n",
      "10000/10000 [==============================] - 0s 11us/sample - loss: 563.5464 - acc: 0.0000e+00\n",
      "Epoch 140/10000\n",
      "10000/10000 [==============================] - 0s 9us/sample - loss: 563.5393 - acc: 0.0000e+00\n",
      "Epoch 141/10000\n",
      "10000/10000 [==============================] - 0s 8us/sample - loss: 563.5402 - acc: 0.0000e+00\n",
      "Epoch 142/10000\n",
      "10000/10000 [==============================] - 0s 9us/sample - loss: 563.5289 - acc: 0.0000e+00\n",
      "Epoch 143/10000\n",
      "10000/10000 [==============================] - 0s 10us/sample - loss: 563.5204 - acc: 0.0000e+00\n"
     ]
    },
    {
     "data": {
      "text/plain": [
       "<tensorflow.python.keras.callbacks.History at 0x7f0da95e4358>"
      ]
     },
     "execution_count": 6,
     "metadata": {},
     "output_type": "execute_result"
    }
   ],
   "source": [
    "Model.fit(x, y, epochs=10000, batch_size=100, callbacks=[es])"
   ]
  },
  {
   "cell_type": "code",
   "execution_count": 7,
   "metadata": {},
   "outputs": [
    {
     "data": {
      "text/plain": [
       "[array([[ 0.48139578,  0.48448187,  0.6536765 , -0.38347843,  0.35819137,\n",
       "          0.30562958,  0.20912838, -0.24669345,  0.68701535, -0.02482897]],\n",
       "       dtype=float32),\n",
       " array([ 0.10329785,  0.03596011,  0.09315413, -0.04778285,  0.08712114,\n",
       "         0.09914449,  0.1000681 , -0.0942376 ,  0.03650304,  0.07570873],\n",
       "       dtype=float32),\n",
       " array([[ 0.20961352, -0.12951964,  0.02848221,  0.6274246 ,  0.24722691,\n",
       "         -0.1755914 , -0.4670004 ,  0.62764597, -0.16571712, -0.19140461],\n",
       "        [ 0.111462  , -0.01266163,  0.17351668,  0.20997243, -0.2117302 ,\n",
       "          0.25950846, -0.02768478,  0.4943484 , -0.21110448,  0.3309775 ],\n",
       "        [-0.27345282, -0.3484537 , -0.2520352 , -0.09973338,  0.42515358,\n",
       "         -0.48401642, -0.51653636,  0.41991058, -0.5856813 ,  0.5097245 ],\n",
       "        [-0.34419197,  0.06437802,  0.6267084 ,  0.3302987 ,  0.11884344,\n",
       "          0.34934512,  0.10558034,  0.02727858,  0.249093  , -0.5145718 ],\n",
       "        [-0.2726382 ,  0.01088652, -0.5549793 , -0.01732344,  0.20984256,\n",
       "         -0.07151207, -0.4880926 , -0.06162659,  0.24875793, -0.09459042],\n",
       "        [ 0.3811998 , -0.13127752, -0.58553725,  0.5848713 ,  0.25855333,\n",
       "          0.12487343, -0.14912847,  0.35432473, -0.5848189 ,  0.34748057],\n",
       "        [ 0.04809668,  0.25271758, -0.23484012, -0.25350466, -0.4083432 ,\n",
       "          0.15435982, -0.5666571 ,  0.49627188, -0.44363192,  0.4685728 ],\n",
       "        [ 0.25814873,  0.3067107 ,  0.4360564 , -0.22081459,  0.37626916,\n",
       "          0.3148828 ,  0.06090132, -0.5134212 ,  0.58233714,  0.40907508],\n",
       "        [ 0.19976605, -0.12146236, -0.02252253,  0.55551296, -0.26058033,\n",
       "         -0.5988375 , -0.32295945,  0.062549  , -0.2647204 , -0.39099905],\n",
       "        [-0.37351784,  0.5947011 , -0.1203784 , -0.5904688 ,  0.43036366,\n",
       "          0.4396775 ,  0.11790831,  0.27539915, -0.39794794, -0.60674965]],\n",
       "       dtype=float32),\n",
       " array([-0.08764915, -0.09053207, -0.09170733,  0.10173694,  0.08662473,\n",
       "        -0.09395289, -0.09851072,  0.09076784, -0.09033053,  0.09796904],\n",
       "       dtype=float32),\n",
       " array([[-0.6013209 ],\n",
       "        [-0.61852723],\n",
       "        [-0.38287488],\n",
       "        [ 0.1288614 ],\n",
       "        [ 0.24747762],\n",
       "        [-0.22895756],\n",
       "        [-0.14915296],\n",
       "        [ 0.52829444],\n",
       "        [-0.6689465 ],\n",
       "        [ 0.17584112]], dtype=float32),\n",
       " array([0.08885883], dtype=float32)]"
      ]
     },
     "execution_count": 7,
     "metadata": {},
     "output_type": "execute_result"
    }
   ],
   "source": [
    "Model.get_weights()"
   ]
  },
  {
   "cell_type": "code",
   "execution_count": 8,
   "metadata": {},
   "outputs": [
    {
     "name": "stdout",
     "output_type": "stream",
     "text": [
      "10000/10000 [==============================] - 0s 15us/sample - loss: 563.5074 - acc: 0.0000e+00\n"
     ]
    },
    {
     "data": {
      "text/plain": [
       "[563.507387109375, 0.0]"
      ]
     },
     "execution_count": 8,
     "metadata": {},
     "output_type": "execute_result"
    }
   ],
   "source": [
    "Model.evaluate(x, y)"
   ]
  },
  {
   "cell_type": "code",
   "execution_count": 9,
   "metadata": {},
   "outputs": [
    {
     "data": {
      "image/png": "[encoded data removed]",
      "text/plain": [
       "<Figure size 432x288 with 1 Axes>"
      ]
     },
     "metadata": {
      "needs_background": "light"
     },
     "output_type": "display_data"
    }
   ],
   "source": [
    "history = Model.history\n",
    "plt.plot(history.history['loss'])\n",
    "plt.plot(history.history['acc'])\n",
    "plt.title('Model accuracy')\n",
    "plt.ylabel('loss')\n",
    "plt.xlabel('acc')\n",
    "plt.legend(['loss', 'acc'], loc='upper left')\n",
    "plt.show()"
   ]
  },
  {
   "cell_type": "code",
   "execution_count": null,
   "metadata": {},
   "outputs": [],
   "source": []
  }
 ],
 "metadata": {
  "kernelspec": {
   "display_name": "Python 3",
   "language": "python",
   "name": "python3"
  },
  "language_info": {
   "codemirror_mode": {
    "name": "ipython",
    "version": 3
   },
   "file_extension": ".py",
   "mimetype": "text/x-python",
   "name": "python",
   "nbconvert_exporter": "python",
   "pygments_lexer": "ipython3",
   "version": "3.6.8"
  }
 },
 "nbformat": 4,
 "nbformat_minor": 2
}
