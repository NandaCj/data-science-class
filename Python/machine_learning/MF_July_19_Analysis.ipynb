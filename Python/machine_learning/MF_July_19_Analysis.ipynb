{
 "cells": [
  {
   "cell_type": "code",
   "execution_count": 1,
   "metadata": {},
   "outputs": [],
   "source": [
    "%matplotlib inline \n",
    "import pandas as pd \n",
    "import numpy as np\n",
    "from math import sqrt\n",
    "\n",
    "\n",
    "# Visualization Modules\n",
    "import matplotlib\n",
    "from matplotlib import pyplot as plt\n",
    "import seaborn as sns\n",
    "\n",
    "#Scipy Maths Models\n",
    "import statsmodels.api as sm\n",
    "from scipy import stats\n",
    "\n",
    "# Machine Learning Training Modules\n",
    "from sklearn.linear_model import LinearRegression\n",
    "from sklearn.metrics import mean_squared_error as mse\n",
    "from sklearn.metrics import r2_score\n",
    "from sklearn.model_selection import train_test_split\n",
    "\n",
    "from sklearn.model_selection import KFold"
   ]
  },
  {
   "cell_type": "code",
   "execution_count": 2,
   "metadata": {},
   "outputs": [
    {
     "name": "stderr",
     "output_type": "stream",
     "text": [
      "/home/nandagopal/PycharmProjects/data-science-class/venv/lib/python3.6/site-packages/ipykernel_launcher.py:4: ParserWarning: Falling back to the 'python' engine because the 'c' engine does not support skipfooter; you can avoid this warning by specifying engine='python'.\n",
      "  after removing the cwd from sys.path.\n"
     ]
    },
    {
     "data": {
      "text/html": [
       "<div>\n",
       "<style scoped>\n",
       "    .dataframe tbody tr th:only-of-type {\n",
       "        vertical-align: middle;\n",
       "    }\n",
       "\n",
       "    .dataframe tbody tr th {\n",
       "        vertical-align: top;\n",
       "    }\n",
       "\n",
       "    .dataframe thead th {\n",
       "        text-align: right;\n",
       "    }\n",
       "</style>\n",
       "<table border=\"1\" class=\"dataframe\">\n",
       "  <thead>\n",
       "    <tr style=\"text-align: right;\">\n",
       "      <th></th>\n",
       "      <th>Stock</th>\n",
       "      <th>Sector</th>\n",
       "      <th>Class</th>\n",
       "      <th>Month</th>\n",
       "      <th>BuyQuantity</th>\n",
       "      <th>BuyValue</th>\n",
       "    </tr>\n",
       "  </thead>\n",
       "  <tbody>\n",
       "    <tr>\n",
       "      <th>0</th>\n",
       "      <td>IndusInd Bank Ltd.</td>\n",
       "      <td>Financials</td>\n",
       "      <td>Large-Cap</td>\n",
       "      <td>July-2019</td>\n",
       "      <td>23185594</td>\n",
       "      <td>3273.03</td>\n",
       "    </tr>\n",
       "    <tr>\n",
       "      <th>1</th>\n",
       "      <td>NTPC Ltd.</td>\n",
       "      <td>Energy</td>\n",
       "      <td>Large-Cap</td>\n",
       "      <td>July-2019</td>\n",
       "      <td>193295426</td>\n",
       "      <td>2589.17</td>\n",
       "    </tr>\n",
       "    <tr>\n",
       "      <th>2</th>\n",
       "      <td>Coal India Ltd.</td>\n",
       "      <td>Energy</td>\n",
       "      <td>Large-Cap</td>\n",
       "      <td>July-2019</td>\n",
       "      <td>102987674</td>\n",
       "      <td>2359.70</td>\n",
       "    </tr>\n",
       "    <tr>\n",
       "      <th>3</th>\n",
       "      <td>Axis Bank Ltd.</td>\n",
       "      <td>Financials</td>\n",
       "      <td>Large-Cap</td>\n",
       "      <td>July-2019</td>\n",
       "      <td>31634687</td>\n",
       "      <td>2345.11</td>\n",
       "    </tr>\n",
       "    <tr>\n",
       "      <th>4</th>\n",
       "      <td>Oil &amp; Natural Gas Corporation Ltd.</td>\n",
       "      <td>Energy</td>\n",
       "      <td>Large-Cap</td>\n",
       "      <td>July-2019</td>\n",
       "      <td>147736432</td>\n",
       "      <td>2264.83</td>\n",
       "    </tr>\n",
       "  </tbody>\n",
       "</table>\n",
       "</div>"
      ],
      "text/plain": [
       "                                Stock      Sector      Class      Month  \\\n",
       "0                  IndusInd Bank Ltd.  Financials  Large-Cap  July-2019   \n",
       "1                           NTPC Ltd.      Energy  Large-Cap  July-2019   \n",
       "2                     Coal India Ltd.      Energy  Large-Cap  July-2019   \n",
       "3                      Axis Bank Ltd.  Financials  Large-Cap  July-2019   \n",
       "4  Oil & Natural Gas Corporation Ltd.      Energy  Large-Cap  July-2019   \n",
       "\n",
       "   BuyQuantity  BuyValue  \n",
       "0     23185594   3273.03  \n",
       "1    193295426   2589.17  \n",
       "2    102987674   2359.70  \n",
       "3     31634687   2345.11  \n",
       "4    147736432   2264.83  "
      ]
     },
     "execution_count": 2,
     "metadata": {},
     "output_type": "execute_result"
    }
   ],
   "source": [
    "data_file = 'Stock_Buy_Jul-19.csv' # make sure the path of the file is correct\n",
    "cols = ['Stock','Sector','Class','Month','BuyQuantity', 'BuyValue']\n",
    "datatypes = [str, str, str, str, np.int64, np.int64]\n",
    "df = pd.read_csv(data_file, names=cols, header=None, skiprows=1, skipfooter=6 )\n",
    "df.columns = cols\n",
    "df.head()"
   ]
  },
  {
   "cell_type": "code",
   "execution_count": 3,
   "metadata": {},
   "outputs": [
    {
     "name": "stdout",
     "output_type": "stream",
     "text": [
      "<class 'pandas.core.frame.DataFrame'>\n",
      "RangeIndex: 452 entries, 0 to 451\n",
      "Data columns (total 6 columns):\n",
      "Stock          452 non-null object\n",
      "Sector         452 non-null object\n",
      "Class          452 non-null object\n",
      "Month          452 non-null object\n",
      "BuyQuantity    452 non-null int64\n",
      "BuyValue       452 non-null float64\n",
      "dtypes: float64(1), int64(1), object(4)\n",
      "memory usage: 21.3+ KB\n"
     ]
    }
   ],
   "source": [
    "df.info()"
   ]
  },
  {
   "cell_type": "code",
   "execution_count": 4,
   "metadata": {},
   "outputs": [
    {
     "data": {
      "text/html": [
       "<div>\n",
       "<style scoped>\n",
       "    .dataframe tbody tr th:only-of-type {\n",
       "        vertical-align: middle;\n",
       "    }\n",
       "\n",
       "    .dataframe tbody tr th {\n",
       "        vertical-align: top;\n",
       "    }\n",
       "\n",
       "    .dataframe thead th {\n",
       "        text-align: right;\n",
       "    }\n",
       "</style>\n",
       "<table border=\"1\" class=\"dataframe\">\n",
       "  <thead>\n",
       "    <tr style=\"text-align: right;\">\n",
       "      <th></th>\n",
       "      <th>BuyQuantity</th>\n",
       "      <th>BuyValue</th>\n",
       "    </tr>\n",
       "  </thead>\n",
       "  <tbody>\n",
       "    <tr>\n",
       "      <th>count</th>\n",
       "      <td>4.520000e+02</td>\n",
       "      <td>452.000000</td>\n",
       "    </tr>\n",
       "    <tr>\n",
       "      <th>mean</th>\n",
       "      <td>3.139277e+06</td>\n",
       "      <td>81.981991</td>\n",
       "    </tr>\n",
       "    <tr>\n",
       "      <th>std</th>\n",
       "      <td>1.544239e+07</td>\n",
       "      <td>321.767062</td>\n",
       "    </tr>\n",
       "    <tr>\n",
       "      <th>min</th>\n",
       "      <td>2.000000e+00</td>\n",
       "      <td>0.000000</td>\n",
       "    </tr>\n",
       "    <tr>\n",
       "      <th>25%</th>\n",
       "      <td>8.476250e+03</td>\n",
       "      <td>0.427500</td>\n",
       "    </tr>\n",
       "    <tr>\n",
       "      <th>50%</th>\n",
       "      <td>1.000830e+05</td>\n",
       "      <td>3.960000</td>\n",
       "    </tr>\n",
       "    <tr>\n",
       "      <th>75%</th>\n",
       "      <td>7.401982e+05</td>\n",
       "      <td>27.142500</td>\n",
       "    </tr>\n",
       "    <tr>\n",
       "      <th>max</th>\n",
       "      <td>1.932954e+08</td>\n",
       "      <td>3273.030000</td>\n",
       "    </tr>\n",
       "  </tbody>\n",
       "</table>\n",
       "</div>"
      ],
      "text/plain": [
       "        BuyQuantity     BuyValue\n",
       "count  4.520000e+02   452.000000\n",
       "mean   3.139277e+06    81.981991\n",
       "std    1.544239e+07   321.767062\n",
       "min    2.000000e+00     0.000000\n",
       "25%    8.476250e+03     0.427500\n",
       "50%    1.000830e+05     3.960000\n",
       "75%    7.401982e+05    27.142500\n",
       "max    1.932954e+08  3273.030000"
      ]
     },
     "execution_count": 4,
     "metadata": {},
     "output_type": "execute_result"
    }
   ],
   "source": [
    "df.describe()"
   ]
  },
  {
   "cell_type": "code",
   "execution_count": 5,
   "metadata": {},
   "outputs": [],
   "source": [
    "sector_df = df.groupby(['Sector']).agg(len).reset_index()\n",
    "class_df = df.groupby(['Class']).agg(len).reset_index()"
   ]
  },
  {
   "cell_type": "code",
   "execution_count": 6,
   "metadata": {},
   "outputs": [
    {
     "data": {
      "text/plain": [
       "<matplotlib.axes._subplots.AxesSubplot at 0x7f7b8bf16b70>"
      ]
     },
     "execution_count": 6,
     "metadata": {},
     "output_type": "execute_result"
    },
    {
     "data": {
      "image/png": "[encoded data removed]",
      "text/plain": [
       "<Figure size 432x288 with 1 Axes>"
      ]
     },
     "metadata": {
      "needs_background": "light"
     },
     "output_type": "display_data"
    }
   ],
   "source": [
    "sector_df.plot(x = 'Sector', y='Stock' , kind='barh')"
   ]
  },
  {
   "cell_type": "code",
   "execution_count": 7,
   "metadata": {},
   "outputs": [
    {
     "data": {
      "text/plain": [
       "<matplotlib.axes._subplots.AxesSubplot at 0x7f7b8b6753c8>"
      ]
     },
     "execution_count": 7,
     "metadata": {},
     "output_type": "execute_result"
    },
    {
     "data": {
      "image/png": "[encoded data removed]",
      "text/plain": [
       "<Figure size 432x288 with 1 Axes>"
      ]
     },
     "metadata": {
      "needs_background": "light"
     },
     "output_type": "display_data"
    }
   ],
   "source": [
    "class_df.plot(x = 'Class', y='Stock' , kind='barh')"
   ]
  },
  {
   "cell_type": "code",
   "execution_count": 8,
   "metadata": {},
   "outputs": [
    {
     "data": {
      "text/html": [
       "<div>\n",
       "<style scoped>\n",
       "    .dataframe tbody tr th:only-of-type {\n",
       "        vertical-align: middle;\n",
       "    }\n",
       "\n",
       "    .dataframe tbody tr th {\n",
       "        vertical-align: top;\n",
       "    }\n",
       "\n",
       "    .dataframe thead th {\n",
       "        text-align: right;\n",
       "    }\n",
       "</style>\n",
       "<table border=\"1\" class=\"dataframe\">\n",
       "  <thead>\n",
       "    <tr style=\"text-align: right;\">\n",
       "      <th></th>\n",
       "      <th>Stock</th>\n",
       "      <th>Sector</th>\n",
       "      <th>Class</th>\n",
       "      <th>Month</th>\n",
       "      <th>BuyQuantity</th>\n",
       "      <th>BuyValue</th>\n",
       "    </tr>\n",
       "  </thead>\n",
       "  <tbody>\n",
       "    <tr>\n",
       "      <th>0</th>\n",
       "      <td>IndusInd Bank Ltd.</td>\n",
       "      <td>Financials</td>\n",
       "      <td>Large-Cap</td>\n",
       "      <td>July-2019</td>\n",
       "      <td>23185594</td>\n",
       "      <td>3273.03</td>\n",
       "    </tr>\n",
       "    <tr>\n",
       "      <th>3</th>\n",
       "      <td>Axis Bank Ltd.</td>\n",
       "      <td>Financials</td>\n",
       "      <td>Large-Cap</td>\n",
       "      <td>July-2019</td>\n",
       "      <td>31634687</td>\n",
       "      <td>2345.11</td>\n",
       "    </tr>\n",
       "    <tr>\n",
       "      <th>5</th>\n",
       "      <td>ICICI Bank Ltd.</td>\n",
       "      <td>Financials</td>\n",
       "      <td>Large-Cap</td>\n",
       "      <td>July-2019</td>\n",
       "      <td>44709013</td>\n",
       "      <td>1926.29</td>\n",
       "    </tr>\n",
       "    <tr>\n",
       "      <th>7</th>\n",
       "      <td>HDFC Bank Ltd.</td>\n",
       "      <td>Financials</td>\n",
       "      <td>Large-Cap</td>\n",
       "      <td>July-2019</td>\n",
       "      <td>5446788</td>\n",
       "      <td>1278.77</td>\n",
       "    </tr>\n",
       "    <tr>\n",
       "      <th>11</th>\n",
       "      <td>Power Finance Corporation Ltd.</td>\n",
       "      <td>Financials</td>\n",
       "      <td>Large-Cap</td>\n",
       "      <td>July-2019</td>\n",
       "      <td>61505104</td>\n",
       "      <td>750.21</td>\n",
       "    </tr>\n",
       "    <tr>\n",
       "      <th>14</th>\n",
       "      <td>Bajaj Finance Ltd.</td>\n",
       "      <td>Financials</td>\n",
       "      <td>Large-Cap</td>\n",
       "      <td>July-2019</td>\n",
       "      <td>1176408</td>\n",
       "      <td>407.81</td>\n",
       "    </tr>\n",
       "    <tr>\n",
       "      <th>17</th>\n",
       "      <td>Kotak Mahindra Bank Ltd.</td>\n",
       "      <td>Financials</td>\n",
       "      <td>Large-Cap</td>\n",
       "      <td>July-2019</td>\n",
       "      <td>2328512</td>\n",
       "      <td>348.88</td>\n",
       "    </tr>\n",
       "    <tr>\n",
       "      <th>20</th>\n",
       "      <td>Housing Development Finance Corporation Ltd.</td>\n",
       "      <td>Financials</td>\n",
       "      <td>Large-Cap</td>\n",
       "      <td>July-2019</td>\n",
       "      <td>1440204</td>\n",
       "      <td>310.64</td>\n",
       "    </tr>\n",
       "    <tr>\n",
       "      <th>23</th>\n",
       "      <td>Yes Bank Ltd.</td>\n",
       "      <td>Financials</td>\n",
       "      <td>Large-Cap</td>\n",
       "      <td>July-2019</td>\n",
       "      <td>26655972</td>\n",
       "      <td>266.50</td>\n",
       "    </tr>\n",
       "    <tr>\n",
       "      <th>42</th>\n",
       "      <td>ICICI Lombard General Insurance Co Ltd.</td>\n",
       "      <td>Financials</td>\n",
       "      <td>Large-Cap</td>\n",
       "      <td>July-2019</td>\n",
       "      <td>798930</td>\n",
       "      <td>92.67</td>\n",
       "    </tr>\n",
       "    <tr>\n",
       "      <th>47</th>\n",
       "      <td>ICICI Prudential Life Insurance Company Ltd.</td>\n",
       "      <td>Financials</td>\n",
       "      <td>Large-Cap</td>\n",
       "      <td>July-2019</td>\n",
       "      <td>1651938</td>\n",
       "      <td>65.28</td>\n",
       "    </tr>\n",
       "    <tr>\n",
       "      <th>52</th>\n",
       "      <td>SBI Life Insurance Company Ltd.</td>\n",
       "      <td>Financials</td>\n",
       "      <td>Large-Cap</td>\n",
       "      <td>July-2019</td>\n",
       "      <td>699921</td>\n",
       "      <td>53.24</td>\n",
       "    </tr>\n",
       "    <tr>\n",
       "      <th>57</th>\n",
       "      <td>Bank Of Baroda</td>\n",
       "      <td>Financials</td>\n",
       "      <td>Large-Cap</td>\n",
       "      <td>July-2019</td>\n",
       "      <td>2340445</td>\n",
       "      <td>26.72</td>\n",
       "    </tr>\n",
       "    <tr>\n",
       "      <th>63</th>\n",
       "      <td>Bajaj Holdings &amp; Investment Ltd.</td>\n",
       "      <td>Financials</td>\n",
       "      <td>Large-Cap</td>\n",
       "      <td>July-2019</td>\n",
       "      <td>45329</td>\n",
       "      <td>15.86</td>\n",
       "    </tr>\n",
       "    <tr>\n",
       "      <th>67</th>\n",
       "      <td>General Insurance Corporation of India Ltd.</td>\n",
       "      <td>Financials</td>\n",
       "      <td>Large-Cap</td>\n",
       "      <td>July-2019</td>\n",
       "      <td>107127</td>\n",
       "      <td>2.19</td>\n",
       "    </tr>\n",
       "  </tbody>\n",
       "</table>\n",
       "</div>"
      ],
      "text/plain": [
       "                                           Stock      Sector      Class  \\\n",
       "0                             IndusInd Bank Ltd.  Financials  Large-Cap   \n",
       "3                                 Axis Bank Ltd.  Financials  Large-Cap   \n",
       "5                                ICICI Bank Ltd.  Financials  Large-Cap   \n",
       "7                                 HDFC Bank Ltd.  Financials  Large-Cap   \n",
       "11                Power Finance Corporation Ltd.  Financials  Large-Cap   \n",
       "14                            Bajaj Finance Ltd.  Financials  Large-Cap   \n",
       "17                      Kotak Mahindra Bank Ltd.  Financials  Large-Cap   \n",
       "20  Housing Development Finance Corporation Ltd.  Financials  Large-Cap   \n",
       "23                                 Yes Bank Ltd.  Financials  Large-Cap   \n",
       "42       ICICI Lombard General Insurance Co Ltd.  Financials  Large-Cap   \n",
       "47  ICICI Prudential Life Insurance Company Ltd.  Financials  Large-Cap   \n",
       "52               SBI Life Insurance Company Ltd.  Financials  Large-Cap   \n",
       "57                                Bank Of Baroda  Financials  Large-Cap   \n",
       "63              Bajaj Holdings & Investment Ltd.  Financials  Large-Cap   \n",
       "67   General Insurance Corporation of India Ltd.  Financials  Large-Cap   \n",
       "\n",
       "        Month  BuyQuantity  BuyValue  \n",
       "0   July-2019     23185594   3273.03  \n",
       "3   July-2019     31634687   2345.11  \n",
       "5   July-2019     44709013   1926.29  \n",
       "7   July-2019      5446788   1278.77  \n",
       "11  July-2019     61505104    750.21  \n",
       "14  July-2019      1176408    407.81  \n",
       "17  July-2019      2328512    348.88  \n",
       "20  July-2019      1440204    310.64  \n",
       "23  July-2019     26655972    266.50  \n",
       "42  July-2019       798930     92.67  \n",
       "47  July-2019      1651938     65.28  \n",
       "52  July-2019       699921     53.24  \n",
       "57  July-2019      2340445     26.72  \n",
       "63  July-2019        45329     15.86  \n",
       "67  July-2019       107127      2.19  "
      ]
     },
     "execution_count": 8,
     "metadata": {},
     "output_type": "execute_result"
    }
   ],
   "source": [
    "df[(df.Class == 'Large-Cap') & (df.Sector == 'Financials')].sort_values('BuyValue', ascending=False)"
   ]
  },
  {
   "cell_type": "markdown",
   "metadata": {},
   "source": [
    "# Stratfied Sampling "
   ]
  },
  {
   "cell_type": "code",
   "execution_count": 9,
   "metadata": {},
   "outputs": [],
   "source": [
    "kf = KFold(n_splits=3)"
   ]
  },
  {
   "cell_type": "code",
   "execution_count": 10,
   "metadata": {},
   "outputs": [
    {
     "ename": "SyntaxError",
     "evalue": "invalid syntax (<ipython-input-10-1045ddf435c2>, line 1)",
     "output_type": "error",
     "traceback": [
      "\u001b[0;36m  File \u001b[0;32m\"<ipython-input-10-1045ddf435c2>\"\u001b[0;36m, line \u001b[0;32m1\u001b[0m\n\u001b[0;31m    kf.\u001b[0m\n\u001b[0m       ^\u001b[0m\n\u001b[0;31mSyntaxError\u001b[0m\u001b[0;31m:\u001b[0m invalid syntax\n"
     ]
    }
   ],
   "source": [
    "kf."
   ]
  }
 ],
 "metadata": {
  "kernelspec": {
   "display_name": "Python 3",
   "language": "python",
   "name": "python3"
  },
  "language_info": {
   "codemirror_mode": {
    "name": "ipython",
    "version": 3
   },
   "file_extension": ".py",
   "mimetype": "text/x-python",
   "name": "python",
   "nbconvert_exporter": "python",
   "pygments_lexer": "ipython3",
   "version": "3.6.8"
  }
 },
 "nbformat": 4,
 "nbformat_minor": 2
}
