{
 "cells": [
  {
   "cell_type": "code",
   "execution_count": 1,
   "metadata": {},
   "outputs": [],
   "source": [
    "import pandas as pd \n",
    "import numpy as np\n",
    "from sklearn.linear_model import LinearRegression\n",
    "\n",
    "lr_reg = LinearRegression()"
   ]
  },
  {
   "cell_type": "code",
   "execution_count": 2,
   "metadata": {},
   "outputs": [
    {
     "name": "stdout",
     "output_type": "stream",
     "text": [
      "Intercept (C) = [1.] \n",
      " Co_efficient = [[2.]]\n",
      "Predicted : [[5.]]\n"
     ]
    }
   ],
   "source": [
    "Data = {'X' : [1,2,3,4,5],\n",
    "        'Y' : [3,5,7,9,11]}\n",
    "\n",
    "df = pd.DataFrame(Data)\n",
    "lr_reg.fit(X = df.X.values.reshape(-1,1), y =df.Y.values.reshape(-1,1))\n",
    "pred_val = lr_reg.predict([[2]])\n",
    "\n",
    "print(\"Intercept (C) = {} \\n Co_efficient = {}\".format(lr_reg.intercept_, lr_reg.coef_))\n",
    "print(\"Predicted : {}\".format(pred_val))\n"
   ]
  },
  {
   "cell_type": "code",
   "execution_count": null,
   "metadata": {},
   "outputs": [],
   "source": []
  }
 ],
 "metadata": {
  "kernelspec": {
   "display_name": "Python 3",
   "language": "python",
   "name": "python3"
  },
  "language_info": {
   "codemirror_mode": {
    "name": "ipython",
    "version": 3
   },
   "file_extension": ".py",
   "mimetype": "text/x-python",
   "name": "python",
   "nbconvert_exporter": "python",
   "pygments_lexer": "ipython3",
   "version": "3.6.8"
  }
 },
 "nbformat": 4,
 "nbformat_minor": 2
}
